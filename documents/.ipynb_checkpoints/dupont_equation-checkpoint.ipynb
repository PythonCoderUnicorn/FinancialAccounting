{
 "cells": [
  {
   "cell_type": "markdown",
   "metadata": {},
   "source": [
    "# Dupont Equation"
   ]
  },
  {
   "cell_type": "code",
   "execution_count": 31,
   "metadata": {},
   "outputs": [],
   "source": [
    "assets = {\n",
    "    'net_income': 185,\n",
    "    'net_sales': 2628,\n",
    "    'beginning_assets': 5954,\n",
    "    'ending_assets': 4601,\n",
    "    'ending_equity': 1105\n",
    "}\n",
    "\n",
    "answers = []"
   ]
  },
  {
   "cell_type": "code",
   "execution_count": 32,
   "metadata": {},
   "outputs": [],
   "source": [
    "def profit_margin(dict_):\n",
    "    assets_list = list(dict_.values())\n",
    "\n",
    "    profit_margin = assets_list[0] / assets_list[1]\n",
    "    answers.append(profit_margin)\n",
    "    print(\"Profit margin = $ {:,.2f}\".format(profit_margin))"
   ]
  },
  {
   "cell_type": "code",
   "execution_count": 33,
   "metadata": {},
   "outputs": [
    {
     "name": "stdout",
     "output_type": "stream",
     "text": [
      "Profit margin = $ 0.07\n"
     ]
    }
   ],
   "source": [
    "profit_margin(assets)"
   ]
  },
  {
   "cell_type": "code",
   "execution_count": 21,
   "metadata": {},
   "outputs": [],
   "source": [
    "def avg_total_assets( dict_):\n",
    "    assets_list = list(dict_.values())\n",
    "\n",
    "    avg_tot_assets = (assets_list[2] + assets_list[3] ) / 2\n",
    "    answers.append(avg_tot_assets)\n",
    "    print(\"Average total assets = $ {:.2f}\".format(avg_tot_assets))"
   ]
  },
  {
   "cell_type": "code",
   "execution_count": 22,
   "metadata": {},
   "outputs": [
    {
     "name": "stdout",
     "output_type": "stream",
     "text": [
      "Average total assets = $ 5277.50\n"
     ]
    }
   ],
   "source": [
    "avg_total_assets(assets)"
   ]
  },
  {
   "cell_type": "code",
   "execution_count": 23,
   "metadata": {},
   "outputs": [],
   "source": [
    "def asset_turnover( dict_):\n",
    "    assets_list = list(dict_.values())\n",
    "\n",
    "    avg_tot_assets = (assets_list[2] + assets_list[3] ) / 2\n",
    "\n",
    "    turnover = assets_list[1] / avg_tot_assets\n",
    "\n",
    "    answers.append(turnover)\n",
    "    \n",
    "    print(\"The assest turnover = $ {:.2f}\".format(turnover))"
   ]
  },
  {
   "cell_type": "code",
   "execution_count": 24,
   "metadata": {},
   "outputs": [
    {
     "name": "stdout",
     "output_type": "stream",
     "text": [
      "The assest turnover = $ 0.50\n"
     ]
    }
   ],
   "source": [
    "asset_turnover(assets)"
   ]
  },
  {
   "cell_type": "code",
   "execution_count": 25,
   "metadata": {},
   "outputs": [],
   "source": [
    "def financial_leverage( dict_):\n",
    "    assets_list = list(dict_.values())\n",
    "\n",
    "    fin_lev = assets_list[3] / assets_list[4]\n",
    "\n",
    "    answers.append(fin_lev)\n",
    "    print(\"Financial leverage = $ {:.2f}\".format(fin_lev))"
   ]
  },
  {
   "cell_type": "code",
   "execution_count": 26,
   "metadata": {},
   "outputs": [
    {
     "name": "stdout",
     "output_type": "stream",
     "text": [
      "Financial leverage = $ 4.16\n"
     ]
    }
   ],
   "source": [
    "financial_leverage(assets)"
   ]
  },
  {
   "cell_type": "code",
   "execution_count": 27,
   "metadata": {},
   "outputs": [
    {
     "name": "stdout",
     "output_type": "stream",
     "text": [
      "[4.163800904977376, 0.49796305068687824, 0.07039573820395738, 5277.5, 0.49796305068687824, 4.163800904977376]\n"
     ]
    }
   ],
   "source": [
    "\n",
    "print(answers)\n",
    "\n",
    "def return_on_equity(answers):\n",
    "    roe = answers[0] * answers[2] * answers[3]\n",
    "    print(\"Return on equity = $ {:.2f}\".format(roe))\n",
    "\n",
    "\n"
   ]
  },
  {
   "cell_type": "code",
   "execution_count": 28,
   "metadata": {},
   "outputs": [
    {
     "name": "stdout",
     "output_type": "stream",
     "text": [
      "Return on equity = $ 1546.91\n"
     ]
    }
   ],
   "source": [
    "return_on_equity(answers)\n"
   ]
  },
  {
   "cell_type": "code",
   "execution_count": 29,
   "metadata": {},
   "outputs": [],
   "source": [
    "class Dupont_equation:\n",
    "    def __init__(self, dict_, list_) -> None:\n",
    "        self.dict_ = dict_ \n",
    "        self.list_ = list_ \n",
    "    \n",
    "    def profit_margin(self,dict_):\n",
    "        assets_list = list(self.dict_.values())\n",
    "\n",
    "        profit_margin = assets_list[0] / assets_list[1]\n",
    "        answers.append(profit_margin)\n",
    "        print(\"Profit margin = $ {:,.2f}\".format(profit_margin))\n",
    "\n",
    "\n",
    "    def avg_total_assets( self, dict_):\n",
    "        assets_list = list(self.dict_.values())\n",
    "\n",
    "        avg_tot_assets = (assets_list[2] + assets_list[3] ) / 2\n",
    "        answers.append(avg_tot_assets)\n",
    "        print(\"Average total assets = $ {:.2f}\".format(avg_tot_assets))\n",
    "\n",
    "\n",
    "    def asset_turnover( self, dict_):\n",
    "        assets_list = list(self.dict_.values())\n",
    "\n",
    "        avg_tot_assets = (assets_list[2] + assets_list[3] ) / 2\n",
    "\n",
    "        turnover = assets_list[1] / avg_tot_assets\n",
    "\n",
    "        answers.append(turnover)\n",
    "        \n",
    "        print(\"The asset turnover = $ {:.2f}\".format(turnover))\n",
    "\n",
    "\n",
    "    def financial_leverage( self,dict_ ):\n",
    "        assets_list = list(self.dict_.values())\n",
    "\n",
    "        fin_lev = assets_list[3] / assets_list[4]\n",
    "\n",
    "        answers.append(fin_lev)\n",
    "        print(\"Financial leverage = $ {:.2f}\".format(fin_lev))\n",
    "\n",
    "\n",
    "    def return_on_equity(self, answers):\n",
    "        roe = answers[0] * answers[2] * answers[3]\n",
    "        print(\"Return on equity = {:.2f}%\".format(roe * 100))\n",
    "\n",
    " \n",
    "        "
   ]
  },
  {
   "cell_type": "code",
   "execution_count": 16,
   "metadata": {},
   "outputs": [
    {
     "ename": "IndexError",
     "evalue": "list index out of range",
     "output_type": "error",
     "traceback": [
      "\u001b[0;31m---------------------------------------------------------------------------\u001b[0m",
      "\u001b[0;31mIndexError\u001b[0m                                Traceback (most recent call last)",
      "Input \u001b[0;32mIn [16]\u001b[0m, in \u001b[0;36m<cell line: 3>\u001b[0;34m()\u001b[0m\n\u001b[1;32m      1\u001b[0m du \u001b[38;5;241m=\u001b[39m Dupont_equation(assets, answers)\n\u001b[0;32m----> 3\u001b[0m \u001b[43mdu\u001b[49m\u001b[38;5;241;43m.\u001b[39;49m\u001b[43mreturn_on_equity\u001b[49m\u001b[43m(\u001b[49m\u001b[43manswers\u001b[49m\u001b[43m)\u001b[49m\n",
      "Input \u001b[0;32mIn [14]\u001b[0m, in \u001b[0;36mDupont_equation.return_on_equity\u001b[0;34m(self, answers)\u001b[0m\n\u001b[1;32m     43\u001b[0m \u001b[38;5;28;01mdef\u001b[39;00m \u001b[38;5;21mreturn_on_equity\u001b[39m(\u001b[38;5;28mself\u001b[39m, answers):\n\u001b[0;32m---> 44\u001b[0m     roe \u001b[38;5;241m=\u001b[39m answers[\u001b[38;5;241m0\u001b[39m] \u001b[38;5;241m*\u001b[39m \u001b[43manswers\u001b[49m\u001b[43m[\u001b[49m\u001b[38;5;241;43m2\u001b[39;49m\u001b[43m]\u001b[49m \u001b[38;5;241m*\u001b[39m answers[\u001b[38;5;241m3\u001b[39m]\n\u001b[1;32m     45\u001b[0m     \u001b[38;5;28mprint\u001b[39m(\u001b[38;5;124m\"\u001b[39m\u001b[38;5;124mReturn on equity = \u001b[39m\u001b[38;5;132;01m{:.2f}\u001b[39;00m\u001b[38;5;124m%\u001b[39m\u001b[38;5;124m\"\u001b[39m\u001b[38;5;241m.\u001b[39mformat(roe \u001b[38;5;241m*\u001b[39m \u001b[38;5;241m100\u001b[39m))\n",
      "\u001b[0;31mIndexError\u001b[0m: list index out of range"
     ]
    }
   ],
   "source": [
    "du = Dupont_equation(assets, answers)\n",
    "\n",
    "du.return_on_equity(answers)"
   ]
  },
  {
   "cell_type": "code",
   "execution_count": 11,
   "metadata": {},
   "outputs": [
    {
     "name": "stdout",
     "output_type": "stream",
     "text": [
      "Financial leverage = $ 4.16\n",
      "The asset turnover = $ 0.50\n"
     ]
    }
   ],
   "source": [
    "du.financial_leverage(assets)\n",
    "du.asset_turnover(assets)"
   ]
  },
  {
   "cell_type": "code",
   "execution_count": null,
   "metadata": {},
   "outputs": [],
   "source": []
  },
  {
   "cell_type": "code",
   "execution_count": null,
   "metadata": {},
   "outputs": [],
   "source": []
  },
  {
   "cell_type": "code",
   "execution_count": null,
   "metadata": {},
   "outputs": [],
   "source": []
  },
  {
   "cell_type": "code",
   "execution_count": 48,
   "metadata": {},
   "outputs": [
    {
     "name": "stdout",
     "output_type": "stream",
     "text": [
      "14\n",
      " hi() calls func() : None\n"
     ]
    }
   ],
   "source": [
    "# https://www.geeksforgeeks.org/passing-function-as-an-argument-in-python/\n",
    "\n",
    "def add(num, num2):\n",
    "    print( num + num2)\n",
    "\n",
    "def hi(func):\n",
    "    w = 6\n",
    "    k = 8\n",
    "    x = func(w,k)\n",
    "    print(f\" hi() calls func() : {x}\")\n",
    "\n",
    "hi(add)"
   ]
  },
  {
   "cell_type": "code",
   "execution_count": null,
   "metadata": {},
   "outputs": [],
   "source": []
  },
  {
   "cell_type": "code",
   "execution_count": null,
   "metadata": {},
   "outputs": [],
   "source": []
  },
  {
   "cell_type": "code",
   "execution_count": null,
   "metadata": {},
   "outputs": [],
   "source": []
  },
  {
   "cell_type": "code",
   "execution_count": 34,
   "metadata": {},
   "outputs": [],
   "source": [
    "def make_profit_margin(net_income,net_sales):\n",
    "    profit_margin = net_income/net_sales\n",
    "    return profit_margin\n",
    "\n",
    "def make_average_total_assets(beginning_assets, ending_assets):\n",
    "    average_total_assets = (beginning_assets + ending_assets)/2\n",
    "    return average_total_assets\n",
    "\n",
    "def make_asset_turnover(net_sales, average_total_assets):\n",
    "    asset_turnover = net_sales/average_total_assets\n",
    "    return asset_turnover\n",
    "\n",
    "def make_financial_leverage(ending_assets,ending_equity):\n",
    "    financial_leverage = ending_assets/ending_equity\n",
    "    return financial_leverage\n",
    "\n",
    "def make_return_on_equity(profit_margin, asset_turnover, financial_leverage):\n",
    "    return_on_equity = profit_margin * asset_turnover * financial_leverage\n",
    "    return return_on_equity\n",
    "\n",
    "def print_percentage(float_num):\n",
    "    percentage_number = float_num*100\n",
    "    decimal_index = str(percentage_number).find(\".\")\n",
    "    percent_return = f'{percentage_number:{decimal_index}.1f}%'\n",
    "    return percent_return\n",
    "\n",
    "def dupont_equation(pl,bs):\n",
    "    profit_margin = make_profit_margin(pl['net_income'], pl['net_sales'])\n",
    "    average_total_assets = make_average_total_assets(bs['beginning_assets'], bs['ending_assets'])\n",
    "    asset_turnover = make_asset_turnover(pl['net_sales'], average_total_assets)\n",
    "    financial_leverage = make_financial_leverage(bs['ending_assets'], bs['ending_equity'])\n",
    "    return_on_equity = make_return_on_equity(profit_margin, asset_turnover, financial_leverage)\n",
    "    return return_on_equity"
   ]
  },
  {
   "cell_type": "code",
   "execution_count": null,
   "metadata": {},
   "outputs": [],
   "source": []
  }
 ],
 "metadata": {
  "kernelspec": {
   "display_name": "Python 3 (ipykernel)",
   "language": "python",
   "name": "python3"
  },
  "language_info": {
   "codemirror_mode": {
    "name": "ipython",
    "version": 3
   },
   "file_extension": ".py",
   "mimetype": "text/x-python",
   "name": "python",
   "nbconvert_exporter": "python",
   "pygments_lexer": "ipython3",
   "version": "3.9.12"
  },
  "vscode": {
   "interpreter": {
    "hash": "aee8b7b246df8f9039afb4144a1f6fd8d2ca17a180786b69acc140d282b71a49"
   }
  }
 },
 "nbformat": 4,
 "nbformat_minor": 4
}
