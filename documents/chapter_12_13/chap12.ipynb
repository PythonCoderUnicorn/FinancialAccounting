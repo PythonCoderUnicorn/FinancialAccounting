{
 "cells": [
  {
   "cell_type": "markdown",
   "metadata": {},
   "source": [
    "# Chapter 12 - investments"
   ]
  },
  {
   "cell_type": "markdown",
   "metadata": {},
   "source": [
    "## Valuation of non-strategic investments\n",
    "\n",
    "- `fair value via profit or loss model`\n",
    "  - debt or equity investments (used for)\n",
    "  - fair value (investment valued at)\n",
    "  - income statements (for interest/ dividends/ gains or losses/ realized gains or losses)\n",
    "- `fair value via comprehensive income (OCI) model`\n",
    "  - debt or equity investment (used for)\n",
    "  - fair value  (investment valued at)\n",
    "  - income statement (interest/ dividend revenue)\n",
    "  - OCI \n",
    "- `amortized cost model`\n",
    "  - debt investment (used for)\n",
    "  - amortized cost  (investment valued at)\n",
    "  - income statement (interest revenue)\n",
    "  - dividend revenue = N/A\n",
    "  - unrealized gains = N/A\n",
    "  - income statement (realized gains/loss)\n",
    "- `cost model`\n",
    "  - equity invstments (used for)\n",
    "  - cost (investment valued at)\n",
    "  - N/A  (interest revenue)\n",
    "  - income statement (dividend revenue)\n",
    "  - N/A (unrealized gains)\n",
    "  - income statement (realized gains/loss)\n",
    "\n",
    "\n",
    "\n",
    "\n"
   ]
  },
  {
   "cell_type": "markdown",
   "metadata": {},
   "source": [
    "Fair value via profit / loss"
   ]
  },
  {
   "cell_type": "code",
   "execution_count": 1,
   "metadata": {},
   "outputs": [
    {
     "name": "stdout",
     "output_type": "stream",
     "text": [
      "Unrealized gain (loss0 = $-2000.00\n"
     ]
    }
   ],
   "source": [
    "fair_value = 48_000\n",
    "carrying_amount_cost = 50_000\n",
    "\n",
    "unrealized_gain_loss = fair_value - carrying_amount_cost \n",
    "print(\"Unrealized gain (loss0 = ${:.2f}\".format(unrealized_gain_loss))"
   ]
  },
  {
   "cell_type": "code",
   "execution_count": null,
   "metadata": {},
   "outputs": [],
   "source": []
  },
  {
   "cell_type": "markdown",
   "metadata": {},
   "source": [
    "# chapter 13 - cash flows"
   ]
  },
  {
   "cell_type": "markdown",
   "metadata": {},
   "source": [
    "cash and cash equivalents (term deposits maturing < 90 days, liabilities like bank overdraft, loans repayable on demand) \n",
    "\n",
    "activities reported \n",
    "\n",
    "- operatiung activities\n",
    "- investing activities\n",
    "- financing activities\n",
    "\n",
    "\n",
    "not reported\n",
    "\n",
    "- issue of shares to purchase assets or reduce liabilities\n",
    "- conversion of debt into equity\n",
    "- exchange or property, plant, equipment\n",
    "\n",
    "\n",
    "\n",
    "## Statement of cash flows\n",
    "\n",
    "preparation to make statement of cash flow\n",
    "\n",
    "1. `comparative statement of financial position` to determine the amounts of the changes in assets, liabilities and shareholder equity from beginning period to end\n",
    "2. `income statement` noncash current asset and current liability accounts used to determine the amount of cash provided or used by operating activities during the period\n",
    "3. additional info needed to determine how cash was used or provided during the period\n",
    "\n",
    "\n",
    "#### step 1 - prep operating activities section\n",
    "\n",
    "- determine the net cash provided by operating activities by converting net income from accrual basis to a cash basis. \n",
    "- analyze the current year's income statement , releveant current asset and current liability accounts from comparative statement of financial position\n",
    "\n",
    "\n",
    "#### step 2 - prep investing activities section\n",
    "\n",
    "- determine the net cash provided by investing activities by analyzing charges in non-current asset accounts from the comparative statement of financial position and selected info\n",
    "\n",
    "#### step 3 - prep financing activities section \n",
    "\n",
    "- determine the net cash provided (used) by financing activities by analyzing charges in non-current asset accounts from the comparative statement of financial position and selected info\n",
    "\n",
    "#### step 4 - complete statement of cash flows\n",
    "\n",
    "- determine the net increase in cash \n",
    "- compare the net change in cash reported on the statement of cash flows with the change in cash reported on the statement of financial position to make sure amounts agree"
   ]
  },
  {
   "cell_type": "code",
   "execution_count": 69,
   "metadata": {},
   "outputs": [],
   "source": [
    "corp_financial_position = [ \n",
    "    {\n",
    "    'year': 2018,\n",
    "    'current_assets_cash':  55_000,\n",
    "    'accounts_receivable': 20_000,\n",
    "    'inventory': 15_000,\n",
    "    'prepaid\"expense': 5_000,\n",
    "    # PPE\n",
    "    'land': 140_000,\n",
    "    'buildings': 160_000,\n",
    "    'accumulated_depreciation_bldgs': 11_000,\n",
    "    'equipment':27_000,\n",
    "    'accumulated_depreciation_equip': 3_000,\n",
    "    # liabilities\n",
    "    'accounts_payable': 17_000,\n",
    "    'dividends_payable': 2_000,\n",
    "    'income_tax_payable': 6_000,\n",
    "    'current_portion_mortgage_payable': 15_000,\n",
    "    'non_current_mortgage_payable': 124_000,\n",
    "    'accrued_liabilities': 0,\n",
    "    # shareholder\n",
    "    'common_shares': 70_000,\n",
    "    'retained_earnings': 164_000,\n",
    "    'accumulated_OCI': 10_000\n",
    "    },\n",
    "\n",
    "    {\n",
    "    'year': 2017,\n",
    "    'current_assets_cash':  33_000,\n",
    "    'accounts_receivable': 30_000,\n",
    "    'inventory': 10_000,\n",
    "    'prepaid\"expense': 1_000,\n",
    "    # PPE\n",
    "    'land': 30_000,\n",
    "    'buildings': 40_000,\n",
    "    'accumulated_depreciation_bldgs': -5_000,\n",
    "    'equipment': 10_000,\n",
    "    'accumulated_depreciation_equip': -1_000,\n",
    "    # liabilities\n",
    "    'accounts_payable': 10_000,\n",
    "    'dividends_payable': 1_000,\n",
    "    'income_tax_payable': 8_000,\n",
    "    'current_portion_mortgage_payable': 6_000,\n",
    "    'non_current_mortgage_payable': 15_000,\n",
    "    'accrued_liabilities': 0,\n",
    "    # shareholder\n",
    "    'common_shares': 50_000,\n",
    "    'retained_earnings': 48_000,\n",
    "    'accumulated_OCI': 10_000\n",
    "    }\n",
    "]\n",
    "\n",
    "\n",
    "corp_income_statement = {\n",
    "    'sales_revenue': 507_000,\n",
    "    'cost_of_goods_sold': 150_000,\n",
    "    'operating_expenses': 141_000,\n",
    "    'depreciation_expense': 9_000,\n",
    "    'loss_on_disposal_equipment': 3_000,\n",
    "    'interest_expense': 12_000,\n",
    "    'income_tax_expense': 47_000,\n",
    "    'unearned_revenue': 0\n",
    "}\n",
    "\n",
    "\n",
    "# increase or decreae is a column1 subtract column2"
   ]
  },
  {
   "cell_type": "markdown",
   "metadata": {},
   "source": [
    "net cash used by operations = net income +/- adjustments\n",
    "\n",
    "- adjustments: \n",
    "  - add noncash expenses\n",
    "  - add losses & deduct gains\n",
    "  - add decreases in current asset accounts & increase current liability accounts \n",
    "  - or deduct increases in current asset accounts & decrease in current liability accounts"
   ]
  },
  {
   "cell_type": "markdown",
   "metadata": {},
   "source": [
    "free cash flow"
   ]
  },
  {
   "cell_type": "code",
   "execution_count": 15,
   "metadata": {},
   "outputs": [],
   "source": [
    "free_cash = [ \n",
    "    {\n",
    "        'year': 2015,\n",
    "        'net_cash_operations': 1951,\n",
    "        'net_capital_expenditures': 1104,\n",
    "        'cash_dividends': 374\n",
    "    },\n",
    "        {\n",
    "        'year': 2014,\n",
    "        'net_cash_operations': 2278,\n",
    "        'net_capital_expenditures': 2223,\n",
    "        'cash_dividends': 518\n",
    "    }\n",
    "]"
   ]
  },
  {
   "cell_type": "code",
   "execution_count": 23,
   "metadata": {},
   "outputs": [],
   "source": [
    "def free_cashflow( array ):\n",
    "    free_flow_1 = free_cash[0]['net_cash_operations'] - free_cash[0]['net_capital_expenditures'] - free_cash[0]['cash_dividends']\n",
    "    year = free_cash[0]['year']\n",
    "\n",
    "    free_flow_2 = free_cash[1]['net_cash_operations'] - free_cash[1]['net_capital_expenditures'] - free_cash[1]['cash_dividends']\n",
    "    year2 = free_cash[1]['year']\n",
    "\n",
    "    print(\"Free cash flow = ${:,} ({})\".format(free_flow_1, year))\n",
    "    print(\"Free cash flow = ${:,} ({})\".format(free_flow_2, year2))"
   ]
  },
  {
   "cell_type": "code",
   "execution_count": 24,
   "metadata": {},
   "outputs": [
    {
     "name": "stdout",
     "output_type": "stream",
     "text": [
      "Free cash flow = $473 (2015)\n",
      "Free cash flow = $-463 (2014)\n"
     ]
    }
   ],
   "source": [
    "free_cashflow( free_cash )"
   ]
  },
  {
   "cell_type": "markdown",
   "metadata": {},
   "source": [
    "### cash payments to suppliers\n",
    "\n",
    "- cost of goods purchased\n",
    "- cash payments to suppliers"
   ]
  },
  {
   "cell_type": "code",
   "execution_count": 90,
   "metadata": {},
   "outputs": [
    {
     "name": "stdout",
     "output_type": "stream",
     "text": [
      "Cash receipts from customers = $517,000\n",
      "Cost of goods purchased = $155,000\n",
      "Cash payments to suppliers = $148,000\n",
      "Cash payments for operating expenses = $145,000\n",
      "Cash payments for income tax = $49,000\n",
      "Cash payments for interest = $12,000\n",
      "Total Cash payments  = $354,000\n",
      " Net cash provided by operating activities = $163,000\n"
     ]
    }
   ],
   "source": [
    "def cash_payments( array, dict ):\n",
    "\n",
    "    accounts_rec_diff = abs( array[0]['accounts_receivable'] - array[1]['accounts_receivable'] )\n",
    "    cash_receipts = accounts_rec_diff + dict['sales_revenue'] + dict['unearned_revenue']\n",
    "\n",
    "    inventory_diff = array[0]['inventory'] - array[1]['inventory']\n",
    "    cost_of_goods_sold = dict['cost_of_goods_sold']\n",
    "    purchased_cost = inventory_diff + cost_of_goods_sold\n",
    "\n",
    "    accounts_payable_diff = array[0]['accounts_payable'] - array[1]['accounts_payable']\n",
    "    cash_suppliers = purchased_cost - accounts_payable_diff\n",
    "\n",
    "    operating_exp = dict['operating_expenses']\n",
    "    prepaid_expense_diff = array[0]['prepaid\"expense'] - array[1]['prepaid\"expense']\n",
    "    accrued_liab_diff = array[0]['accrued_liabilities'] - array[1]['accrued_liabilities']\n",
    "    payments_ops = operating_exp + prepaid_expense_diff + accrued_liab_diff\n",
    "\n",
    "\n",
    "    income_tax_diff = abs( array[0]['income_tax_payable'] - array[1]['income_tax_payable'] )\n",
    "    income_tax_exp = dict['income_tax_expense']\n",
    "    pay_income_tax = income_tax_diff + income_tax_exp\n",
    "\n",
    "    pay_interest = dict['interest_expense']\n",
    "\n",
    "    total_cash_payments = cash_suppliers + payments_ops + pay_income_tax + pay_interest\n",
    "    net_cash_by_ops = cash_receipts - total_cash_payments\n",
    "\n",
    "    # -------------\n",
    "    print(\"Cash receipts from customers = ${:,}\".format(cash_receipts))\n",
    "    print(\"Cost of goods purchased = ${:,}\".format(purchased_cost))\n",
    "    print(\"Cash payments to suppliers = ${:,}\".format(cash_suppliers))\n",
    "    print(\"Cash payments for operating expenses = ${:,}\".format(payments_ops))\n",
    "    print(\"Cash payments for income tax = ${:,}\".format(pay_income_tax))\n",
    "    print(\"Cash payments for interest = ${:,}\".format(pay_interest))\n",
    "    print(\"Total Cash payments  = ${:,}\".format(total_cash_payments))\n",
    "    print(\" Net cash provided by operating activities = ${:,}\".format(net_cash_by_ops))\n",
    "\n",
    "\n",
    "# -------\n",
    "cash_payments( corp_financial_position, corp_income_statement )\n"
   ]
  },
  {
   "cell_type": "code",
   "execution_count": null,
   "metadata": {},
   "outputs": [],
   "source": []
  },
  {
   "cell_type": "code",
   "execution_count": 78,
   "metadata": {},
   "outputs": [
    {
     "data": {
      "text/plain": [
       "{'sales_revenue': 507000,\n",
       " 'cost_of_goods_sold': 150000,\n",
       " 'operating_expenses': 141000,\n",
       " 'depreciation_expense': 9000,\n",
       " 'loss_on_disposal_equipment': 3000,\n",
       " 'interest_expense': 12000,\n",
       " 'income_tax_expense': 47000,\n",
       " 'unearned_revenue': 0}"
      ]
     },
     "execution_count": 78,
     "metadata": {},
     "output_type": "execute_result"
    }
   ],
   "source": [
    "# corp_financial_position[0]\n",
    "corp_income_statement\n"
   ]
  },
  {
   "cell_type": "code",
   "execution_count": null,
   "metadata": {},
   "outputs": [],
   "source": []
  }
 ],
 "metadata": {
  "kernelspec": {
   "display_name": "Python 3.10.7 64-bit",
   "language": "python",
   "name": "python3"
  },
  "language_info": {
   "codemirror_mode": {
    "name": "ipython",
    "version": 3
   },
   "file_extension": ".py",
   "mimetype": "text/x-python",
   "name": "python",
   "nbconvert_exporter": "python",
   "pygments_lexer": "ipython3",
   "version": "3.10.7"
  },
  "orig_nbformat": 4,
  "vscode": {
   "interpreter": {
    "hash": "aee8b7b246df8f9039afb4144a1f6fd8d2ca17a180786b69acc140d282b71a49"
   }
  }
 },
 "nbformat": 4,
 "nbformat_minor": 2
}
