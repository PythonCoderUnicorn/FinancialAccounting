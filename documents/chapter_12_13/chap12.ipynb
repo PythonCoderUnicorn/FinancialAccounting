{
 "cells": [
  {
   "cell_type": "markdown",
   "metadata": {},
   "source": [
    "# Chapter 12 - investments"
   ]
  },
  {
   "cell_type": "markdown",
   "metadata": {},
   "source": [
    "## Valuation of non-strategic investments\n",
    "\n",
    "- `fair value via profit or loss model`\n",
    "  - debt or equity investments (used for)\n",
    "  - fair value (investment valued at)\n",
    "  - income statements (for interest/ dividends/ gains or losses/ realized gains or losses)\n",
    "- `fair value via comprehensive income (OCI) model`\n",
    "  - debt or equity investment (used for)\n",
    "  - fair value  (investment valued at)\n",
    "  - income statement (interest/ dividend revenue)\n",
    "  - OCI \n",
    "- `amortized cost model`\n",
    "  - debt investment (used for)\n",
    "  - amortized cost  (investment valued at)\n",
    "  - income statement (interest revenue)\n",
    "  - dividend revenue = N/A\n",
    "  - unrealized gains = N/A\n",
    "  - income statement (realized gains/loss)\n",
    "- `cost model`\n",
    "  - equity invstments (used for)\n",
    "  - cost (investment valued at)\n",
    "  - N/A  (interest revenue)\n",
    "  - income statement (dividend revenue)\n",
    "  - N/A (unrealized gains)\n",
    "  - income statement (realized gains/loss)\n",
    "\n",
    "\n",
    "\n",
    "\n"
   ]
  },
  {
   "cell_type": "markdown",
   "metadata": {},
   "source": [
    "Fair value via profit / loss"
   ]
  },
  {
   "cell_type": "code",
   "execution_count": 1,
   "metadata": {},
   "outputs": [
    {
     "name": "stdout",
     "output_type": "stream",
     "text": [
      "Unrealized gain (loss0 = $-2000.00\n"
     ]
    }
   ],
   "source": [
    "fair_value = 48_000\n",
    "carrying_amount_cost = 50_000\n",
    "\n",
    "unrealized_gain_loss = fair_value - carrying_amount_cost \n",
    "print(\"Unrealized gain (loss0 = ${:.2f}\".format(unrealized_gain_loss))"
   ]
  },
  {
   "cell_type": "code",
   "execution_count": null,
   "metadata": {},
   "outputs": [],
   "source": []
  },
  {
   "cell_type": "markdown",
   "metadata": {},
   "source": [
    "# chapter 13 - cash flows"
   ]
  },
  {
   "cell_type": "markdown",
   "metadata": {},
   "source": [
    "cash and cash equivalents (term deposits maturing < 90 days, liabilities like bank overdraft, loans repayable on demand) \n",
    "\n",
    "activities reported \n",
    "\n",
    "- operatiung activities\n",
    "- investing activities\n",
    "- financing activities\n",
    "\n",
    "\n",
    "not reported\n",
    "\n",
    "- issue of shares to purchase assets or reduce liabilities\n",
    "- conversion of debt into equity\n",
    "- exchange or property, plant, equipment\n",
    "\n",
    "\n",
    "\n",
    "## Statement of cash flows\n",
    "\n",
    "preparation to make statement of cash flow\n",
    "\n",
    "1. `comparative statement of financial position` to determine the amounts of the changes in assets, liabilities and shareholder equity from beginning period to end\n",
    "2. `income statement` noncash current asset and current liability accounts used to determine the amount of cash provided or used by operating activities during the period\n",
    "3. additional info needed to determine how cash was used or provided during the period\n",
    "\n",
    "\n",
    "#### step 1 - prep operating activities section\n",
    "\n",
    "- determine the net cash provided by operating activities by converting net income from accrual basis to a cash basis. \n",
    "- analyze the current year's income statement , releveant current asset and current liability accounts from comparative statement of financial position\n",
    "\n",
    "\n",
    "#### step 2 - prep investing activities section\n",
    "\n",
    "- determine the net cash provided by investing activities by analyzing charges in non-current asset accounts from the comparative statement of financial position and selected info\n",
    "\n",
    "#### step 3 - prep financing activities section \n",
    "\n",
    "- determine the net cash provided (used) by financing activities by analyzing charges in non-current asset accounts from the comparative statement of financial position and selected info\n",
    "\n",
    "#### step 4 - complete statement of cash flows\n",
    "\n",
    "- determine the net increase in cash \n",
    "- compare the net change in cash reported on the statement of cash flows with the change in cash reported on the statement of financial position to make sure amounts agree"
   ]
  },
  {
   "cell_type": "code",
   "execution_count": 1,
   "metadata": {},
   "outputs": [],
   "source": [
    "corp_financial_position = {\n",
    "    'year': 2018,\n",
    "    'current_assets_cash':  55_000,\n",
    "    'accounts_receivable': 20_000,\n",
    "    'inventory': 15_000,\n",
    "    'prepaid\"expense': 5_000,\n",
    "    # PPE\n",
    "    'land': 140_000,\n",
    "    'buildings': 160_000,\n",
    "    'accumulated_depreciation_bldgs': -11_000,\n",
    "    'equipment':27_000,\n",
    "    'accumulated_depreciation_equip': -3_000,\n",
    "    # liabilities\n",
    "    'accounts_payable': 17_000,\n",
    "    'dividends_payable': 2_000,\n",
    "    'income_tax_payable': 6_000,\n",
    "    'current_portion_mortgage_payable': 15_000,\n",
    "    'non_current_mortgage_payable': 124_000,\n",
    "    # shareholder\n",
    "    'common_shares': 70_000,\n",
    "    'retained_earnings': 164_000,\n",
    "    'accumulated_OCI': 10_000\n",
    "}\n",
    "\n",
    "\n",
    "corp_income_statement = {\n",
    "    'sales_revenue': 507_000,\n",
    "    'cost_of_goods_sold': 150_000,\n",
    "    'operating_expenses': 141_000,\n",
    "    'depreciation_expense': 9_000,\n",
    "    'loss_on_disposal_equipment': 3_000,\n",
    "    'interest_expense': 12_000,\n",
    "    'income_tax_expense': 47_000\n",
    "}\n",
    "\n",
    "# increase or decreae is a column1 subtract column2"
   ]
  },
  {
   "cell_type": "markdown",
   "metadata": {},
   "source": [
    "net cash used by operations = net income +/- adjustments\n",
    "\n",
    "- adjustments: \n",
    "  - add noncash expenses\n",
    "  - add losses & deduct gains\n",
    "  - add decreases in current asset accounts & increase current liability accounts \n",
    "  - or deduct increases in current asset accounts & decrease in current liability accounts"
   ]
  },
  {
   "cell_type": "code",
   "execution_count": null,
   "metadata": {},
   "outputs": [],
   "source": [
    "# NONCASH EXPENSES (depreciation and amortization expense)\n",
    "\n",
    "def cash_flow_statement( dict_1, dict_2):\n",
    "    pass"
   ]
  }
 ],
 "metadata": {
  "kernelspec": {
   "display_name": "Python 3.10.7 64-bit",
   "language": "python",
   "name": "python3"
  },
  "language_info": {
   "codemirror_mode": {
    "name": "ipython",
    "version": 3
   },
   "file_extension": ".py",
   "mimetype": "text/x-python",
   "name": "python",
   "nbconvert_exporter": "python",
   "pygments_lexer": "ipython3",
   "version": "3.10.7"
  },
  "orig_nbformat": 4,
  "vscode": {
   "interpreter": {
    "hash": "aee8b7b246df8f9039afb4144a1f6fd8d2ca17a180786b69acc140d282b71a49"
   }
  }
 },
 "nbformat": 4,
 "nbformat_minor": 2
}
