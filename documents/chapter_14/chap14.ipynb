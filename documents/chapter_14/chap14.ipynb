{
 "cells": [
  {
   "cell_type": "markdown",
   "metadata": {},
   "source": [
    "# chap 14 - Performance Measurement"
   ]
  },
  {
   "cell_type": "markdown",
   "metadata": {},
   "source": [
    "## Horizontal analysis (trend analysis)\n",
    "\n",
    "a technique to determine the change over time that has taken place in a series of financial statement data, either in amount or percentage. Used in _intracompany_ comparisons"
   ]
  },
  {
   "cell_type": "code",
   "execution_count": 1,
   "metadata": {},
   "outputs": [],
   "source": [
    "horizonatal_analysis = [\n",
    "    {\n",
    "        'year': 2015,\n",
    "        'net_sales': 11_162,\n",
    "        'percentage_of_base_yr_amount': 273.8,\n",
    "        'percentage_for_the_year': 36.6\n",
    "    },\n",
    "    {\n",
    "        'year': 2014,\n",
    "        'net_sales': 8_169,\n",
    "        'percentage_of_base_yr_amount': 200.4,\n",
    "        'percentage_for_the_year': 56.4\n",
    "    },\n",
    "        {\n",
    "        'year': 2013,\n",
    "        'net_sales': 5223,\n",
    "        'percentage_of_base_yr_amount': 128.1,\n",
    "        'percentage_for_the_year': 28.1\n",
    "    },\n",
    "        {\n",
    "        'year': 2012, # base year\n",
    "        'net_sales': 4077,\n",
    "        'percentage_of_base_yr_amount': 100.0,\n",
    "        'percentage_for_the_year': 0\n",
    "    }\n",
    "]"
   ]
  },
  {
   "cell_type": "code",
   "execution_count": 16,
   "metadata": {},
   "outputs": [
    {
     "name": "stdout",
     "output_type": "stream",
     "text": [
      "horizonatal percentage of base amount = 2.74%\n",
      "Horizontal percentage change for period = 36.64%\n"
     ]
    }
   ],
   "source": [
    "# determine the net sales\n",
    "horiz_percent_amt = horizonatal_analysis[0]['net_sales'] / horizonatal_analysis[3]['net_sales']\n",
    "\n",
    "# measure the % change for year\n",
    "horiz_perc_change = ( horizonatal_analysis[0]['net_sales'] - horizonatal_analysis[1]['net_sales'] ) / horizonatal_analysis[1]['net_sales'] *100\n",
    "\n",
    "\n",
    "print(\"horizonatal percentage of base amount = {:.2f}%\".format(horiz_percent_amt))\n",
    "print(\"Horizontal percentage change for period = {:.2f}%\".format(horiz_perc_change))"
   ]
  },
  {
   "cell_type": "markdown",
   "metadata": {},
   "source": [
    "#### vertical analysis (common size analysis)\n",
    "\n",
    "technique that expresses each item in a financial statement as a percentage of a total (base) amount within the same financial statement\n",
    "\n",
    "vertical percentage of base amount = analysis amount  / base amount\n",
    "\n",
    "\n"
   ]
  },
  {
   "cell_type": "markdown",
   "metadata": {},
   "source": [
    "`working capital ` the difference between current assets and current liabilities, measure of liquidity\n",
    "\n",
    "`current ratio` the relationship of current assets to current liabilities \n",
    "\n",
    "\n",
    "- ex: (balance sheet) vertical percentage = (2015 `cash amount` / 2015 `total assets`) * 100\n",
    "- ex: (statement of earnings) vertical percentage = (2015 `cost of sales` / 2015 `net sales`) * 100\n",
    "\n",
    "\n",
    "\n"
   ]
  },
  {
   "cell_type": "code",
   "execution_count": 115,
   "metadata": {},
   "outputs": [],
   "source": [
    "company_finances = [ \n",
    "    # statement of earnings\n",
    "    {\n",
    "        'year': 2015,\n",
    "        'net_sales': 11162,\n",
    "        'cost_of_sales': 6638,\n",
    "        'operating_expenses': 4526,\n",
    "        'other_operating_expenses': 684,\n",
    "        'interest_expense': 225,\n",
    "        'other_expense': 62,\n",
    "        'income_before_income_tax': 519,\n",
    "        'income_tax_benefit_expense': 132\n",
    "    },\n",
    "        {\n",
    "        'year': 2014,\n",
    "        'net_sales': 8169,\n",
    "        'cost_of_sales': 4901,\n",
    "        'operating_expenses': 3103,\n",
    "        'other_operating_expenses': 308,\n",
    "        'interest_expense': 218,\n",
    "        'other_expense': 44,\n",
    "        'income_before_income_tax': 211,\n",
    "        'income_tax_benefit_expense': 22\n",
    "    },\n",
    "    # balance sheet\n",
    "    {\n",
    "        'year': 2015,\n",
    "        'cash': 507,\n",
    "        'trade_other_receivables': 512,\n",
    "        'inventories': 3415,\n",
    "        'other_current_assets': 194,\n",
    "        'property_plant_equipment':5154,\n",
    "        'intangible_assets': 1774,\n",
    "        'other_assets': 1093,\n",
    "        # liabilities\n",
    "        'loans_borrowings': 451,\n",
    "        'trade_payables_accriued_liabilities': 2514,\n",
    "        'unearned_revenue': 132,\n",
    "        'provisions_other': 299,\n",
    "        'non_current_liabilities': 6154,\n",
    "        'shareholder_equity': 3099\n",
    "    },\n",
    "        {\n",
    "        'year': 2014,\n",
    "        'cash': 168,\n",
    "        'trade_other_receivables': 212,\n",
    "        'inventories': 2319,\n",
    "        'other_current_assets': 100,\n",
    "        'property_plant_equipment':4606,\n",
    "        'intangible_assets': 1313,\n",
    "        'other_assets': 404,\n",
    "        # liabilities\n",
    "        'loans_borrowings': 256,\n",
    "        'trade_payables_accriued_liabilities': 1548,\n",
    "        'unearned_revenue': 130,\n",
    "        'provisions_other': 220,\n",
    "        'non_current_liabilities': 4504,\n",
    "        'shareholder_equity': 2474\n",
    "    }\n",
    "]\n",
    "\n",
    "\n"
   ]
  },
  {
   "cell_type": "code",
   "execution_count": 111,
   "metadata": {},
   "outputs": [
    {
     "data": {
      "text/plain": [
       "{'year': 2015,\n",
       " 'net_sales': 11162,\n",
       " 'cost_of_sales': 6638,\n",
       " 'operating_expenses': 4526,\n",
       " 'other_operating_expenses': 684,\n",
       " 'interest_expense': 225,\n",
       " 'other_expense': 62,\n",
       " 'income_before_income_tax': 519,\n",
       " 'income_tax_benefit_expense': 132}"
      ]
     },
     "execution_count": 111,
     "metadata": {},
     "output_type": "execute_result"
    }
   ],
   "source": [
    "company_finances[0]"
   ]
  },
  {
   "cell_type": "code",
   "execution_count": 110,
   "metadata": {},
   "outputs": [
    {
     "name": "stdout",
     "output_type": "stream",
     "text": [
      "Vertical analysis on statement of earnings:\n",
      " cost of sales = 59.47%\n"
     ]
    }
   ],
   "source": [
    "# vertical analysis \n",
    "vert_analysis = company_finances[0]['cost_of_sales'] / company_finances[0]['net_sales'] * 100\n",
    "print(\"Vertical analysis on statement of earnings:\\n cost of sales = {:.2f}%\".format(vert_analysis))\n",
    "\n",
    "# difference = statement_earnings[0] - statement_earnings[1]\n",
    "# difference_percentage = (2015 - 2014) / 2014\n"
   ]
  },
  {
   "cell_type": "code",
   "execution_count": 116,
   "metadata": {},
   "outputs": [],
   "source": [
    "intracompany_data = [ \n",
    "    {\n",
    "        'year': 2015,\n",
    "        'net_cash_operating_activities': 18,\n",
    "        'net_capital_expenditures': 610,\n",
    "        'total_cash_dividends': 36,\n",
    "        'dividends_per_share': 0.20,\n",
    "        'market_price_per_share': 17.30,\n",
    "        'weighted_avg_num_shares': 182\n",
    "    },\n",
    "        {\n",
    "        'year': 2014,\n",
    "        'net_cash_operating_activities': 547,\n",
    "        'net_capital_expenditures': 426,\n",
    "        'total_cash_dividends': 36,\n",
    "        'dividends_per_share': 0.20,\n",
    "        'market_price_per_share': 23.42,\n",
    "        'weighted_avg_num_shares': 182\n",
    "    }\n",
    "]"
   ]
  },
  {
   "cell_type": "code",
   "execution_count": 148,
   "metadata": {},
   "outputs": [],
   "source": [
    "\n",
    "\n",
    "\n",
    "def current_assets( dict ):\n",
    "    current_assets =( dict['cash'] + dict['trade_other_receivables'] + dict['inventories'] + dict['other_current_assets'] )\n",
    "    print(\"Current assets = ${:.2f}\".format(current_assets))\n",
    "\n",
    "def current_liabilities( dict ):\n",
    "    current_liabilities = ( dict['loans_borrowings'] + dict['trade_payables_accriued_liabilities'] + dict['unearned_revenue'] + dict['provisions_other'])\n",
    "    print(\"Current liabilities = ${:.2f}\".format(current_liabilities))\n",
    "\n",
    "\n",
    "def working_capital( dict  ): # \n",
    "    current_assets =( dict['cash'] + dict['trade_other_receivables'] + dict['inventories'] + dict['other_current_assets'] )\n",
    "    current_liabilities = ( dict['loans_borrowings'] + dict['trade_payables_accriued_liabilities'] + dict['unearned_revenue'] + dict['provisions_other'])\n",
    "    work_cap = current_assets - current_liabilities\n",
    "    print(\"Working capital = {:.2f} : 1\".format(work_cap))\n",
    "\n",
    "\n",
    "\n",
    "\n",
    "\n",
    "\n",
    "\n",
    "def current_ratio( dict ):\n",
    "    curr_ratio = dict['current_assets'] / dict['current_laibilities']\n",
    "    print(\"Current ratio = {:.2f} : 1\".format(curr_ratio))\n",
    "\n",
    "    # ratio 1.4:1  means for every $ of current liabilities, $1.4 is current assets\n",
    "\n",
    "def receivables_turnover( dict ):\n",
    "    rec_turn = dict['net_credit_sales'] / dict['avg_gross_accounts_receivable']\n",
    "    print(\"Receivable turnover = {:.2f} times\".format(rec_turn))\n",
    "\n",
    "def avg_collection_period( receivable_turnover ):\n",
    "    avg_coll_period = 365 / receivable_turnover\n",
    "    print(\"Average collection period = {:.2f} days\".format(avg_coll_period))\n",
    "\n",
    "def inventory_turonover( cogs,  avg_coll_period):\n",
    "    inv_turn = cogs / avg_coll_period\n",
    "    print(\"Inventory turnover = {:.2f} times\".format(inv_turn))\n",
    "\n",
    "def inventory_days( inv_turn ):\n",
    "    days_inventory = 365 / inv_turn\n",
    "    print(\"Days in inventory  = {:.2f} times\".format(days_inventory))\n",
    "\n",
    "def debt_total_assets( dict ):\n",
    "    debt_tot_assets = dict['current_liabilites'] / dict['current_assets'] \n",
    "    print(\"Debt to total assets = {:.2f} %\".format(debt_tot_assets))\n",
    "\n",
    "def times_interest_earned( dict ):\n",
    "    times_int_earned = (dict['net_income'] + dict['interest_expense'] + dict['income_tax_expense']) / dict['interest_expense']\n",
    "    print(\"Times interest earned = {:.2f} times\".format(times_int_earned))\n",
    "\n",
    "def free_cash_flow( dict ):\n",
    "    free_flow = ( dict['net_cash_operating_activities'] - dict['net_capital_expenditures'] - dict['dividends_paid'] )\n",
    "    print(\"Free cash flow = ${:.2f} \".format(free_flow))\n",
    "\n",
    "\n",
    "def gross_profit_margin( dict ):\n",
    "    gross_prof_margin = dict['gross_profit'] / dict['net_sales']\n",
    "    print(\"Gross profit margin = {:.2f} % \".format(gross_prof_margin))\n",
    "\n",
    "\n",
    "def profit_margin( dict ):\n",
    "    prof_margin = dict['net_income'] / dict['net sales']\n",
    "    print(\"Profit margin = {:.2f} % \".format(prof_margin))\n",
    "\n",
    "\n",
    "def asset_turnover( dict ):\n",
    "    asset_turn = dict['net_sales'] / dict['average_total_assets']\n",
    "    print(\"Asset turnover = {:.2f} times \".format(asset_turn))\n",
    "\n",
    "def return_on_assets( dict ):\n",
    "    ret_assets = dict['net_income'] / dict['average_total_assets']\n",
    "    print(\"Return on assets = {:.2f} % \".format(ret_assets))\n",
    "\n",
    "def return_shareholder_equity( dict ):\n",
    "    ret_shareholder_equity = ( dict['net_income'] - dict['preferred_dividends_declared'] ) / dict['average_common_shareholder_equity']\n",
    "    print(\"Return on shareholders equity = {:.2f} % \".format(ret_shareholder_equity))\n",
    "\n",
    "def earnings_per_share(  dict ):\n",
    "    earn_per_share = ( dict['net_income'] - dict['preferred_dividends_declared'] ) / dict['weighted_avg_num_shares']\n",
    "    print(\"Basic earnings per share = ${:.2f}  \".format(earn_per_share))\n",
    "\n",
    "def price_earnings_ratio( dict ):\n",
    "    price_earn = dict['market_price_per_share'] / dict['basic_earnings_per_share']\n",
    "    print(\"Price earnings = {:.2f} times \".format(price_earn))\n",
    "\n",
    "def payput_ratio( dict ):\n",
    "    pay_ratio = dict['cash_dividends_declared'] / dict['net_income']\n",
    "    print(\"Payout ratio = {:.2f} % \".format(pay_ratio))\n",
    "\n",
    "def dividend_yeild( dict ):\n",
    "    div_yeild = dict['dividends_declared_per_share'] / dict['market_price_per_share']\n",
    "    print(\"Dividend yeild = {:.2f} % \".format(div_yeild))\n",
    "\n",
    "# -------------\n"
   ]
  },
  {
   "cell_type": "code",
   "execution_count": 149,
   "metadata": {},
   "outputs": [
    {
     "name": "stdout",
     "output_type": "stream",
     "text": [
      "Current assets = $4628.00\n",
      "Current liabilities = $3396.00\n",
      "Working capital = 1232.00 : 1\n"
     ]
    }
   ],
   "source": [
    "# (2015 - 2014) / 2014\n",
    "\n",
    "# (451 -246)/246\n",
    "# (194 - 100) / 100   *100\n",
    "\n",
    "# 4628/3396\n",
    "\n",
    "current_assets( company_finances[2] )\n",
    "current_liabilities( company_finances[2] )\n",
    "working_capital( company_finances[2])\n",
    "\n"
   ]
  },
  {
   "cell_type": "code",
   "execution_count": null,
   "metadata": {},
   "outputs": [],
   "source": [
    "\n"
   ]
  },
  {
   "cell_type": "code",
   "execution_count": null,
   "metadata": {},
   "outputs": [],
   "source": []
  },
  {
   "cell_type": "code",
   "execution_count": null,
   "metadata": {},
   "outputs": [],
   "source": []
  }
 ],
 "metadata": {
  "kernelspec": {
   "display_name": "Python 3.10.7 64-bit",
   "language": "python",
   "name": "python3"
  },
  "language_info": {
   "codemirror_mode": {
    "name": "ipython",
    "version": 3
   },
   "file_extension": ".py",
   "mimetype": "text/x-python",
   "name": "python",
   "nbconvert_exporter": "python",
   "pygments_lexer": "ipython3",
   "version": "3.10.7"
  },
  "orig_nbformat": 4,
  "vscode": {
   "interpreter": {
    "hash": "aee8b7b246df8f9039afb4144a1f6fd8d2ca17a180786b69acc140d282b71a49"
   }
  }
 },
 "nbformat": 4,
 "nbformat_minor": 2
}
