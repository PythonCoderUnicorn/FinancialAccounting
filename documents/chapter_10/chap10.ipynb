{
 "cells": [
  {
   "cell_type": "markdown",
   "metadata": {},
   "source": [
    "# chapter 10 - reporting & analyze liabilities"
   ]
  },
  {
   "cell_type": "markdown",
   "metadata": {},
   "source": [
    "`current liability` a liability that will be paid within 1 year from the date on the statement of financial position or 1 operating cycle\n",
    "\n",
    "`operating line of credit` company borrow cash ffrom banks or other financial institutions\n",
    "\n",
    "`floating (variable) interest rate` is one that is not fixed and is usually based on the prime borrowing rate (interest rate banks charge their best customers)\n",
    "\n",
    "`collateral` is security required by banks as protection against possible default on the loan by burrower"
   ]
  },
  {
   "cell_type": "markdown",
   "metadata": {},
   "source": [
    "sales tax"
   ]
  },
  {
   "cell_type": "code",
   "execution_count": 1,
   "metadata": {},
   "outputs": [],
   "source": [
    "company = {\n",
    "    'sales' : 10_000,\n",
    "    'sales_tax_payable_GST': 0.05, # Federal sales tax\n",
    "    'sales_tax_payable_PST': 0.07 # Provincial sales tax \n",
    "\n",
    "}"
   ]
  },
  {
   "cell_type": "code",
   "execution_count": 8,
   "metadata": {},
   "outputs": [],
   "source": [
    "\n",
    "def sales_tax( dict_):\n",
    "\n",
    "    pst_tax = dict_['sales_tax_payable_PST'] * dict_['sales']\n",
    "    gst_tax = dict_['sales_tax_payable_GST'] * dict_['sales']\n",
    "\n",
    "    cash = dict_['sales'] + pst_tax + gst_tax\n",
    "\n",
    "    \n",
    "    print(\"payable taxes ${:.2f} and ${:.2f}\".format(pst_tax, gst_tax))\n",
    "    print(\"Cash = ${:,}\".format(cash))"
   ]
  },
  {
   "cell_type": "code",
   "execution_count": 9,
   "metadata": {},
   "outputs": [
    {
     "name": "stdout",
     "output_type": "stream",
     "text": [
      "payable taxes $700.00 and $500.00\n",
      "Cash = $11,200.0\n"
     ]
    }
   ],
   "source": [
    "sales_tax( company )"
   ]
  },
  {
   "cell_type": "code",
   "execution_count": 10,
   "metadata": {},
   "outputs": [],
   "source": [
    "# annual property taxes \n",
    "\n",
    "company_property = {\n",
    "    'property_tax_bill' : 6000,\n",
    "    'bill_data_month_number': 3  # 2 months have passed for this company, year end Dec 31\n",
    "}"
   ]
  },
  {
   "cell_type": "code",
   "execution_count": 11,
   "metadata": {},
   "outputs": [],
   "source": [
    "def property_tax( dict_):\n",
    "    tax_months = dict_['bill_data_month_number'] / 12\n",
    "    current_property_tax_payable = dict_['property_tax_bill'] * tax_months\n",
    "\n",
    "    remain = dict_['property_tax_bill'] - current_property_tax_payable\n",
    "\n",
    "    print(f\"Property tax payable (current) = ${current_property_tax_payable}\")\n",
    "    print(f\" Remainder ${remain} \")"
   ]
  },
  {
   "cell_type": "code",
   "execution_count": 12,
   "metadata": {},
   "outputs": [
    {
     "name": "stdout",
     "output_type": "stream",
     "text": [
      "Property tax payable (current) = $1500.0\n",
      " Remainder $4500.0 \n"
     ]
    }
   ],
   "source": [
    "property_tax( company_property )"
   ]
  },
  {
   "cell_type": "code",
   "execution_count": null,
   "metadata": {},
   "outputs": [],
   "source": []
  },
  {
   "cell_type": "markdown",
   "metadata": {},
   "source": [
    "### payroll\n",
    "\n",
    "3 types of liabilities related to employee salaries or wages\n",
    "\n",
    "1. `salaries` the amount owed to employee, per week, per 2 wk, per month, per year\n",
    "2. `gross pay` employee payroll deductions from gross earnings, net pay is what is paid to employee\n",
    "3. employer payroll obligations, such as CPP, EI and benefits and holiday pay"
   ]
  },
  {
   "cell_type": "code",
   "execution_count": 13,
   "metadata": {},
   "outputs": [],
   "source": [
    "# employer accrues salaries of $100,000 for week ending March 9\n",
    "payroll_deductions = {\n",
    "    'salaries_expense': 100_000,\n",
    "    # credit, right side\n",
    "    'CPP_payable': 4950,\n",
    "    'EI_payable': 2632,\n",
    "    'employee_income_tax_payable': 20_427, # employee's tax  (not what the companany itself owes)\n",
    "    'workers_compensation': 1575,\n",
    "    'union_dues_payable': 1037,\n",
    "    'health_insurance_benefits_payable': 2930\n",
    "}"
   ]
  },
  {
   "cell_type": "code",
   "execution_count": 14,
   "metadata": {},
   "outputs": [],
   "source": [
    "def payroll( dict_ ):\n",
    "    deduct_sum = dict_['CPP_payable'] + \\\n",
    "                 dict_['EI_payable'] + \\\n",
    "                 dict_['employee_income_tax_payable'] + \\\n",
    "                 dict_['workers_compensation'] + \\\n",
    "                 dict_['union_dues_payable'] + \\\n",
    "                 dict_['health_insurance_benefits_payable']\n",
    "\n",
    "    salaries_payable = dict_['salaries_expense'] - deduct_sum\n",
    "    benefit_expense = deduct_sum - dict_['employee_income_tax_payable'] \n",
    "\n",
    "    print(\"Salaries expense (employee pay) = ${:,}\".format(salaries_payable))\n",
    "    print(\"Employee benefits expense = ${:,}\".format(benefit_expense))\n",
    "    print(\"payroll deduction remittance = ${:,}\".format(deduct_sum))"
   ]
  },
  {
   "cell_type": "code",
   "execution_count": 15,
   "metadata": {},
   "outputs": [
    {
     "name": "stdout",
     "output_type": "stream",
     "text": [
      "Salaries expense (employee pay) = $66,449\n",
      "Employee benefits expense = $13,124\n",
      "payroll deduction remittance = $33,551\n"
     ]
    }
   ],
   "source": [
    "payroll( payroll_deductions)\n"
   ]
  },
  {
   "cell_type": "markdown",
   "metadata": {},
   "source": [
    "short term notes payable (trade payables) used in short term financing needs\n",
    "\n",
    "`account payable` has an invoice and informal promise to pay (credit purchases), used to extend credit for short term. no interest incur unless overdue\n",
    "\n",
    "`note payable` is formal written promise to pay that gives the payee a string legal claim, long term, has interest for full duration"
   ]
  },
  {
   "cell_type": "code",
   "execution_count": 16,
   "metadata": {},
   "outputs": [],
   "source": [
    "# bank loan $100k on March 1, bank loan payable, due in 4 months July 1, interest at 3%\n",
    "bank_loan = {\n",
    "    'principal_amount': 100_000,\n",
    "    'interest_rate':  0.03,\n",
    "    'month_issued': 3,\n",
    "    'month_loan_due': 7\n",
    "}"
   ]
  },
  {
   "cell_type": "code",
   "execution_count": 17,
   "metadata": {},
   "outputs": [],
   "source": [
    "def shortterm_loan( dict_ ):\n",
    "    month = 1 / 12\n",
    "    interest_payable = dict_['principal_amount'] * dict_['interest_rate'] * month\n",
    "\n",
    "\n",
    "    loan_months = (dict_['month_loan_due'] - dict_['month_issued']) / 12 # 4 / 12 = 0.33\n",
    "    \n",
    "    principal_amt = loan_months * dict_['principal_amount'] * dict_['interest_rate'] \n",
    "\n",
    "    total_loan_payable = dict_['principal_amount'] + principal_amt\n",
    "\n",
    "    print(f\"Interest payable = ${interest_payable} (for 1st month)\")\n",
    "    print(\"Interest amount = ${:.2f}\".format(principal_amt)) \n",
    "    print(\"Bank loan & interest payable = ${:,}\".format(total_loan_payable))"
   ]
  },
  {
   "cell_type": "code",
   "execution_count": 18,
   "metadata": {},
   "outputs": [
    {
     "name": "stdout",
     "output_type": "stream",
     "text": [
      "Interest payable = $250.0 (for 1st month)\n",
      "Interest amount = $1000.00\n",
      "Bank loan & interest payable = $101,000.0\n"
     ]
    }
   ],
   "source": [
    "shortterm_loan( bank_loan )"
   ]
  },
  {
   "cell_type": "markdown",
   "metadata": {},
   "source": [
    "`non-current liability `obligation expected to be paid after 1 yar or more\n",
    "\n",
    "`installments` payments paid monthly, annually or defined intervals of time\n",
    "\n",
    "- interest on unpaid balance of the loan\n",
    "- repayment of a portion of the loan principal\n",
    "\n",
    "\n",
    "installment payments\n",
    "\n",
    "- fixed principal payments plus interest\n",
    "- blended principal and interest payments"
   ]
  },
  {
   "cell_type": "code",
   "execution_count": 19,
   "metadata": {},
   "outputs": [],
   "source": [
    "# Jan 1, 2018 Company borrows $120,000 from bank for 5 yr period, interest rate of 4%\n",
    "bank_loan = {\n",
    "    'principal_amount': 120_000,\n",
    "    'interest_rate':  0.04,\n",
    "    'month_issued': 1,\n",
    "    'loan_duration_yrs': 5 \n",
    "}"
   ]
  },
  {
   "cell_type": "code",
   "execution_count": 20,
   "metadata": {},
   "outputs": [],
   "source": [
    "def fixed_principal_interest( dict_ ):\n",
    "    month = 1 / 12\n",
    "     #  # 60  = 12 * 5 yrs = 60 months\n",
    "    loan_duration=  dict_['loan_duration_yrs'] * 12\n",
    "\n",
    "\n",
    "    # B - interest expense\n",
    "    interest_payable = dict_['principal_amount'] * dict_['interest_rate'] * month\n",
    "\n",
    "    \n",
    "    # C - reduction_in_principal \n",
    "    bank_loan_payable = bank_loan['principal_amount'] / loan_duration\n",
    "\n",
    "    # A = B + C\n",
    "    installment =  interest_payable + bank_loan_payable \n",
    "\n",
    "    # balance minus interest\n",
    "    principal_bal = dict_['principal_amount'] - installment\n",
    "\n",
    "\n",
    "    print(\"Bank loan amount = ${:,}\".format(dict_['principal_amount']))\n",
    "    print(\"Interest expense = ${:,}\".format(interest_payable))      # B\n",
    "    print(\"Bank loan payable = ${:,}\".format(bank_loan_payable) )   # C\n",
    "    print(\"Loan installment (cash) payment = ${:,}\".format(installment))   # A\n",
    "    print(\"Principal balance ... ${:,}\".format(principal_bal))"
   ]
  },
  {
   "cell_type": "markdown",
   "metadata": {},
   "source": [
    "now only update the principal amount after each run to get running installment payment schedule"
   ]
  },
  {
   "cell_type": "code",
   "execution_count": 21,
   "metadata": {},
   "outputs": [
    {
     "name": "stdout",
     "output_type": "stream",
     "text": [
      "Bank loan amount = $120,000\n",
      "Interest expense = $400.0\n",
      "Bank loan payable = $2,000.0\n",
      "Loan installment (cash) payment = $2,400.0\n",
      "Principal balance ... $117,600.0\n"
     ]
    }
   ],
   "source": [
    "fixed_principal_interest(  bank_loan )\n",
    "\n",
    "# update the principal amount for each month"
   ]
  },
  {
   "cell_type": "markdown",
   "metadata": {},
   "source": [
    "blended principal and interest payments"
   ]
  },
  {
   "cell_type": "code",
   "execution_count": 94,
   "metadata": {},
   "outputs": [],
   "source": [
    "# Jan 1, 2018 Company borrows $120,000 from bank for 5 yr period, interest rate of 4%\n",
    "bank_loan = {\n",
    "    'principal_amount': 120_000,\n",
    "    'interest_rate':  0.04,\n",
    "    'month_issued': 1,\n",
    "    'loan_duration_yrs': 5 ,\n",
    "    'installment_payment_fixed': 2210\n",
    "}"
   ]
  },
  {
   "cell_type": "code",
   "execution_count": 105,
   "metadata": {},
   "outputs": [],
   "source": [
    "def blended_payments( dict_ ):\n",
    "    month = 1 / 12\n",
    "\n",
    "    # B - interest expense\n",
    "    interest_payable = dict_['principal_amount'] * dict_['interest_rate'] * month\n",
    "\n",
    "    # AMOUNT MONTHLY - INTEREST\n",
    "    redux_principal = dict_['installment_payment_fixed'] - interest_payable\n",
    "\n",
    "    # FIXED MONTHLY + INTEREST\n",
    "    cash_payment = interest_payable + redux_principal\n",
    "\n",
    "    # balance minus interest\n",
    "    principal_bal = dict_['principal_amount'] - redux_principal\n",
    "\n",
    "\n",
    "    print(\"-------- BLENDED PRINCIPAL & INTEREST PAYMENT ------\")\n",
    "    print(\"Cash (fixed) payment = ${:.2f} (per month)\".format( cash_payment ))\n",
    "    print(\"Interest expense = ${:.2f}\".format(interest_payable))\n",
    "\n",
    "    print(\"Reduction of principal = ${:.2f}\".format( redux_principal )) # redux\n",
    "    print(\"Principal balance = ${:.2f}\".format( principal_bal ))\n"
   ]
  },
  {
   "cell_type": "code",
   "execution_count": 106,
   "metadata": {},
   "outputs": [
    {
     "name": "stdout",
     "output_type": "stream",
     "text": [
      "-------- BLENDED PRINCIPAL & INTEREST PAYMENT ------\n",
      "Cash (fixed) payment = $2210.00 (per month)\n",
      "Interest expense = $400.00\n",
      "Reduction of principal = $1810.00\n",
      "Principal balance = $118190.00\n"
     ]
    }
   ],
   "source": [
    "blended_payments( bank_loan )\n",
    "\n",
    "# just update the principal amount in dictionary"
   ]
  },
  {
   "cell_type": "markdown",
   "metadata": {},
   "source": [
    "### Solvency\n",
    "\n",
    "`debt to total assets` measure of a company solvency , this ratio indicates the extent a company's assets are financed by debt"
   ]
  },
  {
   "cell_type": "code",
   "execution_count": 128,
   "metadata": {},
   "outputs": [],
   "source": [
    "company_finance = {\n",
    "    'year': '2015',\n",
    "    'total_assets': 7720,\n",
    "    'total_liabilities': 8844\n",
    "}\n",
    "company_finance2 = {\n",
    "    'year': '2014',\n",
    "    'total_assets': 7584,\n",
    "    'total_liabilities': 9595\n",
    "}"
   ]
  },
  {
   "cell_type": "code",
   "execution_count": 135,
   "metadata": {},
   "outputs": [],
   "source": [
    "def debt_total_assets( dict_, dict_1 ):\n",
    "    debt_assets = dict_['total_liabilities'] / dict_['total_assets']\n",
    "    print(\"Debt to total assets = {:.2f}% ({})\".format(debt_assets * 100, dict_['year']))\n",
    "\n",
    "    debt_assets2 = dict_1['total_liabilities'] / dict_1['total_assets']\n",
    "    print(\"Debt to total assets = {:.2f}% ({})\".format(debt_assets2 * 100, dict_1['year']))"
   ]
  },
  {
   "cell_type": "code",
   "execution_count": 136,
   "metadata": {},
   "outputs": [
    {
     "name": "stdout",
     "output_type": "stream",
     "text": [
      "Debt to total assets = 114.56% (2015)\n",
      "Debt to total assets = 126.52% (2014)\n"
     ]
    }
   ],
   "source": [
    "debt_total_assets( company_finance, company_finance2 )"
   ]
  },
  {
   "cell_type": "markdown",
   "metadata": {},
   "source": [
    "`times interest earned` ratio gives an indication of a company's ability to meet interest payments as they come due\n",
    "\n",
    "- higher the ratio, the more able the company is to pay its interest charges\n",
    "- should be compared with `debt to total assets`\n",
    "\n",
    "`EBIT` earnings before interest and taxes"
   ]
  },
  {
   "cell_type": "code",
   "execution_count": 137,
   "metadata": {},
   "outputs": [],
   "source": [
    "expense = {\n",
    "    'interest_expense':  50,\n",
    "    'income_tax_expense': 37,\n",
    "    'net_income' : 99\n",
    "}"
   ]
  },
  {
   "cell_type": "code",
   "execution_count": 142,
   "metadata": {},
   "outputs": [],
   "source": [
    "def interest_earned(dict_):\n",
    "    times_interest_earned = (dict_['net_income'] + dict_['interest_expense'] + dict_['income_tax_expense'] ) / dict_['interest_expense'] \n",
    "    print(\"Times interest earned = {:.2f} times\".format(times_interest_earned))"
   ]
  },
  {
   "cell_type": "code",
   "execution_count": 143,
   "metadata": {},
   "outputs": [
    {
     "name": "stdout",
     "output_type": "stream",
     "text": [
      "Times interest earned = 3.72 times\n"
     ]
    }
   ],
   "source": [
    "interest_earned( expense )"
   ]
  },
  {
   "cell_type": "markdown",
   "metadata": {},
   "source": [
    "DOMINION BOND RATING SERVICE (DBRS)\n",
    "\n",
    "`short term` debt using \"R\" scale\n",
    "\n",
    "- R-1 is highest credit quality\n",
    "- R-2 middle\n",
    "- R-3 low\n",
    "- R-4 ---- risk\n",
    "- R-5 ---- risk\n",
    "\n",
    "`long term` debt rating uses \"A\" scale\n",
    "\n",
    "- AAA highest quality\n",
    "- AA superior quality\n",
    "- A good quality\n",
    "- BBB or lower is 'non-investment' grade\n",
    "- D default\n",
    "\n"
   ]
  },
  {
   "cell_type": "markdown",
   "metadata": {},
   "source": [
    "### Bond Issues\n",
    "\n",
    "bonds can be traded on public exchange like shares.\n",
    "\n",
    "- bond prices are quoted as a percentage of the face value of the bonds\n",
    "\n",
    "bond_price = 100  means that the bond will sell at 100% face value\n",
    "\n",
    "`effective interest method` process that allocates the discount or premium amount within the bonds payable account to interest expense over time\n",
    "\n",
    "`carrying amount` a bond is its face value less any unamortized discount\n",
    "\n",
    "\n",
    "### Calculation of amortization\n",
    "\n",
    "`bond interest expense` = carrying amount of bonds @ beginning of period  x  market interest rate\n",
    "\n",
    "`bond interest paid` = face amount of bonds  x  coupon interest rate\n",
    "\n",
    "`amortization amount` = bond interest expense  -  bond interest paid"
   ]
  },
  {
   "cell_type": "code",
   "execution_count": 179,
   "metadata": {},
   "outputs": [],
   "source": [
    "bonds = {\n",
    "    'cash': 1e6,\n",
    "    'bonds_payable': 1e6,\n",
    "    'market_interest_rate': 0.05,\n",
    "    'months_of_year': 6,\n",
    "\n",
    "    'sold_discount_price': 981_417,\n",
    "    'discount_market_rate': 0.06,\n",
    "\n",
    "    'sold_premium_price': 1_019_043,\n",
    "    'premium_market_rate': 0.04\n",
    "}"
   ]
  },
  {
   "cell_type": "code",
   "execution_count": 276,
   "metadata": {},
   "outputs": [],
   "source": [
    "def amortization( dict_ ):\n",
    "    interest_exp_paid = dict_['cash'] * dict_['market_interest_rate'] * (dict_['months_of_year'] / 12)\n",
    "\n",
    "    discount = dict_['sold_discount_price'] * dict_['discount_market_rate'] * (dict_['months_of_year'] / 12)\n",
    "\n",
    "    premium = dict_['sold_premium_price'] * dict_['premium_market_rate'] * (dict_['months_of_year'] / 12)\n",
    "\n",
    "    # ---------\n",
    "    bonds_payable =  discount - interest_exp_paid\n",
    "    discount_bond_cash = discount - bonds_payable\n",
    "    unmortized_discount = dict_['bonds_payable'] - dict_['sold_discount_price']\n",
    "    discount_carrying_amt = dict_['cash'] - unmortized_discount\n",
    "\n",
    "    # ---------\n",
    "    premium_payable = discount_bond_cash -  premium \n",
    "    prem_unmort = dict_['sold_premium_price'] - dict_['cash']\n",
    "    prem_carry_amt = dict_['sold_premium_price'] - premium_payable\n",
    "    \n",
    "\n",
    "    \n",
    "\n",
    "\n",
    "    print(\"Bond interest expense = ${:,}\".format( interest_exp_paid ))\n",
    "\n",
    "\n",
    "    print(\"\\nDiscount interest payment = ${:.2f}\".format( discount_bond_cash ))\n",
    "    print(\"Discount interest expense = ${:,}\".format( discount ))\n",
    "    print(\"Discount amortization = ${:.2f}\".format( bonds_payable ))\n",
    "    print(\"Discount unmortized = ${:,}\".format( unmortized_discount ))\n",
    "    print(\"Discount bond carrying amount = ${:,}\".format( discount_carrying_amt ))\n",
    "    print(\"-----------\")\n",
    "    \n",
    "\n",
    "\n",
    "    print(\"\\nPremium bond interest expense = ${:,}\".format( premium ))\n",
    "    print(\"Premium amortization = ${:.2f}\".format( premium_payable ))\n",
    "\n",
    "    print(\"Premium unmortized = ${:,}\".format( prem_unmort ) )\n",
    "    print(\"Premium bond carrying amount = ${:,}\".format( prem_carry_amt ) )"
   ]
  },
  {
   "cell_type": "code",
   "execution_count": 277,
   "metadata": {},
   "outputs": [
    {
     "name": "stdout",
     "output_type": "stream",
     "text": [
      "Bond interest expense = $25,000.0\n",
      "\n",
      "Discount interest payment = $25000.00\n",
      "Discount interest expense = $29,442.51\n",
      "Discount amortization = $4442.51\n",
      "Discount unmortized = $18,583.0\n",
      "Discount bond carrying amount = $981,417.0\n",
      "-----------\n",
      "\n",
      "Premium bond interest expense = $20,380.86\n",
      "Premium amortization = $4619.14\n",
      "Premium unmortized = $19,043.0\n",
      "Premium bond carrying amount = $1,014,423.86\n"
     ]
    }
   ],
   "source": [
    "amortization( bonds )"
   ]
  },
  {
   "cell_type": "markdown",
   "metadata": {},
   "source": [
    "bonds retire when they mature or when a company buys them before they mature"
   ]
  },
  {
   "cell_type": "code",
   "execution_count": null,
   "metadata": {},
   "outputs": [],
   "source": []
  },
  {
   "cell_type": "code",
   "execution_count": null,
   "metadata": {},
   "outputs": [],
   "source": []
  },
  {
   "cell_type": "code",
   "execution_count": null,
   "metadata": {},
   "outputs": [],
   "source": []
  },
  {
   "cell_type": "code",
   "execution_count": null,
   "metadata": {},
   "outputs": [],
   "source": []
  },
  {
   "cell_type": "code",
   "execution_count": null,
   "metadata": {},
   "outputs": [],
   "source": []
  },
  {
   "cell_type": "code",
   "execution_count": null,
   "metadata": {},
   "outputs": [],
   "source": []
  },
  {
   "cell_type": "code",
   "execution_count": null,
   "metadata": {},
   "outputs": [],
   "source": []
  },
  {
   "cell_type": "code",
   "execution_count": null,
   "metadata": {},
   "outputs": [],
   "source": []
  },
  {
   "cell_type": "code",
   "execution_count": 152,
   "metadata": {},
   "outputs": [
    {
     "data": {
      "text/plain": [
       "7"
      ]
     },
     "execution_count": 152,
     "metadata": {},
     "output_type": "execute_result"
    }
   ],
   "source": [
    "a = [\n",
    "    {'alpha': 100, 'beta': 200},\n",
    "    {'gamma': 9, 'delta': 7}\n",
    "]\n",
    "\n",
    "list( a[1].values() )[1]"
   ]
  },
  {
   "cell_type": "code",
   "execution_count": null,
   "metadata": {},
   "outputs": [],
   "source": []
  }
 ],
 "metadata": {
  "kernelspec": {
   "display_name": "Python 3.10.7 64-bit",
   "language": "python",
   "name": "python3"
  },
  "language_info": {
   "codemirror_mode": {
    "name": "ipython",
    "version": 3
   },
   "file_extension": ".py",
   "mimetype": "text/x-python",
   "name": "python",
   "nbconvert_exporter": "python",
   "pygments_lexer": "ipython3",
   "version": "3.10.7"
  },
  "orig_nbformat": 4,
  "vscode": {
   "interpreter": {
    "hash": "aee8b7b246df8f9039afb4144a1f6fd8d2ca17a180786b69acc140d282b71a49"
   }
  }
 },
 "nbformat": 4,
 "nbformat_minor": 2
}
