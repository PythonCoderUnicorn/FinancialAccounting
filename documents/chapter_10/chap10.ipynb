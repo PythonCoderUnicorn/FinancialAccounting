{
 "cells": [
  {
   "cell_type": "markdown",
   "metadata": {},
   "source": [
    "# chapter 10 - reporting & analyze liabilities"
   ]
  },
  {
   "cell_type": "markdown",
   "metadata": {},
   "source": [
    "`current liability` a liability that will be paid within 1 year from the date on the statement of financial position or 1 operating cycle\n",
    "\n",
    "`operating line of credit` company borrow cash ffrom banks or other financial institutions\n",
    "\n",
    "`floating (variable) interest rate` is one that is not fixed and is usually based on the prime borrowing rate (interest rate banks charge their best customers)\n",
    "\n",
    "`collateral` is security required by banks as protection against possible default on the loan by burrower"
   ]
  },
  {
   "cell_type": "markdown",
   "metadata": {},
   "source": [
    "sales tax"
   ]
  },
  {
   "cell_type": "code",
   "execution_count": 1,
   "metadata": {},
   "outputs": [],
   "source": [
    "company = {\n",
    "    'sales' : 10_000,\n",
    "    'sales_tax_payable_GST': 0.05, # Federal sales tax\n",
    "    'sales_tax_payable_PST': 0.07 # Provincial sales tax \n",
    "\n",
    "}"
   ]
  },
  {
   "cell_type": "code",
   "execution_count": 8,
   "metadata": {},
   "outputs": [],
   "source": [
    "\n",
    "def sales_tax( dict_):\n",
    "\n",
    "    pst_tax = dict_['sales_tax_payable_PST'] * dict_['sales']\n",
    "    gst_tax = dict_['sales_tax_payable_GST'] * dict_['sales']\n",
    "\n",
    "    cash = dict_['sales'] + pst_tax + gst_tax\n",
    "\n",
    "    \n",
    "    print(\"payable taxes ${:.2f} and ${:.2f}\".format(pst_tax, gst_tax))\n",
    "    print(\"Cash = ${:,}\".format(cash))"
   ]
  },
  {
   "cell_type": "code",
   "execution_count": 9,
   "metadata": {},
   "outputs": [
    {
     "name": "stdout",
     "output_type": "stream",
     "text": [
      "payable taxes $700.00 and $500.00\n",
      "Cash = $11,200.0\n"
     ]
    }
   ],
   "source": [
    "sales_tax( company )"
   ]
  },
  {
   "cell_type": "code",
   "execution_count": null,
   "metadata": {},
   "outputs": [],
   "source": []
  }
 ],
 "metadata": {
  "kernelspec": {
   "display_name": "Python 3.10.7 64-bit",
   "language": "python",
   "name": "python3"
  },
  "language_info": {
   "codemirror_mode": {
    "name": "ipython",
    "version": 3
   },
   "file_extension": ".py",
   "mimetype": "text/x-python",
   "name": "python",
   "nbconvert_exporter": "python",
   "pygments_lexer": "ipython3",
   "version": "3.10.7"
  },
  "orig_nbformat": 4,
  "vscode": {
   "interpreter": {
    "hash": "aee8b7b246df8f9039afb4144a1f6fd8d2ca17a180786b69acc140d282b71a49"
   }
  }
 },
 "nbformat": 4,
 "nbformat_minor": 2
}
