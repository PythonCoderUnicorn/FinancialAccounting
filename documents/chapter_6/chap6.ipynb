{
 "cells": [
  {
   "cell_type": "markdown",
   "metadata": {},
   "source": [
    "# chapter 6 - report & analyze inventory"
   ]
  },
  {
   "cell_type": "markdown",
   "metadata": {},
   "source": [
    "specific identification cost formula\n",
    "\n",
    "Example: car dealership"
   ]
  },
  {
   "cell_type": "code",
   "execution_count": 6,
   "metadata": {},
   "outputs": [
    {
     "name": "stdout",
     "output_type": "stream",
     "text": [
      "Cost of goods sold = $103,600\n",
      "Ending inventory = $70,500\n"
     ]
    }
   ],
   "source": [
    "# dealership buys 3 vehicles from manufacturer\n",
    "cars = {'sedan': 45200, 'convertible': 70500, 'SUV': 58400}\n",
    "\n",
    "# dealership sells 2\n",
    "cost_of_goods_sold = cars['SUV'] + cars['sedan']\n",
    "end_inventory = cars['convertible'] \n",
    "\n",
    "print(\"Cost of goods sold = ${:,}\".format(cost_of_goods_sold))\n",
    "print(\"Ending inventory = ${:,}\".format(end_inventory))"
   ]
  },
  {
   "cell_type": "markdown",
   "metadata": {},
   "source": [
    "weighted average unit cost = cost of goods available for sale / units available for sale"
   ]
  },
  {
   "cell_type": "code",
   "execution_count": 17,
   "metadata": {},
   "outputs": [
    {
     "name": "stdout",
     "output_type": "stream",
     "text": [
      "Cost of goods available = $12000\n",
      "Weighted average unit costs = $12.0\n"
     ]
    }
   ],
   "source": [
    "cost_of_goods_sold = 6200\n",
    "ending_inventory = 5800\n",
    "cost_of_goods_available = cost_of_goods_sold + ending_inventory\n",
    "units_available_for_sale = 1000\n",
    "weight_avg_unit_cost = cost_of_goods_available / units_available_for_sale\n",
    "\n",
    "print(f\"Cost of goods available = ${cost_of_goods_available}\")\n",
    "print(f\"Weighted average unit costs = ${weight_avg_unit_cost}\")"
   ]
  },
  {
   "cell_type": "markdown",
   "metadata": {},
   "source": [
    "inventory turnover"
   ]
  },
  {
   "cell_type": "code",
   "execution_count": 13,
   "metadata": {},
   "outputs": [
    {
     "name": "stdout",
     "output_type": "stream",
     "text": [
      "Inventoury turnover = 4.32 times\n",
      "Days in inventory = 84.46\n"
     ]
    }
   ],
   "source": [
    "cost_of_goods_sold = 1063357\n",
    "inventory_yr1 = 284009\n",
    "inventory_yr2 = 208116\n",
    "avg_inventory = (inventory_yr1 + inventory_yr2 )/ 2\n",
    "\n",
    "inventory_turnover = cost_of_goods_sold / avg_inventory\n",
    "print(\"Inventoury turnover = {:.2f} times\".format(inventory_turnover) )\n",
    "days_inventory = 365 / inventory_turnover\n",
    "print(\"Days in inventory = {:.2f}\".format(days_inventory))"
   ]
  },
  {
   "cell_type": "code",
   "execution_count": null,
   "metadata": {},
   "outputs": [],
   "source": []
  }
 ],
 "metadata": {
  "kernelspec": {
   "display_name": "Python 3.10.7 64-bit",
   "language": "python",
   "name": "python3"
  },
  "language_info": {
   "codemirror_mode": {
    "name": "ipython",
    "version": 3
   },
   "file_extension": ".py",
   "mimetype": "text/x-python",
   "name": "python",
   "nbconvert_exporter": "python",
   "pygments_lexer": "ipython3",
   "version": "3.10.7"
  },
  "orig_nbformat": 4,
  "vscode": {
   "interpreter": {
    "hash": "aee8b7b246df8f9039afb4144a1f6fd8d2ca17a180786b69acc140d282b71a49"
   }
  }
 },
 "nbformat": 4,
 "nbformat_minor": 2
}
