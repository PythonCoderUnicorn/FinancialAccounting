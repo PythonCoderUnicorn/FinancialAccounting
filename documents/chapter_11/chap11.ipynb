{
 "cells": [
  {
   "cell_type": "markdown",
   "metadata": {},
   "source": [
    "# chapter 11 - shareholders equity"
   ]
  },
  {
   "cell_type": "markdown",
   "metadata": {},
   "source": [
    "## common shares\n",
    "\n",
    "\n",
    "- company issues 5,000 common shares in exchange for a parcel of land on Jan 27.\n",
    "The shares were trading at $3.50 per share and land was \n",
    "valued at 20,000 dollars on day of acquisition\n"
   ]
  },
  {
   "cell_type": "code",
   "execution_count": 3,
   "metadata": {},
   "outputs": [
    {
     "name": "stdout",
     "output_type": "stream",
     "text": [
      "shares x price = $17500.0\n"
     ]
    }
   ],
   "source": [
    "common_shares = 5000\n",
    "price_per_share = 3.50\n",
    "land_value = 20_000\n",
    "\n",
    "consideration = common_shares * price_per_share\n",
    "print(f\"shares x price = ${consideration}\") "
   ]
  },
  {
   "cell_type": "markdown",
   "metadata": {},
   "source": [
    "### repurchasing of common shares \n",
    "\n",
    "1. remove the cost of the shares from the share capital account\n",
    "2. record the cash paid\n",
    "3. record the 'gain' or 'loss' on reacquisition, the difference between price paid to reacquire the shares and their average cost \n"
   ]
  },
  {
   "cell_type": "markdown",
   "metadata": {},
   "source": [
    "company reacquired common shares at a price less than their average cost, and now has a total of 20,000 common shares issued and balance in account is $50,000. \n",
    "\n",
    "- The caverage cost of common shares before reacquisition is $2.50 per share\n",
    "\n",
    "later company reacquired and  retired 5,000 of its common shares at price $1.50 per share"
   ]
  },
  {
   "cell_type": "code",
   "execution_count": 21,
   "metadata": {},
   "outputs": [],
   "source": [
    "shares = {\n",
    "    \"common_shares\" : 5000, # retired shares\n",
    "    \"price_per_share\" : 2.5,\n",
    "    \"new_price_per_share\" : 1.5,\n",
    "    \"total_new_shares\" : 20_000,\n",
    "    'account_balance': 50_000,\n",
    "\n",
    "    'retire_common_shares': 4000,\n",
    "    'retired_share_price': 4.00\n",
    "}"
   ]
  },
  {
   "cell_type": "code",
   "execution_count": 43,
   "metadata": {},
   "outputs": [],
   "source": [
    "\n",
    "def repurchase_shares( dict_):\n",
    "    #  below avg\n",
    "    shares_price = dict_['common_shares'] * dict_['price_per_share']\n",
    "    price_diff = dict_['price_per_share'] - dict_['new_price_per_share']\n",
    "    contrib_surplus = dict_['common_shares'] * price_diff\n",
    "    cash = dict_['common_shares'] * dict_['new_price_per_share']\n",
    "\n",
    "    total_shares = dict_['total_new_shares'] - dict_['common_shares']\n",
    "    balance = dict_['account_balance'] - shares_price\n",
    "\n",
    "    # above avg\n",
    "    abov_common_share = dict_['retire_common_shares'] * dict_['price_per_share']\n",
    "    abov_cash = dict_['retire_common_shares'] * dict_['retired_share_price']\n",
    "    avg_cost_per_share = dict_['retired_share_price'] - dict_['price_per_share']\n",
    "    retained_earnings = (abov_cash - abov_common_share) - contrib_surplus\n",
    "\n",
    "\n",
    "    print(\"------ BELOW AVG COST ------\")\n",
    "    print(f\"Common shares = ${shares_price}\")\n",
    "    print(f\"Contrbuted surplus = ${contrib_surplus}\")\n",
    "    print(f\"Cash = ${cash}\")\n",
    "    print(f\"shares issued = {total_shares}\")\n",
    "    print(f\"balance = ${balance}\")\n",
    "\n",
    "\n",
    "    print(\"\\n------- ABOVE AVG COST -----\")\n",
    "    print(f\"Common shares = ${abov_common_share}\")\n",
    "    print(f\"Contrbuted surplus = ${contrib_surplus}\")\n",
    "    print(f\"Average price per share = ${avg_cost_per_share}\")\n",
    "    print(f\"Retained earnings = ${retained_earnings}\")\n",
    "    print(f\"cash = ${abov_cash}\")"
   ]
  },
  {
   "cell_type": "code",
   "execution_count": 44,
   "metadata": {},
   "outputs": [
    {
     "name": "stdout",
     "output_type": "stream",
     "text": [
      "------ BELOW AVG COST ------\n",
      "Common shares = $12500.0\n",
      "Contrbuted surplus = $5000.0\n",
      "Cash = $7500.0\n",
      "shares issued = 15000\n",
      "balance = $37500.0\n",
      "\n",
      "------- ABOVE AVG COST -----\n",
      "Common shares = $10000.0\n",
      "Contrbuted surplus = $5000.0\n",
      "Average price per share = $1.5\n",
      "Retained earnings = $1000.0\n",
      "cash = $16000.0\n"
     ]
    }
   ],
   "source": [
    "repurchase_shares( shares )"
   ]
  },
  {
   "cell_type": "markdown",
   "metadata": {},
   "source": [
    "### cash dividends\n",
    "\n",
    "retained earnings end of period = retained earnings beginning of period + net income - dividends declared"
   ]
  },
  {
   "cell_type": "code",
   "execution_count": null,
   "metadata": {},
   "outputs": [],
   "source": []
  },
  {
   "cell_type": "code",
   "execution_count": null,
   "metadata": {},
   "outputs": [],
   "source": []
  },
  {
   "cell_type": "code",
   "execution_count": null,
   "metadata": {},
   "outputs": [],
   "source": []
  },
  {
   "cell_type": "code",
   "execution_count": null,
   "metadata": {},
   "outputs": [],
   "source": []
  },
  {
   "cell_type": "markdown",
   "metadata": {},
   "source": []
  }
 ],
 "metadata": {
  "kernelspec": {
   "display_name": "Python 3.10.7 64-bit",
   "language": "python",
   "name": "python3"
  },
  "language_info": {
   "codemirror_mode": {
    "name": "ipython",
    "version": 3
   },
   "file_extension": ".py",
   "mimetype": "text/x-python",
   "name": "python",
   "nbconvert_exporter": "python",
   "pygments_lexer": "ipython3",
   "version": "3.10.7"
  },
  "orig_nbformat": 4,
  "vscode": {
   "interpreter": {
    "hash": "aee8b7b246df8f9039afb4144a1f6fd8d2ca17a180786b69acc140d282b71a49"
   }
  }
 },
 "nbformat": 4,
 "nbformat_minor": 2
}
