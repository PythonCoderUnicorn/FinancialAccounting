{
 "cells": [
  {
   "cell_type": "markdown",
   "metadata": {},
   "source": [
    "# chapter 11 - shareholders equity"
   ]
  },
  {
   "cell_type": "markdown",
   "metadata": {},
   "source": [
    "## common shares\n",
    "\n",
    "\n",
    "- company issues 5,000 common shares in exchange for a parcel of land on Jan 27.\n",
    "The shares were trading at $3.50 per share and land was \n",
    "valued at 20,000 dollars on day of acquisition\n"
   ]
  },
  {
   "cell_type": "code",
   "execution_count": 3,
   "metadata": {},
   "outputs": [
    {
     "name": "stdout",
     "output_type": "stream",
     "text": [
      "shares x price = $17500.0\n"
     ]
    }
   ],
   "source": [
    "common_shares = 5000\n",
    "price_per_share = 3.50\n",
    "land_value = 20_000\n",
    "\n",
    "consideration = common_shares * price_per_share\n",
    "print(f\"shares x price = ${consideration}\") "
   ]
  },
  {
   "cell_type": "markdown",
   "metadata": {},
   "source": [
    "### repurchasing of common shares \n",
    "\n",
    "1. remove the cost of the shares from the share capital account\n",
    "2. record the cash paid\n",
    "3. record the 'gain' or 'loss' on reacquisition, the difference between price paid to reacquire the shares and their average cost \n"
   ]
  },
  {
   "cell_type": "markdown",
   "metadata": {},
   "source": [
    "company reacquired common shares at a price less than their average cost, and now has a total of 20,000 common shares issued and balance in account is $50,000. \n",
    "\n",
    "- The caverage cost of common shares before reacquisition is $2.50 per share\n",
    "\n",
    "later company reacquired and  retired 5,000 of its common shares at price $1.50 per share"
   ]
  },
  {
   "cell_type": "code",
   "execution_count": 21,
   "metadata": {},
   "outputs": [],
   "source": [
    "shares = {\n",
    "    \"common_shares\" : 5000, # retired shares\n",
    "    \"price_per_share\" : 2.5,\n",
    "    \"new_price_per_share\" : 1.5,\n",
    "    \"total_new_shares\" : 20_000,\n",
    "    'account_balance': 50_000,\n",
    "\n",
    "    'retire_common_shares': 4000,\n",
    "    'retired_share_price': 4.00\n",
    "}"
   ]
  },
  {
   "cell_type": "code",
   "execution_count": 43,
   "metadata": {},
   "outputs": [],
   "source": [
    "\n",
    "def repurchase_shares( dict_):\n",
    "    #  below avg\n",
    "    shares_price = dict_['common_shares'] * dict_['price_per_share']\n",
    "    price_diff = dict_['price_per_share'] - dict_['new_price_per_share']\n",
    "    contrib_surplus = dict_['common_shares'] * price_diff\n",
    "    cash = dict_['common_shares'] * dict_['new_price_per_share']\n",
    "\n",
    "    total_shares = dict_['total_new_shares'] - dict_['common_shares']\n",
    "    balance = dict_['account_balance'] - shares_price\n",
    "\n",
    "    # above avg\n",
    "    abov_common_share = dict_['retire_common_shares'] * dict_['price_per_share']\n",
    "    abov_cash = dict_['retire_common_shares'] * dict_['retired_share_price']\n",
    "    avg_cost_per_share = dict_['retired_share_price'] - dict_['price_per_share']\n",
    "    retained_earnings = (abov_cash - abov_common_share) - contrib_surplus\n",
    "\n",
    "\n",
    "    print(\"------ BELOW AVG COST ------\")\n",
    "    print(f\"Common shares = ${shares_price}\")\n",
    "    print(f\"Contrbuted surplus = ${contrib_surplus}\")\n",
    "    print(f\"Cash = ${cash}\")\n",
    "    print(f\"shares issued = {total_shares}\")\n",
    "    print(f\"balance = ${balance}\")\n",
    "\n",
    "\n",
    "    print(\"\\n------- ABOVE AVG COST -----\")\n",
    "    print(f\"Common shares = ${abov_common_share}\")\n",
    "    print(f\"Contrbuted surplus = ${contrib_surplus}\")\n",
    "    print(f\"Average price per share = ${avg_cost_per_share}\")\n",
    "    print(f\"Retained earnings = ${retained_earnings}\")\n",
    "    print(f\"cash = ${abov_cash}\")"
   ]
  },
  {
   "cell_type": "code",
   "execution_count": 44,
   "metadata": {},
   "outputs": [
    {
     "name": "stdout",
     "output_type": "stream",
     "text": [
      "------ BELOW AVG COST ------\n",
      "Common shares = $12500.0\n",
      "Contrbuted surplus = $5000.0\n",
      "Cash = $7500.0\n",
      "shares issued = 15000\n",
      "balance = $37500.0\n",
      "\n",
      "------- ABOVE AVG COST -----\n",
      "Common shares = $10000.0\n",
      "Contrbuted surplus = $5000.0\n",
      "Average price per share = $1.5\n",
      "Retained earnings = $1000.0\n",
      "cash = $16000.0\n"
     ]
    }
   ],
   "source": [
    "repurchase_shares( shares )"
   ]
  },
  {
   "cell_type": "markdown",
   "metadata": {},
   "source": [
    "### cash dividends\n",
    "\n",
    "retained earnings end of period = retained earnings beginning of period + net income - dividends declared\n",
    "\n",
    "\n",
    "### stock dividends\n",
    "\n",
    "distribution of the corporation's own shares rather than cash to shareholders, paid in shares. \n",
    "- Stock dividends do not change assets/ lliabilities / shareholder's equity\n",
    "- cutting the 1 piece of pie into 2\n",
    "\n",
    "why do this ?\n",
    "\n",
    "- satify shareholder dividend expectations while conserving cash\n",
    "- increase marketability of the shares\n",
    "- portion of shareholder equity has been permanently reinvested in the legal capital of the business and is unavailable for dividends"
   ]
  },
  {
   "cell_type": "markdown",
   "metadata": {},
   "source": [
    "a company has 50,000 common shares with a balance of `$` 500,000 in Common Shares and `$`300,000 in retained earnings. June 30 the board declares a 10% stock dividend to shareholders at July 20, to be distributed to shareholders on August 5. The share price on June 30 is `$`15 per share on July 20, `$`26 per share and Aug 5 `$`14 per share"
   ]
  },
  {
   "cell_type": "code",
   "execution_count": 4,
   "metadata": {},
   "outputs": [
    {
     "name": "stdout",
     "output_type": "stream",
     "text": [
      "Number of shares to be issued: 5000.0\n",
      "Dividends declared account = $75,000.0\n"
     ]
    }
   ],
   "source": [
    "# number of shares to be issued\n",
    "common_shares = 50_000\n",
    "stock_dividend = 0.10\n",
    "share_price = 15\n",
    "\n",
    "num_shares_issued = common_shares * stock_dividend\n",
    "\n",
    "dividends_declared = num_shares_issued * share_price\n",
    "\n",
    "\n",
    "print(f\"Number of shares to be issued: {num_shares_issued}\")\n",
    "print(\"Dividends declared account = ${:,}\".format(dividends_declared))"
   ]
  },
  {
   "cell_type": "markdown",
   "metadata": {},
   "source": [
    "`stock splits` the issue of additional shares to shareholders according to their percentage ownership, usually much larger than a stock dividend\n",
    "\n",
    "- stock dividend could result in additional 10% of common shares issued\n",
    "- stock split could result in 100% more common shares issued"
   ]
  },
  {
   "cell_type": "markdown",
   "metadata": {},
   "source": [
    "a company has 100,000 common shares trading at `$`20 per share (100_000 x `$`20 = `$`2 million) before the split issues an additional 100,000 shares to have a total of 200,000 common shares (100_000 x 2)\n",
    "\n",
    "company does not pay out cash when stock is split, there are 200,000 common shares , each will be traded at `$`10"
   ]
  },
  {
   "cell_type": "code",
   "execution_count": null,
   "metadata": {},
   "outputs": [],
   "source": []
  },
  {
   "cell_type": "markdown",
   "metadata": {},
   "source": [
    "## statement of financial position\n",
    "\n",
    "shareholdes equity\n",
    "\n",
    "- contributed capital\n",
    "- retained earnings\n",
    "- accumulated other comprehensive income (if any)\n",
    "\n",
    "### contributed apital \n",
    "\n",
    "amounts contributed by shareholders, including contributed surplus (if any)\n",
    "\n",
    "- `share capital` has preferred and common shares, the number of shares: authorized/ issued/received/dividend rate\n",
    "- `contributed surplus` includes equity amounts other than share capital not arising from sources of income\n",
    "\n",
    "\n",
    "### retained earnings \n",
    "\n",
    "cumulative net incomes (or losses) not distributed to shareholders\n",
    "\n",
    "### accumulated other comprehensive income (IFRS)\n",
    "\n",
    "certain gains and losses bypass net income and are recorded in `other comprehensive income (OCI)`\n",
    "\n",
    "- comprhensive income (loss) = net income (loss) + OCI\n",
    "\n"
   ]
  },
  {
   "cell_type": "code",
   "execution_count": 9,
   "metadata": {},
   "outputs": [
    {
     "name": "stdout",
     "output_type": "stream",
     "text": [
      "Contributed surplus = $41478\n",
      "Accumulated other comprehensive income = $600102\n"
     ]
    }
   ],
   "source": [
    "common_shares = 34389\n",
    "shares_issued = 7089\n",
    "total_contributed_capital = 558_226\n",
    "retained_earnings = 398\n",
    "\n",
    "contributed_surplus = common_shares + shares_issued\n",
    "accum_other_income = total_contributed_capital + retained_earnings + contributed_surplus\n",
    "\n",
    "\n",
    "print(f\"Contributed surplus = ${contributed_surplus}\")\n",
    "print(f\"Accumulated other comprehensive income = ${accum_other_income}\")"
   ]
  },
  {
   "cell_type": "markdown",
   "metadata": {},
   "source": [
    "### Dividend record\n",
    "\n",
    "`payout ratio` measures the percentage of a company's net income distrubuted as cash dividends\n",
    "\n"
   ]
  },
  {
   "cell_type": "code",
   "execution_count": 24,
   "metadata": {},
   "outputs": [],
   "source": [
    "company_selected_info = {\n",
    "    'year': 2015,\n",
    "    'net_income': 76_629,\n",
    "    'shareholder_equity': 600_402,\n",
    "    'dividends_declared': 28_465,\n",
    "    'weighted_avg_num_shares': 71_218,\n",
    "    'dividends_declared_per_share': 0.40,\n",
    "    'market_price_per_share': 14.08,\n",
    "    'preferred_shares_issued': 0\n",
    "}"
   ]
  },
  {
   "cell_type": "code",
   "execution_count": 40,
   "metadata": {},
   "outputs": [],
   "source": [
    "def dividend_payout_ratio( dict ):\n",
    "    payout_ratio = dict['dividends_declared'] / dict['net_income']\n",
    "    print(\"Dividend payout ratio = {:.2f}% ({})\".format(payout_ratio *100, dict['year']))\n",
    "\n",
    "    # the value being high or low being good depends on investor view\n",
    "    #  if seeking dividend income then high payout ratio is good but less money for company growth\n",
    "\n",
    "def dividend_yield( dict ):\n",
    "    div_yeild = dict['dividends_declared_per_share'] / dict['market_price_per_share']\n",
    "    print(\"Dividend yield = {:.2f}% ({})\".format(div_yeild * 100, dict['year'] ))\n",
    "\n",
    "    # the measure of a shareholder's return on their investment\n",
    "    #  investor paid $14.08 per share\n",
    "    #  annual dividend per share is  40 cents\n",
    "    #  return on investment is 2.8% \n"
   ]
  },
  {
   "cell_type": "code",
   "execution_count": 41,
   "metadata": {},
   "outputs": [
    {
     "name": "stdout",
     "output_type": "stream",
     "text": [
      "Dividend payout ratio = 37.15% (2015)\n",
      "Dividend yield = 2.84% (2015)\n"
     ]
    }
   ],
   "source": [
    "dividend_payout_ratio( company_selected_info )\n",
    "\n",
    "dividend_yield( company_selected_info )"
   ]
  },
  {
   "cell_type": "markdown",
   "metadata": {},
   "source": [
    "### Earning performance (profitability) \n",
    "\n",
    "earnings per share"
   ]
  },
  {
   "cell_type": "code",
   "execution_count": 44,
   "metadata": {},
   "outputs": [],
   "source": [
    "def earnings_per_share( dict ):\n",
    "    income_avail_common_shareholders = ( dict['net_income'] - dict['preferred_shares_issued'] ) \n",
    "\n",
    "    earn_per_share = income_avail_common_shareholders / dict['weighted_avg_num_shares']\n",
    "    print(\"Basic earnings per share = ${:.2f}\".format(earn_per_share))"
   ]
  },
  {
   "cell_type": "code",
   "execution_count": 45,
   "metadata": {},
   "outputs": [
    {
     "name": "stdout",
     "output_type": "stream",
     "text": [
      "Basic earnings per share = $1.08\n"
     ]
    }
   ],
   "source": [
    "earnings_per_share( company_selected_info )"
   ]
  },
  {
   "cell_type": "markdown",
   "metadata": {},
   "source": [
    "### return on equity \n",
    "\n",
    "ratio that measures profitability from the common shareholders view. shows how many dollars were earned for each dollar invested by common shareholders\n",
    "\n",
    "- need previous year's `shareholder's equity` value"
   ]
  },
  {
   "cell_type": "code",
   "execution_count": 47,
   "metadata": {},
   "outputs": [],
   "source": [
    "company_selected_info['shareholder_equity_2014'] = 549_105"
   ]
  },
  {
   "cell_type": "code",
   "execution_count": 48,
   "metadata": {},
   "outputs": [],
   "source": [
    "def return_on_equity( dict ):\n",
    "    income_avail_common_shareholders = ( dict['net_income'] - dict['preferred_shares_issued'] )\n",
    "    avg_shareholder_equity = (dict['shareholder_equity'] + dict['shareholder_equity_2014']) / 2\n",
    "\n",
    "    roe = income_avail_common_shareholders / avg_shareholder_equity\n",
    "\n",
    "    print(\"Return on common shareholder's equity = {:.2f}%\".format( roe * 100 ))"
   ]
  },
  {
   "cell_type": "code",
   "execution_count": 49,
   "metadata": {},
   "outputs": [
    {
     "name": "stdout",
     "output_type": "stream",
     "text": [
      "Return on common shareholder's equity = 13.33%\n"
     ]
    }
   ],
   "source": [
    "return_on_equity( company_selected_info )"
   ]
  },
  {
   "cell_type": "code",
   "execution_count": null,
   "metadata": {},
   "outputs": [],
   "source": []
  }
 ],
 "metadata": {
  "kernelspec": {
   "display_name": "Python 3.10.7 64-bit",
   "language": "python",
   "name": "python3"
  },
  "language_info": {
   "codemirror_mode": {
    "name": "ipython",
    "version": 3
   },
   "file_extension": ".py",
   "mimetype": "text/x-python",
   "name": "python",
   "nbconvert_exporter": "python",
   "pygments_lexer": "ipython3",
   "version": "3.10.7"
  },
  "orig_nbformat": 4,
  "vscode": {
   "interpreter": {
    "hash": "aee8b7b246df8f9039afb4144a1f6fd8d2ca17a180786b69acc140d282b71a49"
   }
  }
 },
 "nbformat": 4,
 "nbformat_minor": 2
}
