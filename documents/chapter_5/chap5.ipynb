{
 "cells": [
  {
   "cell_type": "markdown",
   "metadata": {},
   "source": [
    "# merchandising operations"
   ]
  },
  {
   "cell_type": "code",
   "execution_count": 1,
   "metadata": {},
   "outputs": [
    {
     "data": {
      "text/plain": [
       "3430"
      ]
     },
     "execution_count": 1,
     "metadata": {},
     "output_type": "execute_result"
    }
   ],
   "source": [
    "sales = 3800\n",
    "sales_revenue = 300 \n",
    "sales_discount = 70\n",
    "\n",
    "net_sales = sales - sales_revenue - sales_discount\n",
    "net_sales"
   ]
  },
  {
   "cell_type": "markdown",
   "metadata": {},
   "source": [
    "multi step income statement\n",
    "\n",
    "1. net sales: gross slaes less sales returns and allowance and sales discount\n",
    "2. gross profit: net sales less cost of goods sold\n",
    "3. income from operations: gross profit less operating expenses\n",
    "4. income before income tax: income from operations plue non-operating revenues and less non-operating expenses\n",
    "5. net income: income before income tax less income tax expense"
   ]
  },
  {
   "cell_type": "markdown",
   "metadata": {},
   "source": [
    "gross profit margin"
   ]
  },
  {
   "cell_type": "code",
   "execution_count": 3,
   "metadata": {},
   "outputs": [],
   "source": [
    "company = {\n",
    "     'net_sales': 460_000,\n",
    "     'interest_revenue': 3400,\n",
    "     'cost_of_goods_sold': 316_000,\n",
    "     'salaries_expense': 45_000,\n",
    "     'rent_expense': 19_000,\n",
    "     'utilities_expense': 17_000,\n",
    "     'advertising_expense': 16_000,\n",
    "     'depreciation_expense': 8_000,\n",
    "     'freight_out': 7_000,\n",
    "     'insurance_expense': 2_000,\n",
    "     'interest_expense': 1600,\n",
    "     'loss_on_disposal': 200,\n",
    "     'income_before_income_tax': 31_600,\n",
    "     'income_tax_expense': 6300,\n",
    "     'net_income': 25_300\n",
    "}"
   ]
  },
  {
   "cell_type": "code",
   "execution_count": 17,
   "metadata": {},
   "outputs": [],
   "source": [
    "def gross_profit_margin( dict_ ):\n",
    "    gross_profit = dict_['net_sales'] - dict_['cost_of_goods_sold']\n",
    "    gpm = gross_profit / dict_['net_sales']\n",
    "    print(\"Gross profit margin = {:.2f}%\".format(gpm * 100))\n",
    "    print(\"... gross profit ${:.2f} for every $1 of net sales earned\".format(gpm))\n",
    "\n",
    "\n",
    "def profit_margin( dict_ ):\n",
    "    prof_margin = dict_['net_income'] / dict_['net_sales']\n",
    "    print(\"Profit margin = {:.2f}%\".format(prof_margin * 100))\n",
    "    print(\"... `%` of sales that is profit\")\n",
    "\n"
   ]
  },
  {
   "cell_type": "code",
   "execution_count": 18,
   "metadata": {},
   "outputs": [
    {
     "name": "stdout",
     "output_type": "stream",
     "text": [
      "Gross profit margin = 31.30%\n",
      "... gross profit $0.31 for every $1 of net sales earned\n"
     ]
    }
   ],
   "source": [
    "gross_profit_margin( company)"
   ]
  },
  {
   "cell_type": "code",
   "execution_count": 19,
   "metadata": {},
   "outputs": [
    {
     "name": "stdout",
     "output_type": "stream",
     "text": [
      "Profit margin = 5.50%\n",
      "... `%` of sales that is profit\n"
     ]
    }
   ],
   "source": [
    "profit_margin( company )"
   ]
  },
  {
   "cell_type": "markdown",
   "metadata": {},
   "source": [
    "calculating cost of goods sold\n",
    "\n",
    "1. calculate cost of goods purchased\n",
    "2. determine the cost of goods available for sale by adding the cost of goods purchased to beginning inventory\n",
    "3. determine ending inventory based on an inventory count\n",
    "4. calculate the cost of goods sold by subtracting the ending inventory from cost of goods available for sale "
   ]
  },
  {
   "cell_type": "code",
   "execution_count": 29,
   "metadata": {},
   "outputs": [],
   "source": [
    "def cost_of_goods_purchased( dict_):\n",
    "    net_purchases = dict_['purchases'] - dict_['purchase_returns_allowances'] - dict_['purchase_discounts']\n",
    "\n",
    "    cogs = net_purchases + dict_['freight_shipping']\n",
    "    print(\"Cost of goods purchased = ${:,}\".format(cogs))"
   ]
  },
  {
   "cell_type": "code",
   "execution_count": 30,
   "metadata": {},
   "outputs": [
    {
     "name": "stdout",
     "output_type": "stream",
     "text": [
      "Cost of goods purchased = $3,580\n"
     ]
    }
   ],
   "source": [
    "company['purchases'] = 3800\n",
    "company['purchase_returns_allowances'] = 300\n",
    "company['purchase_discounts'] = 70\n",
    "company['freight_shipping'] = 150\n",
    "\n",
    "cost_of_goods_purchased( company )\n",
    "\n"
   ]
  },
  {
   "cell_type": "code",
   "execution_count": 27,
   "metadata": {},
   "outputs": [],
   "source": [
    "def net_sales( dict_):\n",
    "    netsales = dict_['sales'] - dict_['sales_returns_allowances'] - dict_['sales_discount']\n",
    "    print('Net sales = ${:,}'.format(netsales))"
   ]
  },
  {
   "cell_type": "code",
   "execution_count": 28,
   "metadata": {},
   "outputs": [
    {
     "name": "stdout",
     "output_type": "stream",
     "text": [
      "Net sales = $3,430\n"
     ]
    }
   ],
   "source": [
    "company['sales'] = 3800\n",
    "company['sales_returns_allowances'] = 300\n",
    "company['sales_discount'] = 70\n",
    "\n",
    "net_sales( company )"
   ]
  },
  {
   "cell_type": "code",
   "execution_count": 37,
   "metadata": {},
   "outputs": [],
   "source": [
    "def cost_of_goods_sold( dict_ ):\n",
    "    cogs_available = dict_['beginning_inventory'] + dict_['cost_of_goods_sold']\n",
    " \n",
    "    cogs_sold = cogs_available - dict_['ending_inventory']\n",
    "    print(\"Cost of goods sold = ${:,}\".format(cogs_sold))"
   ]
  },
  {
   "cell_type": "code",
   "execution_count": 38,
   "metadata": {},
   "outputs": [
    {
     "name": "stdout",
     "output_type": "stream",
     "text": [
      "Cost of goods sold = $316,000\n"
     ]
    }
   ],
   "source": [
    "company['beginning_inventory'] = 36_000\n",
    "company['ending_inventory'] = 40_000\n",
    "company['cost_of_goods_sold'] = 320_000\n",
    "\n",
    "cost_of_goods_sold( company )"
   ]
  },
  {
   "cell_type": "code",
   "execution_count": null,
   "metadata": {},
   "outputs": [],
   "source": []
  }
 ],
 "metadata": {
  "kernelspec": {
   "display_name": "Python 3.10.7 64-bit",
   "language": "python",
   "name": "python3"
  },
  "language_info": {
   "codemirror_mode": {
    "name": "ipython",
    "version": 3
   },
   "file_extension": ".py",
   "mimetype": "text/x-python",
   "name": "python",
   "nbconvert_exporter": "python",
   "pygments_lexer": "ipython3",
   "version": "3.10.7"
  },
  "orig_nbformat": 4,
  "vscode": {
   "interpreter": {
    "hash": "aee8b7b246df8f9039afb4144a1f6fd8d2ca17a180786b69acc140d282b71a49"
   }
  }
 },
 "nbformat": 4,
 "nbformat_minor": 2
}
