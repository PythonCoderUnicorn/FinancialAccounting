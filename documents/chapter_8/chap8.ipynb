{
 "cells": [
  {
   "cell_type": "markdown",
   "metadata": {},
   "source": [
    "# chapter 8 - report & analyze receivables"
   ]
  },
  {
   "cell_type": "markdown",
   "metadata": {},
   "source": [
    "`accounts receivable` = amounts owed to customers on account, the sale of goods and services\n",
    "\n",
    "`notes receiveable` = a written promise to repay issued as evidence of debt\n",
    "\n",
    "`other receivables` = nontrade receivables , interest receivables, advances to employees etc\n",
    "\n",
    "`receivables turnover` = ratio to assess the liquidity of receivables\n"
   ]
  },
  {
   "cell_type": "code",
   "execution_count": 4,
   "metadata": {},
   "outputs": [
    {
     "name": "stdout",
     "output_type": "stream",
     "text": [
      "Receivables turnover ratio = 13.7\n",
      "Average collection period = 26.6 days\n"
     ]
    }
   ],
   "source": [
    "net_sales = 12279.6\n",
    "accounts_receivable_gross_yr1 = 915\n",
    "accounts_receivable_gross_yr2 = 880.2\n",
    "avg_gross_acct_rec = (accounts_receivable_gross_yr1 + accounts_receivable_gross_yr2) / 2\n",
    "\n",
    "receivables_turnover = round( net_sales / avg_gross_acct_rec, 1)\n",
    "avg_collection_period = round( 365 / receivables_turnover, 1)\n",
    "\n",
    "print(f\"Receivables turnover ratio = {receivables_turnover}\")\n",
    "print(f\"Average collection period = {avg_collection_period} days\")"
   ]
  },
  {
   "cell_type": "code",
   "execution_count": null,
   "metadata": {},
   "outputs": [],
   "source": []
  }
 ],
 "metadata": {
  "kernelspec": {
   "display_name": "Python 3.10.7 64-bit",
   "language": "python",
   "name": "python3"
  },
  "language_info": {
   "codemirror_mode": {
    "name": "ipython",
    "version": 3
   },
   "file_extension": ".py",
   "mimetype": "text/x-python",
   "name": "python",
   "nbconvert_exporter": "python",
   "pygments_lexer": "ipython3",
   "version": "3.10.7"
  },
  "orig_nbformat": 4,
  "vscode": {
   "interpreter": {
    "hash": "aee8b7b246df8f9039afb4144a1f6fd8d2ca17a180786b69acc140d282b71a49"
   }
  }
 },
 "nbformat": 4,
 "nbformat_minor": 2
}
