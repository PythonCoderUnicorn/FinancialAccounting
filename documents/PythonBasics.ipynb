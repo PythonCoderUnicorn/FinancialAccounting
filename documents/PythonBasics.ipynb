{
 "cells": [
  {
   "cell_type": "markdown",
   "id": "d89f90d9-d230-4faf-baa9-4dfdecb45d28",
   "metadata": {},
   "source": [
    "# Financial Accounting with Python\n",
    "\n",
    "\n",
    "## Python Basics\n",
    "\n",
    "This file will show you the basics of programming in the Python language.  Python is dynamically typed, which means you can name things however you want, spelling matters when you want to reuse a variable or function as the name has to match.\n",
    "\n",
    "- Python syntax is based on indentation for some things, this is important to keep in mind."
   ]
  },
  {
   "cell_type": "markdown",
   "id": "a4e8d823-7e24-4551-9f6e-60fd423a5442",
   "metadata": {},
   "source": [
    "## Variables\n",
    "\n",
    "variables are names to store data. If you have a long variable name, use _ to keep the words together. \n",
    "\n",
    "- var_name_example\n",
    "\n",
    "Rules for variables:\n",
    "\n",
    "- cannot start with .\n",
    "- cannot start with a number or special character"
   ]
  },
  {
   "cell_type": "code",
   "execution_count": 6,
   "id": "e41beb3b-f80f-4f39-a2d9-b40ed183de82",
   "metadata": {},
   "outputs": [],
   "source": [
    "i_am_a_variable = \"variable string\"\n",
    "\n",
    "var = 3\n",
    "var_1 = 8"
   ]
  },
  {
   "cell_type": "markdown",
   "id": "1c4f64de-cce0-45ba-b11d-02866c2ae307",
   "metadata": {
    "tags": []
   },
   "source": [
    "## Data types\n",
    "\n",
    "```\n",
    "Text Type:\t       str (string)\n",
    "Numeric Types:\t   int, float, complex\n",
    "Sequence Types:\t  list, tuple, range\n",
    "Mapping Type:\t    dict\n",
    "Set Types:\t       set, frozenset\n",
    "Boolean Type:\t    bool\n",
    "Binary Types:\t    bytes, bytearray, memoryview\n",
    "None Type:\t       NoneType\n",
    "```"
   ]
  },
  {
   "cell_type": "markdown",
   "id": "b94d2757-e45b-4ea0-80d1-3b22a9c884a4",
   "metadata": {},
   "source": [
    "## Strings\n",
    "\n",
    "Strings are typically letters but anything can be a string, as a string is _anything_ inside \" \" or ' ' quotation marks. Strings are stored inside a `variable` which you get to name whatever you want. Note: _some words are reserved and cannot be used; while, if, break, else, etc_. If you use a reserved word you get an error and will not be able to run your code.\n",
    "\n",
    "\n"
   ]
  },
  {
   "cell_type": "code",
   "execution_count": 10,
   "id": "ee5088be-537c-4f98-aae9-03e71b282da9",
   "metadata": {},
   "outputs": [
    {
     "name": "stdout",
     "output_type": "stream",
     "text": [
      "Gets\n",
      "a\n",
      "raise!\n"
     ]
    }
   ],
   "source": [
    "stringy = \"pasta string\"\n",
    "\n",
    "chartered_accountant = \"Jane Doe\"\n",
    "\n",
    "string_number = \"788\"  # this is not equivalent to the integer 788\n",
    "\n",
    "financial, accounting, department = \"Gets\", \"a\", \"raise!\"\n",
    "\n",
    "print(financial)\n",
    "print(accounting)\n",
    "print(department)"
   ]
  },
  {
   "cell_type": "code",
   "execution_count": 11,
   "id": "b5c61f39-22b9-443e-bf00-580e1382f0be",
   "metadata": {},
   "outputs": [
    {
     "name": "stdout",
     "output_type": "stream",
     "text": [
      "Getsaraise!\n"
     ]
    }
   ],
   "source": [
    "# instead of using the print function 3 times we can concatenate the 3 strings\n",
    "print(financial + accounting + department)"
   ]
  },
  {
   "cell_type": "code",
   "execution_count": 13,
   "id": "4a10a435-d618-4549-b4ac-b9ec2c0fc2d1",
   "metadata": {},
   "outputs": [
    {
     "name": "stdout",
     "output_type": "stream",
     "text": [
      "Gets a raise!\n"
     ]
    }
   ],
   "source": [
    "# let us redo this but add ' ' between each word\n",
    "print(financial + ' ' + accounting + ' ' + department)"
   ]
  },
  {
   "cell_type": "code",
   "execution_count": 16,
   "id": "fd4a5443-11e0-426f-bf20-cfbb26443916",
   "metadata": {},
   "outputs": [
    {
     "name": "stdout",
     "output_type": "stream",
     "text": [
      "Gets a raise! $788\n"
     ]
    }
   ],
   "source": [
    "# one more time but save it as a variable and add string_number\n",
    "\n",
    "# NOTE: raise is a reserved word !\n",
    "\n",
    "raises = financial + ' ' + accounting + ' ' + department\n",
    "\n",
    "print(raises + ' $' + string_number) # use the variable from above"
   ]
  },
  {
   "cell_type": "code",
   "execution_count": null,
   "id": "f8eedb0a-f0b8-48a9-93b2-53acb8327967",
   "metadata": {},
   "outputs": [],
   "source": []
  },
  {
   "cell_type": "markdown",
   "id": "511184b1-df2a-448b-a358-7b1c1125453c",
   "metadata": {},
   "source": [
    "## Numbers (int and float)\n",
    "\n",
    "- `int` are numbers without a decimal point value (233)\n",
    "- `float` are numbers with a decimal point value  (233.455)"
   ]
  },
  {
   "cell_type": "code",
   "execution_count": 19,
   "id": "257c1ec7-91d8-41fe-b46c-7347a3164a6b",
   "metadata": {},
   "outputs": [
    {
     "data": {
      "text/plain": [
       "157497.899"
      ]
     },
     "execution_count": 19,
     "metadata": {},
     "output_type": "execute_result"
    }
   ],
   "source": [
    "# variable values can be changed\n",
    "x = 67721\n",
    "y = 89776.899\n",
    "\n",
    "# in Jupyter Notebooks print() is optional for single equations or output\n",
    "x + y"
   ]
  },
  {
   "cell_type": "code",
   "execution_count": 25,
   "id": "b54cb1cd-d279-4969-959f-b8b8561e0780",
   "metadata": {},
   "outputs": [
    {
     "name": "stdout",
     "output_type": "stream",
     "text": [
      "1000000.0 2000000.0\n"
     ]
    }
   ],
   "source": [
    "# unlike in Excel where you can use a comma for large numbers, you cannot in Python\n",
    "# you can use _ to make the numbers human readable \n",
    "\n",
    "million = 1_000_000.00  \n",
    "\n",
    "two_million = 2e6 # can use scientific notation as well\n",
    "\n",
    "print(million, two_million)"
   ]
  },
  {
   "cell_type": "markdown",
   "id": "17630f10-7407-4bfe-a00b-d03d13f71f17",
   "metadata": {},
   "source": [
    "### String formatting and rounding numeric values\n",
    "\n",
    "- string formatting allows for reusable code and simpler code to write. Learning it now will help build the skill. Formatting uses the syntax f\" \" inside a print function with { } to store the variable name\n",
    "- rounding numbers when you want to only show numeric values that have limited decimal places"
   ]
  },
  {
   "cell_type": "code",
   "execution_count": 48,
   "id": "f860c873-bf87-4593-9e3e-e4d1a7cee1b2",
   "metadata": {},
   "outputs": [
    {
     "name": "stdout",
     "output_type": "stream",
     "text": [
      "Hello new Python accountant Jane\n",
      "Did you meet Jessica ?\n"
     ]
    }
   ],
   "source": [
    "#------------------------ string formatting\n",
    "accountant_name = \"Jane\"\n",
    "\n",
    "print(f\"Hello new Python accountant {accountant_name}\")\n",
    "\n",
    "print(\"Did you meet {name} ?\".format(name=\"Jessica\"))"
   ]
  },
  {
   "cell_type": "code",
   "execution_count": 49,
   "id": "076ee958-f27e-44af-8708-cb92f16878f1",
   "metadata": {},
   "outputs": [
    {
     "name": "stdout",
     "output_type": "stream",
     "text": [
      "$ 12332\n",
      "$ 12332.1\n",
      "$ 12332.09\n"
     ]
    }
   ],
   "source": [
    "# ----------------------- number formatting\n",
    "assets = 167552.89\n",
    "liabilities = 12332.0877766\n",
    "\n",
    "print('$ {:.0f}'.format(liabilities))  # .0f means 0 floating point numbers\n",
    "print('$ {:.1f}'.format(liabilities))  # .1f means 1 floating point numbers\n",
    "print('$ {:.2f}'.format(liabilities))  # .2f means 2 floating point numbers"
   ]
  },
  {
   "cell_type": "code",
   "execution_count": 50,
   "id": "43309f49-79cf-45b5-9ee3-fba3e9483aca",
   "metadata": {},
   "outputs": [
    {
     "name": "stdout",
     "output_type": "stream",
     "text": [
      "$ 167,552.89\n"
     ]
    }
   ],
   "source": [
    "print(\"$ {:,}\".format(assets))"
   ]
  },
  {
   "cell_type": "code",
   "execution_count": 51,
   "id": "626478a1-ad9f-4056-9876-88d1a531d1da",
   "metadata": {},
   "outputs": [
    {
     "name": "stdout",
     "output_type": "stream",
     "text": [
      "$ 167,552.9\n"
     ]
    }
   ],
   "source": [
    "# round the numeric value\n",
    "assets = round(assets,1)\n",
    "print(\"$ {:,}\".format(assets))"
   ]
  },
  {
   "cell_type": "code",
   "execution_count": null,
   "id": "6f8cc653-f763-4ca2-a84d-83f9ecc9800f",
   "metadata": {},
   "outputs": [],
   "source": []
  },
  {
   "cell_type": "markdown",
   "id": "3a390e83-ccc5-4d54-96eb-5741451cf022",
   "metadata": {},
   "source": [
    "## Lists\n",
    "\n",
    "Python lists are very useful and are also known as arrays (when using the NumPy library), and can store various data items, duplicates are allowed which is important to know. Lists can be empty and the values can be changed (mutable).\n",
    "\n",
    "IMPORTANT TO KNOW : \n",
    "- every list, dictionary, set and string all start at 0 zero not 1, start counting at 0 or use `n - 1` to get the correct index value"
   ]
  },
  {
   "cell_type": "code",
   "execution_count": 59,
   "id": "092a52e0-4f85-44d0-b027-66395c8a85f1",
   "metadata": {},
   "outputs": [
    {
     "name": "stdout",
     "output_type": "stream",
     "text": [
      "['shareholders equity', 233, True, 'liabilities', 99]\n"
     ]
    }
   ],
   "source": [
    "accounting_list = ['shareholders equity',233, True,\"liabilities\", 99]\n",
    "print(accounting_list)"
   ]
  },
  {
   "cell_type": "code",
   "execution_count": 60,
   "id": "cbb3f630-32e1-4d4c-87b7-78bee6630e15",
   "metadata": {},
   "outputs": [
    {
     "data": {
      "text/plain": [
       "233"
      ]
     },
     "execution_count": 60,
     "metadata": {},
     "output_type": "execute_result"
    }
   ],
   "source": [
    "# get the 2nd item (element) from list, remember n -1 for index\n",
    "accounting_list[1]"
   ]
  },
  {
   "cell_type": "code",
   "execution_count": 61,
   "id": "25f7c10c-c02b-4cd8-a903-7f79f53cb5a7",
   "metadata": {},
   "outputs": [
    {
     "data": {
      "text/plain": [
       "99"
      ]
     },
     "execution_count": 61,
     "metadata": {},
     "output_type": "execute_result"
    }
   ],
   "source": [
    "# get the last element from list, \n",
    "#  --- trick is to use -1 which is the last element\n",
    "accounting_list[-1]"
   ]
  },
  {
   "cell_type": "code",
   "execution_count": 62,
   "id": "ca566ff1-553a-49de-94cd-cd4e6e0dfc9c",
   "metadata": {},
   "outputs": [
    {
     "data": {
      "text/plain": [
       "'liabilities'"
      ]
     },
     "execution_count": 62,
     "metadata": {},
     "output_type": "execute_result"
    }
   ],
   "source": [
    "# get the second last element\n",
    "# --- same trick, think of it \"2 from the end\"\n",
    "accounting_list[-2]"
   ]
  },
  {
   "cell_type": "markdown",
   "id": "8ede2800-94b5-4e4d-b425-fe91ecb64926",
   "metadata": {},
   "source": [
    "You can change an element in the list"
   ]
  },
  {
   "cell_type": "code",
   "execution_count": 65,
   "id": "f7479a33-b356-4ea7-b3cc-96c66319d443",
   "metadata": {},
   "outputs": [
    {
     "data": {
      "text/plain": [
       "['shareholders equity', 233, True, 'purchases', 99]"
      ]
     },
     "execution_count": 65,
     "metadata": {},
     "output_type": "execute_result"
    }
   ],
   "source": [
    "accounting_list[3] = \"purchases\"\n",
    "accounting_list"
   ]
  },
  {
   "cell_type": "markdown",
   "id": "f0f46a7d-74e5-4132-84f6-644989813bf9",
   "metadata": {},
   "source": [
    "get more than 1 element from a list"
   ]
  },
  {
   "cell_type": "code",
   "execution_count": 66,
   "id": "942bc22d-208d-4705-b0fa-c933da369b4c",
   "metadata": {},
   "outputs": [
    {
     "data": {
      "text/plain": [
       "['shareholders equity', 233, True]"
      ]
     },
     "execution_count": 66,
     "metadata": {},
     "output_type": "execute_result"
    }
   ],
   "source": [
    "accounting_list[0:3]"
   ]
  },
  {
   "cell_type": "markdown",
   "id": "d676fc4e-cc21-4e3a-875f-7a372539e08b",
   "metadata": {},
   "source": [
    "find out how long the list is, how many elements are inside the list"
   ]
  },
  {
   "cell_type": "code",
   "execution_count": 67,
   "id": "af596bca-8ce6-46a8-82e9-451363b48430",
   "metadata": {},
   "outputs": [
    {
     "data": {
      "text/plain": [
       "5"
      ]
     },
     "execution_count": 67,
     "metadata": {},
     "output_type": "execute_result"
    }
   ],
   "source": [
    "len(accounting_list)"
   ]
  },
  {
   "cell_type": "markdown",
   "id": "08741641-f45a-45df-8476-f55abf95b64c",
   "metadata": {},
   "source": [
    "add elements to a list, by default it is added at the end"
   ]
  },
  {
   "cell_type": "code",
   "execution_count": 74,
   "id": "b65240c9-4355-4a39-a457-24eec6d52b4e",
   "metadata": {},
   "outputs": [
    {
     "data": {
      "text/plain": [
       "['Accounts payable',\n",
       " 'debts receivable',\n",
       " 'credit payable',\n",
       " 'balance sheet',\n",
       " 'assets & liabilities']"
      ]
     },
     "execution_count": 74,
     "metadata": {},
     "output_type": "execute_result"
    }
   ],
   "source": [
    "accounting_list.append(\"income sheets\")\n",
    "accounting_list\n",
    "\n",
    "sheet1 = [\"Accounts payable\",\"debts receivable\",\"credit payable\"]\n",
    "sheet2 = [\"balance sheet\",\"assets & liabilities\"]\n",
    "\n",
    "sheet1.extend(sheet2)\n",
    "sheet1"
   ]
  },
  {
   "cell_type": "markdown",
   "id": "f30ecdb9-d8f8-4b59-9dc9-7ea2f4ff0083",
   "metadata": {},
   "source": [
    "can delete element from a list. we will remove 'True' from index 2"
   ]
  },
  {
   "cell_type": "code",
   "execution_count": 84,
   "id": "ec7d8cb3-5a2a-4026-ac0d-5d409c4f0611",
   "metadata": {},
   "outputs": [],
   "source": [
    "# PYTHON WILL KEEP REMOVING ELEMENTS FROM YOUR LIST IF YOU RUN THIS CELL MORE THAN ONCE\n",
    "\n",
    "# accounting_list.pop(-1)\n"
   ]
  },
  {
   "cell_type": "code",
   "execution_count": 85,
   "id": "bef758d3-9e68-415c-902e-4728672d81cd",
   "metadata": {},
   "outputs": [
    {
     "data": {
      "text/plain": [
       "['shareholders equity', 233, 99, 'income sheets', 'income sheets']"
      ]
     },
     "execution_count": 85,
     "metadata": {},
     "output_type": "execute_result"
    }
   ],
   "source": [
    "accounting_list"
   ]
  },
  {
   "cell_type": "code",
   "execution_count": null,
   "id": "ae44e5f0-cd08-4e2e-8522-3415bb5e1cd8",
   "metadata": {},
   "outputs": [],
   "source": []
  },
  {
   "cell_type": "markdown",
   "id": "5cc95f5b-0106-4e6b-af2a-36cb2d5a5cf2",
   "metadata": {},
   "source": [
    "## List For Loops \n",
    "\n",
    "For loops are functions that will iterate over a Python object such as a list or dictionary, dataframe or even a string. For loops are important to know and are essential for becoming efficient in programming. \n",
    "\n",
    "If you have a list of assets and quickly want to print them out to see what they are or perform a math function for loops are what to use"
   ]
  },
  {
   "cell_type": "markdown",
   "id": "309f0c86-63c2-44c4-aed4-df26646ebf91",
   "metadata": {},
   "source": [
    "client_assets = ['boat','house','fancy car','comic book collection','stocks']\n",
    "\n",
    "for x in client_assets:  # x can be anything you want to name\n",
    "    print(x)"
   ]
  },
  {
   "cell_type": "markdown",
   "id": "ea29ac6b-f087-4bce-af55-8e48251e8d6c",
   "metadata": {},
   "source": [
    "if you have a long list and want to know the index of where comic book collection was, use the function `range` and `len()` length "
   ]
  },
  {
   "cell_type": "code",
   "execution_count": 89,
   "id": "0fb997a5-013b-4e10-b0b2-c7db3f76125e",
   "metadata": {},
   "outputs": [
    {
     "name": "stdout",
     "output_type": "stream",
     "text": [
      "boat\n",
      "house\n",
      "fancy car\n",
      "comic book collection\n",
      "stocks\n"
     ]
    }
   ],
   "source": [
    "# range( length of the named list )\n",
    "#    print list elements\n",
    "\n",
    "for money in range(len(client_assets)):\n",
    "    print(client_assets[money])"
   ]
  },
  {
   "cell_type": "markdown",
   "id": "7025513b-6e69-4385-8ec4-bc4e3a05faf8",
   "metadata": {},
   "source": [
    "### While loops \n",
    "\n",
    "!! CAUTION !! \n",
    "\n",
    "While loops can easily be made to run for eternity. You need to be careful you have a condition for the loop to break out of the cycle, otherwise your code will keep running and freezing up or crashing your computer."
   ]
  },
  {
   "cell_type": "code",
   "execution_count": 95,
   "id": "1a8dbe2a-5bf5-48b9-bcea-c1599da1997b",
   "metadata": {},
   "outputs": [
    {
     "name": "stdout",
     "output_type": "stream",
     "text": [
      "boat\n",
      "house\n",
      "fancy car\n",
      "comic book collection\n",
      "stocks\n"
     ]
    }
   ],
   "source": [
    "# i is short for index\n",
    "i = 0\n",
    "\n",
    "# while i is less than the length of list KEEP LOOPING\n",
    "while i < len(client_assets): \n",
    "    print(client_assets[i])\n",
    "    i = i + 1               # updates the i by 1 "
   ]
  },
  {
   "cell_type": "markdown",
   "id": "56a4b680-8fb2-4693-95f1-8f64a01c2a29",
   "metadata": {},
   "source": [
    "Lists can be sorted and organized in reverse order"
   ]
  },
  {
   "cell_type": "code",
   "execution_count": 99,
   "id": "fa59ef58-947c-422b-bde9-9a9ca95e5661",
   "metadata": {},
   "outputs": [
    {
     "name": "stdout",
     "output_type": "stream",
     "text": [
      "['cash', 'inventory', 'investments', 'supplies', 'z item']\n",
      "[9, 90, 100, 101, 300, 301, 1001.1, 1020]\n"
     ]
    }
   ],
   "source": [
    "common_assets = ['z item','investments','cash','inventory','supplies']\n",
    "dividends_paid = [100,1001.1,1020,101,300,301,90,9]\n",
    "\n",
    "common_assets.sort()\n",
    "print( common_assets )\n",
    "\n",
    "dividends_paid.sort()\n",
    "print( dividends_paid )"
   ]
  },
  {
   "cell_type": "code",
   "execution_count": 102,
   "id": "bf49d5f1-b76c-42d2-a142-1f88b691edd6",
   "metadata": {},
   "outputs": [
    {
     "name": "stdout",
     "output_type": "stream",
     "text": [
      "['z item', 'supplies', 'investments', 'inventory', 'cash']\n",
      "[1020, 1001.1, 301, 300, 101, 100, 90, 9]\n"
     ]
    }
   ],
   "source": [
    "common_assets.sort(reverse=True)\n",
    "print( common_assets )\n",
    "\n",
    "dividends_paid.reverse()\n",
    "print( dividends_paid )"
   ]
  },
  {
   "cell_type": "markdown",
   "id": "78401d99-9381-4946-91f1-dd7c4cd29118",
   "metadata": {},
   "source": [
    "## Tuples\n",
    "\n",
    "Tuples store data but are immutable and tuples index each element."
   ]
  },
  {
   "cell_type": "code",
   "execution_count": 109,
   "id": "b9b70227-1aa3-4c34-9a2a-cc8a6f482a38",
   "metadata": {},
   "outputs": [
    {
     "name": "stdout",
     "output_type": "stream",
     "text": [
      "Starbucks coffee gift card \n",
      "\n",
      "('Apple iTunes gift card',) \n",
      "\n",
      "Subway sandwich gift card\n",
      "Starbucks coffee gift card\n",
      "Apple iTunes gift card\n"
     ]
    }
   ],
   "source": [
    "gifts = ('Subway sandwich gift card','Starbucks coffee gift card','Apple iTunes gift card')\n",
    "\n",
    "# get 2nd element\n",
    "print( gifts[1], \"\\n\" )    #  \"\\n\" means newline\n",
    "\n",
    "# splice through gifts\n",
    "print( gifts[2:3], \"\\n\" )\n",
    "\n",
    "# loop through tuple\n",
    "for xmas in gifts:\n",
    "    print(xmas)"
   ]
  },
  {
   "cell_type": "markdown",
   "id": "21f043fb-74ed-4ec7-b829-9b3aeb4a1f14",
   "metadata": {},
   "source": [
    "## Sets\n",
    "\n",
    "Sets and dictionaries both use { }, but sets are immutable, but elements can be added or dropped. Sets are unordered and not indexed. Sets do not allow duplicates to exist in the set. \n"
   ]
  },
  {
   "cell_type": "code",
   "execution_count": 111,
   "id": "1d291896-19c5-41a0-b117-0c1376449079",
   "metadata": {},
   "outputs": [
    {
     "name": "stdout",
     "output_type": "stream",
     "text": [
      "{2016, 2017, 2018, 2099, 2015}\n"
     ]
    }
   ],
   "source": [
    "taxes = {2015,2016,2017,2018}\n",
    "\n",
    "# add element to set, if adding from another set use update()\n",
    "taxes.add(2099)\n",
    "print(taxes)"
   ]
  },
  {
   "cell_type": "code",
   "execution_count": 112,
   "id": "528c6fbf-ca15-4145-b404-5b81dedf7b2b",
   "metadata": {},
   "outputs": [
    {
     "data": {
      "text/plain": [
       "{2015, 2016, 2017, 2018}"
      ]
     },
     "execution_count": 112,
     "metadata": {},
     "output_type": "execute_result"
    }
   ],
   "source": [
    "taxes.remove(2099)\n",
    "taxes"
   ]
  },
  {
   "cell_type": "code",
   "execution_count": 114,
   "id": "2119e523-7af6-4d57-99fd-06ed12c8b2b4",
   "metadata": {},
   "outputs": [
    {
     "name": "stdout",
     "output_type": "stream",
     "text": [
      "finished with taxes for 2016\n",
      "finished with taxes for 2017\n",
      "finished with taxes for 2018\n",
      "finished with taxes for 2015\n"
     ]
    }
   ],
   "source": [
    "for year in taxes:\n",
    "    print(f\"finished with taxes for {year}\")"
   ]
  },
  {
   "cell_type": "markdown",
   "id": "53f6ddc0-8747-4694-b3bf-4ef5b2bda634",
   "metadata": {},
   "source": [
    "## Dictionaries \n",
    "\n",
    "Dictionaries are ordered, mutable and have `keys` and `value` pairs. \n",
    "\n",
    "- Dictionaries do not permit duplicates of keys. \n",
    "- Dictionaries are not indexed, need to get elements by key or by value."
   ]
  },
  {
   "cell_type": "code",
   "execution_count": 1,
   "id": "df539c8f-2630-47e1-a849-d612bc482df4",
   "metadata": {},
   "outputs": [
    {
     "data": {
      "text/plain": [
       "{'cash': 300322.78,\n",
       " 'inventory': 7886.23,\n",
       " 'supplies': 56234.56,\n",
       " 'prepaid expenses': 14560}"
      ]
     },
     "execution_count": 1,
     "metadata": {},
     "output_type": "execute_result"
    }
   ],
   "source": [
    "#     key : value\n",
    "all_assets = {\n",
    "    \"cash\": 300322.78,\n",
    "    \"inventory\": 7886.23,\n",
    "    \"supplies\": 56234.56,\n",
    "    'prepaid expenses': 14560\n",
    "}\n",
    "\n",
    "all_assets"
   ]
  },
  {
   "cell_type": "code",
   "execution_count": 10,
   "id": "a672eb79-2efb-410a-8e9f-e99e3bc1c87f",
   "metadata": {},
   "outputs": [
    {
     "data": {
      "text/plain": [
       "300322.78"
      ]
     },
     "execution_count": 10,
     "metadata": {},
     "output_type": "execute_result"
    }
   ],
   "source": [
    "all_assets['cash'] # get 'cash' element from dictionary to see its' value"
   ]
  },
  {
   "cell_type": "code",
   "execution_count": 9,
   "id": "6097d4a1-eb20-4efa-bb51-518021d657d4",
   "metadata": {},
   "outputs": [
    {
     "data": {
      "text/plain": [
       "4"
      ]
     },
     "execution_count": 9,
     "metadata": {},
     "output_type": "execute_result"
    }
   ],
   "source": [
    "# length of dictionary\n",
    "len( all_assets )"
   ]
  },
  {
   "cell_type": "code",
   "execution_count": 15,
   "id": "bf057341-3c29-4f1f-bcbe-b730f28c1386",
   "metadata": {},
   "outputs": [
    {
     "data": {
      "text/plain": [
       "dict_items([('cash', 300322.78), ('inventory', 7886.23), ('supplies', 56234.56), ('prepaid expenses', 14560), ('property', 788655)])"
      ]
     },
     "execution_count": 15,
     "metadata": {},
     "output_type": "execute_result"
    }
   ],
   "source": [
    "# print out all the items in the dictionary\n",
    "all_assets.items()"
   ]
  },
  {
   "cell_type": "code",
   "execution_count": 11,
   "id": "3e4f8ed4-7ad8-49a4-abc4-f0f685cd2faa",
   "metadata": {},
   "outputs": [
    {
     "data": {
      "text/plain": [
       "dict_keys(['cash', 'inventory', 'supplies', 'prepaid expenses'])"
      ]
     },
     "execution_count": 11,
     "metadata": {},
     "output_type": "execute_result"
    }
   ],
   "source": [
    "# get just the dictionary keys\n",
    "assets_keys = all_assets.keys()\n",
    "assets_keys"
   ]
  },
  {
   "cell_type": "code",
   "execution_count": 12,
   "id": "6a1f10f8-1ec4-4c41-9619-7ac2333be21d",
   "metadata": {},
   "outputs": [
    {
     "data": {
      "text/plain": [
       "{'cash': 300322.78,\n",
       " 'inventory': 7886.23,\n",
       " 'supplies': 56234.56,\n",
       " 'prepaid expenses': 14560,\n",
       " 'property': 788655}"
      ]
     },
     "execution_count": 12,
     "metadata": {},
     "output_type": "execute_result"
    }
   ],
   "source": [
    "# add a key-value pair to a dictionary\n",
    "all_assets['property'] = 788655\n",
    "\n",
    "all_assets"
   ]
  },
  {
   "cell_type": "code",
   "execution_count": 13,
   "id": "7aaeade3-c54d-465c-9dc7-a1f97b92a5e1",
   "metadata": {},
   "outputs": [
    {
     "data": {
      "text/plain": [
       "dict_values([300322.78, 7886.23, 56234.56, 14560, 788655])"
      ]
     },
     "execution_count": 13,
     "metadata": {},
     "output_type": "execute_result"
    }
   ],
   "source": [
    "# get just the values from the dictionary\n",
    "asset_values = all_assets.values()\n",
    "asset_values"
   ]
  },
  {
   "cell_type": "code",
   "execution_count": 16,
   "id": "d12a9262-9843-46f8-94c5-2e7fd745266d",
   "metadata": {},
   "outputs": [
    {
     "name": "stdout",
     "output_type": "stream",
     "text": [
      " 'supplies' is in the assets dictionary\n"
     ]
    }
   ],
   "source": [
    "# check if element is inside the dictionary\n",
    "if \"supplies\" in all_assets:\n",
    "    print(\" 'supplies' is in the assets dictionary\")"
   ]
  },
  {
   "cell_type": "code",
   "execution_count": 21,
   "id": "178ca557-a7e1-43eb-bbdf-b6020d15f312",
   "metadata": {},
   "outputs": [],
   "source": [
    "# remove element from dictionary\n",
    "# all_assets.pop(\"prepaid expenses\")   # commented, already run"
   ]
  },
  {
   "cell_type": "code",
   "execution_count": 22,
   "id": "4d784780-0fb9-4176-8488-f9390b4dd882",
   "metadata": {},
   "outputs": [
    {
     "data": {
      "text/plain": [
       "{'cash': 300322.78,\n",
       " 'inventory': 7886.23,\n",
       " 'supplies': 56234.56,\n",
       " 'property': 788655}"
      ]
     },
     "execution_count": 22,
     "metadata": {},
     "output_type": "execute_result"
    }
   ],
   "source": [
    "all_assets"
   ]
  },
  {
   "cell_type": "markdown",
   "id": "d809b06b-bdae-457d-b973-5cac743fa5e0",
   "metadata": {},
   "source": [
    "### Dictionary For Loop"
   ]
  },
  {
   "cell_type": "code",
   "execution_count": 32,
   "id": "d29850a0-0ada-4a0a-ad85-4aaa19f3bc06",
   "metadata": {},
   "outputs": [
    {
     "name": "stdout",
     "output_type": "stream",
     "text": [
      "cash\n",
      "inventory\n",
      "supplies\n",
      "property\n"
     ]
    }
   ],
   "source": [
    "# get dictionary keys\n",
    "for wealth in all_assets:\n",
    "    print( wealth )"
   ]
  },
  {
   "cell_type": "code",
   "execution_count": 41,
   "id": "052ef0bd-ca3f-4c91-a1e2-ffcdf3cb9b25",
   "metadata": {},
   "outputs": [
    {
     "name": "stdout",
     "output_type": "stream",
     "text": [
      " Dunder Mifflin assets $ 300322.78  [ cash ]\n",
      " Dunder Mifflin assets $ 7886.23  [ inventory ]\n",
      " Dunder Mifflin assets $ 56234.56  [ supplies ]\n",
      " Dunder Mifflin assets $ 788655  [ property ]\n"
     ]
    }
   ],
   "source": [
    "# get values in dictionary\n",
    "for DunderMifflin in all_assets:\n",
    "    print(f\" Dunder Mifflin assets $ { all_assets[ DunderMifflin ] }  [ {DunderMifflin} ]\" )"
   ]
  },
  {
   "cell_type": "code",
   "execution_count": 34,
   "id": "81fdd3fe-c853-497b-9e67-f44d8651bb57",
   "metadata": {},
   "outputs": [
    {
     "name": "stdout",
     "output_type": "stream",
     "text": [
      " Exxon assets $ 300322.78 \n",
      " Exxon assets $ 7886.23 \n",
      " Exxon assets $ 56234.56 \n",
      " Exxon assets $ 788655 \n"
     ]
    }
   ],
   "source": [
    "# for loop to get values\n",
    "for Exxon in all_assets.values():\n",
    "    print(f\" Exxon assets $ {Exxon} \")"
   ]
  },
  {
   "cell_type": "markdown",
   "id": "13555a13-6147-4adf-9738-1da6e79a1c48",
   "metadata": {},
   "source": [
    "Once you have a dictionary to hold all assets of a company, you can make a copy of it which will allow changes to be made on new copy and keeping original safe from modification."
   ]
  },
  {
   "cell_type": "code",
   "execution_count": 50,
   "id": "db8ce157-7d3f-4277-988c-76f4d6d9cbe9",
   "metadata": {},
   "outputs": [
    {
     "name": "stdout",
     "output_type": "stream",
     "text": [
      "original: {'cash': 300322.78, 'inventory': 7886.23, 'supplies': 56234.56, 'property': 788655}\n",
      "copy: {'cash': 300322.78, 'inventory': 7886.23, 'supplies': 56234.56, 'property': 788655}\n",
      "..... {'cash': 300322.78, 'inventory': 7886.23, 'supplies': 56234.56, 'property': 788655, 'yacht': 109988}\n"
     ]
    }
   ],
   "source": [
    "# original dictionary\n",
    "print(f\"original: {all_assets}\" )\n",
    "\n",
    "assets_2 = all_assets.copy()  # make a copy of all_assets dictionary\n",
    "print(f\"copy: {assets_2}\" )\n",
    "\n",
    "assets_2['yacht'] = 109988\n",
    "\n",
    "print('.....',assets_2)"
   ]
  },
  {
   "cell_type": "markdown",
   "id": "3732023c-f8e1-4079-823c-f85d18e6920c",
   "metadata": {},
   "source": []
  },
  {
   "cell_type": "markdown",
   "id": "89adbe1a-5858-49d3-9789-034b66e6d82a",
   "metadata": {},
   "source": [
    "## Conditions. (If-Else Statements)\n",
    "\n",
    "You saw above briefly how a simple if statement works to check if 'supplies' is a key inside a dictionary. \n",
    "Conditional statements are core to programming logic and using them is essential for automating tasks.\n",
    "\n",
    "- Equals: a == b\n",
    "- not equal  a != b\n",
    "- less than  a < b\n",
    "- less than or greater than   a <= b\n",
    "- greater than a > b\n",
    "- greater than or equal to   a >= b\n",
    "\n",
    "\n",
    "Note: if-Else statement is where _indentation_ matters !"
   ]
  },
  {
   "cell_type": "code",
   "execution_count": 51,
   "id": "f9932bdb-c389-4471-ac78-dd482554d23b",
   "metadata": {},
   "outputs": [
    {
     "name": "stdout",
     "output_type": "stream",
     "text": [
      "expenses !\n"
     ]
    }
   ],
   "source": [
    "revenue = 110\n",
    "expenses = 120\n",
    "\n",
    "if revenue > expenses:\n",
    "    print('you got money')\n",
    "else:\n",
    "    print('expenses !')"
   ]
  },
  {
   "cell_type": "markdown",
   "id": "6a500970-c454-4400-9877-cb1246b6dea2",
   "metadata": {},
   "source": [
    "let's make this one more level better, include a breakeven point which can use the '==' and use the\n",
    "`elif` syntax for \"else if\" to mean if first condition is not true keep checking down the if-else structure. You can have as many 'elif' "
   ]
  },
  {
   "cell_type": "code",
   "execution_count": 52,
   "id": "d0796614-65d9-4c0d-8b48-b3731e8d3bab",
   "metadata": {},
   "outputs": [
    {
     "name": "stdout",
     "output_type": "stream",
     "text": [
      " breakeven point\n"
     ]
    }
   ],
   "source": [
    "revenue = 110\n",
    "expenses = 110\n",
    "\n",
    "if revenue > expenses:\n",
    "    print('you got money')\n",
    "elif revenue == expenses:\n",
    "    print(' breakeven point')\n",
    "else:\n",
    "    print('expenses !')"
   ]
  },
  {
   "cell_type": "code",
   "execution_count": null,
   "id": "66682c13-97e8-4091-a968-f75540e60729",
   "metadata": {},
   "outputs": [],
   "source": []
  },
  {
   "cell_type": "code",
   "execution_count": null,
   "id": "33dcb973-084b-4c78-9a1c-7fe42c96c964",
   "metadata": {},
   "outputs": [],
   "source": []
  },
  {
   "cell_type": "markdown",
   "id": "69b6647d-c206-4048-980c-80ebcbaf2893",
   "metadata": {},
   "source": [
    "## Functions \n",
    "\n",
    "Functions are so important to know, they will help you be more efficient and more productive with your time. If you are doing a task more than 3 times, it is wise to make that task into a function. Accounting has so many mundane routine calculations that learning to make functions will make accounting fun and fast.\n",
    "\n",
    "In Python, a function starts with `def` followed by a function name you provide, () then a : and your code is indented underneath the '`def function_name():`'\n",
    "\n",
    "- Inside the `function_name( arguments )` . These arguments are what you pass into the function, you can pass in an array or a dictionary . You do not have to pass in anything.\n",
    "\n",
    "Note: in many Python documentation guides you will see 'func' for naming a function, along with 'foo' and 'bar'"
   ]
  },
  {
   "cell_type": "code",
   "execution_count": 56,
   "id": "adc5025b-e2a4-438a-b900-6ed0c08f54e7",
   "metadata": {},
   "outputs": [
    {
     "name": "stdout",
     "output_type": "stream",
     "text": [
      "hi, my first function!\n"
     ]
    }
   ],
   "source": [
    "# create a simple function\n",
    "def my_function():\n",
    "    print('hi, my first function!')\n",
    "    \n",
    "    \n",
    "# -- outside the indentation of function\n",
    "\n",
    "# IMPORTANT TO \"CALL\" YOUR FUNCTION, type name of function\n",
    "my_function()"
   ]
  },
  {
   "cell_type": "code",
   "execution_count": 57,
   "id": "06cba0f1-870c-4427-a5c3-943ada5d1d3e",
   "metadata": {},
   "outputs": [
    {
     "name": "stdout",
     "output_type": "stream",
     "text": [
      "your magic is Accounting\n"
     ]
    }
   ],
   "source": [
    "# create a simple function that takes 1 argument\n",
    "def my_function( job ):\n",
    "    print(f\"your magic is {job}\")\n",
    "    \n",
    "# call your function and ENTER YOUR ARGUMENT, use \" \"\n",
    "my_function(\"Accounting\")"
   ]
  },
  {
   "cell_type": "markdown",
   "id": "62f56032-2a54-4f4a-9e5f-5fc30ed78dc5",
   "metadata": {},
   "source": [
    "make a function to calculate net (loss) income, which takes in 2 arguments, the revenue and expenses\n",
    "\n",
    "- you can enforce data types into your arguments so if you want _only_ numeric values and not strings to be entered into your function, use `arg_name : int` , `arg_name : float`. This helps reduce code errors.\n",
    "\n",
    "- if you type: net_income(expenses= \"900\", revenue=78)  == ERRORS"
   ]
  },
  {
   "cell_type": "code",
   "execution_count": 60,
   "id": "91a09e81-749f-4470-88ec-952327689838",
   "metadata": {},
   "outputs": [
    {
     "name": "stdout",
     "output_type": "stream",
     "text": [
      "Net (loss) income = $ 11900\n"
     ]
    }
   ],
   "source": [
    "def net_income(revenue: int, expenses: int):\n",
    "    # formula for net income\n",
    "    net = revenue - expenses\n",
    "    \n",
    "    print(f\"Net (loss) income = $ {net}\")\n",
    "        \n",
    "# call function with arguments of type integer\n",
    "net_income(revenue= 178900, expenses= 167000)\n",
    "    "
   ]
  },
  {
   "cell_type": "markdown",
   "id": "432a0ac2-5e40-43c2-a55d-6df0a90a644d",
   "metadata": {},
   "source": [
    "#### Pass in a list or array into a function"
   ]
  },
  {
   "cell_type": "code",
   "execution_count": 66,
   "id": "c24e261e-9465-4b4c-bc6f-c3e4ccb0a3be",
   "metadata": {},
   "outputs": [
    {
     "name": "stdout",
     "output_type": "stream",
     "text": [
      " z item ... checked\n",
      " investments ... checked\n",
      " cash ... checked\n",
      " inventory ... checked\n",
      " supplies ... checked\n",
      "length of assets: 5\n"
     ]
    }
   ],
   "source": [
    "def number_crunch( assets ):\n",
    "    # for loop to print elements in array\n",
    "    for x in assets:\n",
    "        print(f\" {x} ... checked\")\n",
    "        \n",
    "    # outside the loop\n",
    "    l = len(assets)\n",
    "    print(f\"length of assets: {l}\")\n",
    "\n",
    "    \n",
    "    \n",
    "# have a list/array \n",
    "common_assets = ['z item','investments','cash','inventory','supplies']\n",
    "\n",
    "# call the function\n",
    "number_crunch( common_assets )"
   ]
  },
  {
   "cell_type": "markdown",
   "id": "c50cabfa-47ad-42ec-ae82-f53e90c2d4e7",
   "metadata": {},
   "source": [
    "#### Pass in a dictionary as function argument"
   ]
  },
  {
   "cell_type": "code",
   "execution_count": 72,
   "id": "61c72e47-67a6-45a2-9b45-449c02a36cab",
   "metadata": {},
   "outputs": [
    {
     "name": "stdout",
     "output_type": "stream",
     "text": [
      "300322.78\n",
      "7886.23\n",
      "56234.56\n",
      "788655\n",
      "109988\n",
      "sum of assets = $ 1,263,086.57\n"
     ]
    }
   ],
   "source": [
    "def the_count( acc_dict ):\n",
    "    #------ convert dictionary to a list\n",
    "    dict_list = list(acc_dict.values() )\n",
    "    #-- for loop of values\n",
    "    for num in dict_list:\n",
    "        print(num)\n",
    "    \n",
    "    # sum the assets\n",
    "    s = sum( dict_list )\n",
    "    print(\"sum of assets = $ {:,}\".format(s))\n",
    "\n",
    "# use the assets_2 dictionary from above\n",
    "the_count( assets_2 )"
   ]
  },
  {
   "cell_type": "markdown",
   "id": "9525aefb-6f50-4f95-9ff0-e6cce1865f57",
   "metadata": {},
   "source": [
    "---\n",
    "Thus far you have learned how to \n",
    "- store data in a list and a dictionary\n",
    "- how to make for loops and \n",
    "- how to make functions. \n",
    "\n",
    "This means that every time you want to tally up assets all you would need to change is the values (if not the keys and values) then call the function. You can run this function as many times as you want and can be used elsewhere in your program."
   ]
  },
  {
   "cell_type": "markdown",
   "id": "8241242b-98db-4d0e-8064-29b6cce00933",
   "metadata": {},
   "source": [
    "---"
   ]
  },
  {
   "cell_type": "markdown",
   "id": "348244db-1476-43ce-a344-4dea0d7c6983",
   "metadata": {},
   "source": [
    "## Python Classes/ objects\n",
    "\n",
    "If you have understood how a function works in its basic form and simple uses, then the next level to understand is Classes. Classes are very similar to functions in how they work, but classes have inheritance where functions can call other functions or itself (recursion). \n",
    "\n",
    "In Python to create a class object: `class Class_name():`. Class names should be names with a capital letter, as that indicates this is a class object and not a function, follow this rule and make life easier on yourself."
   ]
  },
  {
   "cell_type": "markdown",
   "id": "e37ca44e-29de-435a-b54e-58637c98cb66",
   "metadata": {},
   "source": [
    "Make a simple class object"
   ]
  },
  {
   "cell_type": "code",
   "execution_count": 74,
   "id": "c99efcb8-d2d7-4ac0-828b-be510b96448d",
   "metadata": {},
   "outputs": [
    {
     "data": {
      "text/plain": [
       "'property value'"
      ]
     },
     "execution_count": 74,
     "metadata": {},
     "output_type": "execute_result"
    }
   ],
   "source": [
    "class Simple_class:\n",
    "    # class property\n",
    "    class_property = \"property value\"\n",
    "    \n",
    "# ----- important\n",
    "# similar to calling functions but this is called INSTANTIATE or \n",
    "# creating an OBJECT INSTANCE of the class\n",
    "obj = Simple_class()\n",
    "\n",
    "# now that there is an object we can get properties from the class\n",
    "obj.class_property"
   ]
  },
  {
   "cell_type": "markdown",
   "id": "6de13bdc-9c39-4319-b3bc-4c0994b4a999",
   "metadata": {},
   "source": [
    "---\n",
    "Next level of understanding a class is to use a Human as a class object with 2 properties (for simplicity) name and age\n",
    "\n",
    "most classes (ones beyond simple) have a special function that has `def __init__(self)` which is strange and hard to understand at first. What this function does is make the arguments you pass in when you **instantiate** the class can be used in various class function which are now called **methods**.\n",
    "\n"
   ]
  },
  {
   "cell_type": "code",
   "execution_count": 88,
   "id": "8a3ed504-c337-4886-9d68-9afaa1521f6e",
   "metadata": {},
   "outputs": [],
   "source": [
    "class Human:\n",
    "    def __init__(self, name, age): # class self referencing arguments\n",
    "        self.name = name\n",
    "        self.age = age    # self.name = name  declares the argument \n",
    "    \n",
    "    # class method  -- (function)\n",
    "    def love(self):\n",
    "        print(f\"it is important to love yourself {self.name}\")\n",
    "        \n",
    "    \"\"\"\n",
    "        you can have as many methods in a class as you need/ want\n",
    "    \"\"\""
   ]
  },
  {
   "cell_type": "code",
   "execution_count": 89,
   "id": "795c9f36-8ef3-47b5-b503-b6611c3b42c9",
   "metadata": {},
   "outputs": [
    {
     "name": "stdout",
     "output_type": "stream",
     "text": [
      "Alex\n",
      "27\n"
     ]
    }
   ],
   "source": [
    "# instantiate the Human class\n",
    "Alex = Human(name=\"Alex\", age= 27)\n",
    "\n",
    "# get the Human class properties\n",
    "print( Alex.name )\n",
    "print( Alex.age )"
   ]
  },
  {
   "cell_type": "code",
   "execution_count": 90,
   "id": "3525a0b6-7376-4517-a044-7bf91920c2f3",
   "metadata": {},
   "outputs": [
    {
     "name": "stdout",
     "output_type": "stream",
     "text": [
      "it is important to love yourself Alex\n"
     ]
    }
   ],
   "source": [
    "# call the class method using the Alex named object\n",
    "Alex.love()"
   ]
  },
  {
   "cell_type": "code",
   "execution_count": null,
   "id": "0547ae41-18aa-4444-b638-c05d7d83413f",
   "metadata": {},
   "outputs": [],
   "source": []
  },
  {
   "cell_type": "markdown",
   "id": "8a7cd5e6-fb6e-4f59-b7f9-12bd6bbfe698",
   "metadata": {},
   "source": [
    "### Class inheritance\n",
    "\n",
    "Class inheritance builds ontop on functions and classes, classes can inherit properties and methods from \n",
    "another class. Once you make a class you can copy its contents into a new class which is massive time savings and efficient programming. \n",
    "\n",
    "The original class you make is referred to as the \"Parent\" and the new class that inherits from the \"Parent\" is the \"Child\" class.\n",
    "\n",
    "**NOTE !! : you MUST pass in `self` in every method within your class** as first argument to avoid errors."
   ]
  },
  {
   "cell_type": "code",
   "execution_count": 117,
   "id": "76a3b83e-b821-4aaf-a268-28436af29e2a",
   "metadata": {},
   "outputs": [],
   "source": [
    "# ----- PARENT CLASS\n",
    "class BasicAccounting:\n",
    "    def __init__(self, name):\n",
    "        self.name = name\n",
    "    \n",
    "    def net_income(self,revenue: int, expenses: int):\n",
    "        net = revenue - expenses\n",
    "        print(\"Net income = $ {:,}\".format(net))\n",
    "        \n",
    "    def sum_liabilities(self, liabilities ):\n",
    "        liab_list = list( liabilities.values() )\n",
    "        sum_liab = sum(liab_list)\n",
    "        print(\"Liabilities sum = $ {:,}\".format(sum_liab))"
   ]
  },
  {
   "cell_type": "code",
   "execution_count": 119,
   "id": "65f1424c-b50f-4f17-b943-ee5689677b49",
   "metadata": {},
   "outputs": [
    {
     "name": "stdout",
     "output_type": "stream",
     "text": [
      "Net income = $ 7,764\n",
      "Liabilities sum = $ 21,398\n"
     ]
    }
   ],
   "source": [
    "basic = BasicAccounting('Joan')  # no arguments to pass in\n",
    "\n",
    "# call Parent class method\n",
    "basic.net_income(8997, 1233)\n",
    "\n",
    "liabilities = {'bank debt':8976, 'accounts payable':6778, 'unearned revenue': 5644}\n",
    "basic.sum_liabilities(liabilities)"
   ]
  },
  {
   "cell_type": "code",
   "execution_count": 168,
   "id": "41eddfc2-9fea-408c-8f21-e14089d77e4a",
   "metadata": {},
   "outputs": [],
   "source": [
    "# ------ CHILD CLASS  (INHERITANCE)\n",
    "class MidLevelAccounting( BasicAccounting ): # inherit from BasicAccounting\n",
    "    # child class arguments\n",
    "    def __init__(self, name, company):\n",
    "        self.name = name\n",
    "        self.company = company\n",
    "        \n",
    "        # inherit all Parent class methods & properties\n",
    "        super().__init__(name) # the same arguments passed in the Parent class\n",
    "        \n",
    "    def ask_for_raise(self):\n",
    "        print(f\"Asking for a raise on behalf of {self.name}\")\n",
    "        \n",
    "    def email(self):\n",
    "        print(f\"contact info: {self.name}@{self.company}.com\")\n",
    "        "
   ]
  },
  {
   "cell_type": "code",
   "execution_count": 170,
   "id": "c82d2a5c-58d7-41d1-8e4c-eaf0ee9ebfdb",
   "metadata": {},
   "outputs": [
    {
     "name": "stdout",
     "output_type": "stream",
     "text": [
      "Asking for a raise on behalf of Joan\n",
      "contact info: Joan@KPMG.com\n",
      "Net income = $ 67,211\n"
     ]
    }
   ],
   "source": [
    "# instantiate the child class\n",
    "mid_level = MidLevelAccounting('Joan','KPMG')\n",
    "\n",
    "# call the child method\n",
    "mid_level.ask_for_raise()\n",
    "\n",
    "mid_level.email()\n",
    "\n",
    "# can call parent class methods\n",
    "mid_level.net_income(123988, 56777)\n",
    "\n"
   ]
  },
  {
   "cell_type": "code",
   "execution_count": null,
   "id": "2299b35d-2735-4d2f-842a-f313a7efa586",
   "metadata": {},
   "outputs": [],
   "source": []
  }
 ],
 "metadata": {
  "kernelspec": {
   "display_name": "Python 3 (ipykernel)",
   "language": "python",
   "name": "python3"
  },
  "language_info": {
   "codemirror_mode": {
    "name": "ipython",
    "version": 3
   },
   "file_extension": ".py",
   "mimetype": "text/x-python",
   "name": "python",
   "nbconvert_exporter": "python",
   "pygments_lexer": "ipython3",
   "version": "3.9.12"
  }
 },
 "nbformat": 4,
 "nbformat_minor": 5
}
