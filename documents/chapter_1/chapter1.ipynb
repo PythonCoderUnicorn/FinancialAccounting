{
 "cells": [
  {
   "cell_type": "markdown",
   "id": "6f2ccd07-bcbe-4aed-9972-47c65ea3fcf4",
   "metadata": {},
   "source": [
    "# Financial Accounting "
   ]
  },
  {
   "cell_type": "markdown",
   "id": "d9d33a2f-b51d-4e6e-b972-1ba41dca6f35",
   "metadata": {},
   "source": [
    "## Chapter 1 - The Purpose and Use of Financial Statements"
   ]
  },
  {
   "cell_type": "markdown",
   "id": "5b133dae-4332-4975-a569-68d8f1348334",
   "metadata": {},
   "source": [
    "import the necessary libraries now then it is accessible now and for later."
   ]
  },
  {
   "cell_type": "code",
   "execution_count": 1,
   "id": "f2edc05a-dd82-4a8e-8998-565a048a7f6b",
   "metadata": {},
   "outputs": [],
   "source": [
    "import openpyxl  # allows to make, read in and save Excel sheets"
   ]
  },
  {
   "cell_type": "code",
   "execution_count": 2,
   "id": "305c1c9e-ea04-42d0-95bf-69c302e24e67",
   "metadata": {},
   "outputs": [],
   "source": [
    "import pandas as pd  # used for Dataframe operations\n",
    "import numpy as np   # used for various mathematical operations"
   ]
  },
  {
   "cell_type": "markdown",
   "id": "6ca7b5d4-3705-43e5-adac-02040498eff3",
   "metadata": {},
   "source": [
    "**Accounting** - the information system that identifies and records the economic events of an organization and then communicates them to a wide variety of interested users.\n",
    "\n",
    "**accounts receivable** - the operation of receiving money in the future from customers. This is an asset as they represent an economic resource (cash) and will be eventually collected.\n",
    "\n",
    "**accounts payable** - short term liability from some expenses when a company purchases inventory or supplies on credit from suppliers.\n",
    "\n",
    "**interest payable** - the outstanding (unpaid) liability amounts owed to various lenders and creditors\n",
    "\n",
    "- dividends payable, salaries payable, property payable, sales tax payable\n",
    "\n",
    "Business goal is to sell a good or service for a price greater than the cost of producing or purchasing the good or providing the service, plus the cost of operating the business.\n",
    "\n",
    "**net income** - revenues are greater than the expenses incurred to generate the revenues. (net earnings, profit)\n"
   ]
  },
  {
   "cell_type": "markdown",
   "id": "20ca081a-70ae-467b-8a70-69fc9a3e3421",
   "metadata": {},
   "source": [
    "------\n",
    "Let us make a Python function to handle the calculation for net income (loss) so \n",
    "that it can be used repeatedly.\n",
    "\n",
    "Python functions always start with `def` keyword, and can store various information."
   ]
  },
  {
   "cell_type": "code",
   "execution_count": 16,
   "id": "e77a744e-a9fd-49ef-9ff5-c9c73877cd30",
   "metadata": {},
   "outputs": [],
   "source": [
    "# a function to calculate net income\n",
    "\n",
    "def net_income(revenue: float, expenses: float): # (arguments for function):\n",
    "    # formula\n",
    "    net = revenue - expenses\n",
    "    # print out the result with formatted string\n",
    "    print(f\"Net income = ${net}\")"
   ]
  },
  {
   "cell_type": "code",
   "execution_count": 17,
   "id": "68038f3b-5237-4982-a87e-db5538654944",
   "metadata": {},
   "outputs": [
    {
     "name": "stdout",
     "output_type": "stream",
     "text": [
      "Net income = $15680\n"
     ]
    }
   ],
   "source": [
    "# call the function so we can use it\n",
    "net_income(revenue= 16777, expenses= 1097)"
   ]
  },
  {
   "cell_type": "code",
   "execution_count": 18,
   "id": "55bcc266-f135-475f-828c-970f68ec8643",
   "metadata": {},
   "outputs": [
    {
     "name": "stdout",
     "output_type": "stream",
     "text": [
      "Net income = $-444\n"
     ]
    }
   ],
   "source": [
    "net_income(1233, 1677)"
   ]
  },
  {
   "cell_type": "markdown",
   "id": "4f48e552-d1dc-4c91-b176-51aa429bd04c",
   "metadata": {},
   "source": [
    "### Financial Statements"
   ]
  },
  {
   "cell_type": "markdown",
   "id": "d318d8b9-4d02-4b38-9456-d8100c7fc14d",
   "metadata": {},
   "source": [
    "There are 4 required financial statements:\n",
    "\n",
    "1. **income statement** - reports revenues and expenses, showing how a company's operations performed during a period of time\n",
    "\n",
    "2. **statement of changes in equity** - shows changes in each component of shareholders equity (common shares and retained earnings) and total equity during period of time\n",
    "\n",
    "3. **statement of financial position** - what a company owns (assets), what it owes (liabilities) and resulting difference (shareholder equity) at a specific point in time\n",
    "\n",
    "4. **statement of cash flows** - where a company obtained cash during a period of time and how that cash was used"
   ]
  },
  {
   "cell_type": "markdown",
   "id": "9ec08e88-5fc9-45b9-9075-3e250808a553",
   "metadata": {
    "tags": []
   },
   "source": [
    "#### Income statement\n",
    "\n",
    "Example: Corporation Sierra has been in operation for 1 month, month ended on October 31, 2018.\n",
    "\n",
    "Income statements typically look like this\n",
    "\n",
    "```\n",
    "Revenue\n",
    "    service revenue           $20,000\n",
    "Expenses\n",
    "    salaries                  $5,200\n",
    "    supplies                  $1,500\n",
    "    rent                      $900\n",
    "    depreciation              $83\n",
    "    insurance                 $50\n",
    "    interest                  $25            7,758\n",
    "-\n",
    "Income before income tax                     12,842\n",
    "Income tax                                   1,800\n",
    "Net income                                   $11,042\n",
    "```\n",
    "\n",
    "We can make this dataframe ourselves and deduct all the expenses together"
   ]
  },
  {
   "cell_type": "code",
   "execution_count": 20,
   "id": "c18e4bf0-ab28-48af-a873-230bec1b268c",
   "metadata": {},
   "outputs": [
    {
     "data": {
      "text/html": [
       "<div>\n",
       "<style scoped>\n",
       "    .dataframe tbody tr th:only-of-type {\n",
       "        vertical-align: middle;\n",
       "    }\n",
       "\n",
       "    .dataframe tbody tr th {\n",
       "        vertical-align: top;\n",
       "    }\n",
       "\n",
       "    .dataframe thead th {\n",
       "        text-align: right;\n",
       "    }\n",
       "</style>\n",
       "<table border=\"1\" class=\"dataframe\">\n",
       "  <thead>\n",
       "    <tr style=\"text-align: right;\">\n",
       "      <th></th>\n",
       "      <th>Revenue</th>\n",
       "      <th>Expenses</th>\n",
       "      <th>amount</th>\n",
       "    </tr>\n",
       "  </thead>\n",
       "  <tbody>\n",
       "    <tr>\n",
       "      <th>0</th>\n",
       "      <td>20000</td>\n",
       "      <td>Service revenue</td>\n",
       "      <td>20000</td>\n",
       "    </tr>\n",
       "    <tr>\n",
       "      <th>1</th>\n",
       "      <td>20000</td>\n",
       "      <td>salaries</td>\n",
       "      <td>5200</td>\n",
       "    </tr>\n",
       "    <tr>\n",
       "      <th>2</th>\n",
       "      <td>20000</td>\n",
       "      <td>supplies</td>\n",
       "      <td>1500</td>\n",
       "    </tr>\n",
       "    <tr>\n",
       "      <th>3</th>\n",
       "      <td>20000</td>\n",
       "      <td>rent</td>\n",
       "      <td>900</td>\n",
       "    </tr>\n",
       "    <tr>\n",
       "      <th>4</th>\n",
       "      <td>20000</td>\n",
       "      <td>depreciation</td>\n",
       "      <td>83</td>\n",
       "    </tr>\n",
       "    <tr>\n",
       "      <th>5</th>\n",
       "      <td>20000</td>\n",
       "      <td>insurance</td>\n",
       "      <td>50</td>\n",
       "    </tr>\n",
       "    <tr>\n",
       "      <th>6</th>\n",
       "      <td>20000</td>\n",
       "      <td>interest</td>\n",
       "      <td>25</td>\n",
       "    </tr>\n",
       "    <tr>\n",
       "      <th>7</th>\n",
       "      <td>20000</td>\n",
       "      <td>income tax expense</td>\n",
       "      <td>1800</td>\n",
       "    </tr>\n",
       "  </tbody>\n",
       "</table>\n",
       "</div>"
      ],
      "text/plain": [
       "   Revenue            Expenses  amount\n",
       "0    20000     Service revenue   20000\n",
       "1    20000            salaries    5200\n",
       "2    20000            supplies    1500\n",
       "3    20000                rent     900\n",
       "4    20000        depreciation      83\n",
       "5    20000           insurance      50\n",
       "6    20000            interest      25\n",
       "7    20000  income tax expense    1800"
      ]
     },
     "execution_count": 20,
     "metadata": {},
     "output_type": "execute_result"
    }
   ],
   "source": [
    "sierra = pd.DataFrame (\n",
    "    {\n",
    "        \"Revenue\": [20_000] * 8, # the number of values per row must match, 7 items per row\n",
    "        \"Expenses\": ['Service revenue','salaries','supplies','rent','depreciation','insurance','interest','income tax expense'],\n",
    "        'amount': [20_000,5200,1500,900,83,50,25,1800]\n",
    "    }\n",
    ")\n",
    "\n",
    "sierra"
   ]
  },
  {
   "cell_type": "markdown",
   "id": "2964d918-9d50-4b22-a19e-bfef3d6d3c6a",
   "metadata": {},
   "source": [
    "get all the expenses while not including the $20,000 revenue and create a new column that sums all of the expenses"
   ]
  },
  {
   "cell_type": "code",
   "execution_count": 25,
   "id": "0b64d0ba-9f40-4109-8473-abadcf87581e",
   "metadata": {},
   "outputs": [
    {
     "data": {
      "text/plain": [
       "20000"
      ]
     },
     "execution_count": 25,
     "metadata": {},
     "output_type": "execute_result"
    }
   ],
   "source": [
    "# create a variable named service revenue\n",
    "# dataframe, integer location, 1st row (0), 2nd column\n",
    "service_rev = sierra.iloc[0][2]\n",
    "service_rev"
   ]
  },
  {
   "cell_type": "code",
   "execution_count": 27,
   "id": "785f6a19-3f0b-4ca6-bc99-059fc0accf83",
   "metadata": {},
   "outputs": [
    {
     "data": {
      "text/html": [
       "<div>\n",
       "<style scoped>\n",
       "    .dataframe tbody tr th:only-of-type {\n",
       "        vertical-align: middle;\n",
       "    }\n",
       "\n",
       "    .dataframe tbody tr th {\n",
       "        vertical-align: top;\n",
       "    }\n",
       "\n",
       "    .dataframe thead th {\n",
       "        text-align: right;\n",
       "    }\n",
       "</style>\n",
       "<table border=\"1\" class=\"dataframe\">\n",
       "  <thead>\n",
       "    <tr style=\"text-align: right;\">\n",
       "      <th></th>\n",
       "      <th>Revenue</th>\n",
       "      <th>Expenses</th>\n",
       "      <th>amount</th>\n",
       "      <th>net income</th>\n",
       "    </tr>\n",
       "  </thead>\n",
       "  <tbody>\n",
       "    <tr>\n",
       "      <th>0</th>\n",
       "      <td>20000</td>\n",
       "      <td>Service revenue</td>\n",
       "      <td>20000</td>\n",
       "      <td>10442</td>\n",
       "    </tr>\n",
       "    <tr>\n",
       "      <th>1</th>\n",
       "      <td>20000</td>\n",
       "      <td>salaries</td>\n",
       "      <td>5200</td>\n",
       "      <td>10442</td>\n",
       "    </tr>\n",
       "    <tr>\n",
       "      <th>2</th>\n",
       "      <td>20000</td>\n",
       "      <td>supplies</td>\n",
       "      <td>1500</td>\n",
       "      <td>10442</td>\n",
       "    </tr>\n",
       "    <tr>\n",
       "      <th>3</th>\n",
       "      <td>20000</td>\n",
       "      <td>rent</td>\n",
       "      <td>900</td>\n",
       "      <td>10442</td>\n",
       "    </tr>\n",
       "    <tr>\n",
       "      <th>4</th>\n",
       "      <td>20000</td>\n",
       "      <td>depreciation</td>\n",
       "      <td>83</td>\n",
       "      <td>10442</td>\n",
       "    </tr>\n",
       "    <tr>\n",
       "      <th>5</th>\n",
       "      <td>20000</td>\n",
       "      <td>insurance</td>\n",
       "      <td>50</td>\n",
       "      <td>10442</td>\n",
       "    </tr>\n",
       "    <tr>\n",
       "      <th>6</th>\n",
       "      <td>20000</td>\n",
       "      <td>interest</td>\n",
       "      <td>25</td>\n",
       "      <td>10442</td>\n",
       "    </tr>\n",
       "    <tr>\n",
       "      <th>7</th>\n",
       "      <td>20000</td>\n",
       "      <td>income tax expense</td>\n",
       "      <td>1800</td>\n",
       "      <td>10442</td>\n",
       "    </tr>\n",
       "  </tbody>\n",
       "</table>\n",
       "</div>"
      ],
      "text/plain": [
       "   Revenue            Expenses  amount  net income\n",
       "0    20000     Service revenue   20000       10442\n",
       "1    20000            salaries    5200       10442\n",
       "2    20000            supplies    1500       10442\n",
       "3    20000                rent     900       10442\n",
       "4    20000        depreciation      83       10442\n",
       "5    20000           insurance      50       10442\n",
       "6    20000            interest      25       10442\n",
       "7    20000  income tax expense    1800       10442"
      ]
     },
     "execution_count": 27,
     "metadata": {},
     "output_type": "execute_result"
    }
   ],
   "source": [
    "# create a variable to store all the expenses and sum them\n",
    "# from row 1 to the 7th, third column\n",
    "expenses =sum( sierra.iloc[1:8,2]) \n",
    "\n",
    "# create a new column, subtract the revenue and store net income \n",
    "sierra['net income'] = service_rev  - expenses\n",
    "\n",
    "sierra"
   ]
  },
  {
   "cell_type": "markdown",
   "id": "419ab503-148a-4e89-8df2-8a55146aa276",
   "metadata": {},
   "source": [
    "The net income from the example above shows 11,042 instead of $10,442"
   ]
  },
  {
   "cell_type": "markdown",
   "id": "bb80d012-f762-468a-8861-e231c716e619",
   "metadata": {},
   "source": [
    "#### Statement of changes in Equity\n",
    "\n",
    "```\n",
    "common shares (end of period) = \n",
    "            common shares (begin of period) \n",
    "            + common shares issued (sold) \n",
    "            - common shares repurchased\n",
    "```"
   ]
  },
  {
   "cell_type": "code",
   "execution_count": 28,
   "id": "6433cbaf-e258-4e35-88a3-933b1b055ec0",
   "metadata": {},
   "outputs": [],
   "source": [
    "def shareholder_equity(shares1, shares_sold, shares_repurchased):\n",
    "    common_shares = (shares1 + shares_sold) - shares_repurchsed\n",
    "    print(f\"Common shares at end of period = ${common_shares}\")"
   ]
  },
  {
   "cell_type": "code",
   "execution_count": null,
   "id": "40e50c05-38ca-48d3-bac2-269197cc9849",
   "metadata": {},
   "outputs": [],
   "source": []
  }
 ],
 "metadata": {
  "kernelspec": {
   "display_name": "Python 3 (ipykernel)",
   "language": "python",
   "name": "python3"
  },
  "language_info": {
   "codemirror_mode": {
    "name": "ipython",
    "version": 3
   },
   "file_extension": ".py",
   "mimetype": "text/x-python",
   "name": "python",
   "nbconvert_exporter": "python",
   "pygments_lexer": "ipython3",
   "version": "3.9.12"
  }
 },
 "nbformat": 4,
 "nbformat_minor": 5
}
