{
 "cells": [
  {
   "cell_type": "markdown",
   "id": "6f2ccd07-bcbe-4aed-9972-47c65ea3fcf4",
   "metadata": {},
   "source": [
    "# Financial Accounting "
   ]
  },
  {
   "cell_type": "markdown",
   "id": "d9d33a2f-b51d-4e6e-b972-1ba41dca6f35",
   "metadata": {},
   "source": [
    "## Chapter 1 - The Purpose and Use of Financial Statements"
   ]
  },
  {
   "cell_type": "markdown",
   "id": "5b133dae-4332-4975-a569-68d8f1348334",
   "metadata": {},
   "source": [
    "import the necessary libraries now then it is accessible now and for later."
   ]
  },
  {
   "cell_type": "code",
   "execution_count": 1,
   "id": "f2edc05a-dd82-4a8e-8998-565a048a7f6b",
   "metadata": {},
   "outputs": [],
   "source": [
    "import openpyxl  # allows to make, read in and save Excel sheets"
   ]
  },
  {
   "cell_type": "code",
   "execution_count": 2,
   "id": "305c1c9e-ea04-42d0-95bf-69c302e24e67",
   "metadata": {},
   "outputs": [],
   "source": [
    "import pandas as pd  # used for Dataframe operations\n",
    "import numpy as np   # used for various mathematical operations"
   ]
  },
  {
   "cell_type": "markdown",
   "id": "6ca7b5d4-3705-43e5-adac-02040498eff3",
   "metadata": {},
   "source": [
    "**Accounting** - the information system that identifies and records the economic events of an organization and then communicates them to a wide variety of interested users."
   ]
  },
  {
   "cell_type": "code",
   "execution_count": null,
   "id": "36bc6535-c8fc-4e7a-ad55-59cd41f8875b",
   "metadata": {},
   "outputs": [],
   "source": []
  }
 ],
 "metadata": {
  "kernelspec": {
   "display_name": "Python 3 (ipykernel)",
   "language": "python",
   "name": "python3"
  },
  "language_info": {
   "codemirror_mode": {
    "name": "ipython",
    "version": 3
   },
   "file_extension": ".py",
   "mimetype": "text/x-python",
   "name": "python",
   "nbconvert_exporter": "python",
   "pygments_lexer": "ipython3",
   "version": "3.9.12"
  }
 },
 "nbformat": 4,
 "nbformat_minor": 5
}
