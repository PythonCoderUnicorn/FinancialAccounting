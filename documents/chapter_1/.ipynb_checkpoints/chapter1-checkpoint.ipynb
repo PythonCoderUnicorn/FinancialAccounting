{
 "cells": [
  {
   "cell_type": "markdown",
   "id": "6f2ccd07-bcbe-4aed-9972-47c65ea3fcf4",
   "metadata": {},
   "source": [
    "# Financial Accounting "
   ]
  },
  {
   "cell_type": "markdown",
   "id": "d9d33a2f-b51d-4e6e-b972-1ba41dca6f35",
   "metadata": {},
   "source": [
    "## Chapter 1 - The Purpose and Use of Financial Statements"
   ]
  },
  {
   "cell_type": "markdown",
   "id": "5b133dae-4332-4975-a569-68d8f1348334",
   "metadata": {},
   "source": [
    "import the necessary libraries now then it is accessible now and for later."
   ]
  },
  {
   "cell_type": "code",
   "execution_count": 1,
   "id": "f2edc05a-dd82-4a8e-8998-565a048a7f6b",
   "metadata": {},
   "outputs": [],
   "source": [
    "import openpyxl  # allows to make, read in and save Excel sheets"
   ]
  },
  {
   "cell_type": "code",
   "execution_count": 2,
   "id": "305c1c9e-ea04-42d0-95bf-69c302e24e67",
   "metadata": {},
   "outputs": [],
   "source": [
    "import pandas as pd  # used for Dataframe operations\n",
    "import numpy as np   # used for various mathematical operations"
   ]
  },
  {
   "cell_type": "markdown",
   "id": "6ca7b5d4-3705-43e5-adac-02040498eff3",
   "metadata": {},
   "source": [
    "**Accounting** - the information system that identifies and records the economic events of an organization and then communicates them to a wide variety of interested users.\n",
    "\n",
    "**accounts receivable** - the operation of receiving money in the future from customers. This is an asset as they represent an economic resource (cash) and will be eventually collected.\n",
    "\n",
    "**accounts payable** - short term liability from some expenses when a company purchases inventory or supplies on credit from suppliers.\n",
    "\n",
    "**interest payable** - the outstanding (unpaid) liability amounts owed to various lenders and creditors\n",
    "\n",
    "- dividends payable, salaries payable, property payable, sales tax payable\n",
    "\n",
    "Business goal is to sell a good or service for a price greater than the cost of producing or purchasing the good or providing the service, plus the cost of operating the business.\n",
    "\n",
    "**net income** - revenues are greater than the expenses incurred to generate the revenues. (net earnings, profit)\n"
   ]
  },
  {
   "cell_type": "markdown",
   "id": "20ca081a-70ae-467b-8a70-69fc9a3e3421",
   "metadata": {},
   "source": [
    "------\n",
    "Let us make a Python function to handle the calculation for net income (loss) so \n",
    "that it can be used repeatedly.\n",
    "\n",
    "Python functions always start with `def` keyword, and can store various information."
   ]
  },
  {
   "cell_type": "code",
   "execution_count": 16,
   "id": "e77a744e-a9fd-49ef-9ff5-c9c73877cd30",
   "metadata": {},
   "outputs": [],
   "source": [
    "# a function to calculate net income\n",
    "\n",
    "def net_income(revenue: float, expenses: float): # (arguments for function):\n",
    "    # formula\n",
    "    net = revenue - expenses\n",
    "    # print out the result with formatted string\n",
    "    print(f\"Net income = ${net}\")"
   ]
  },
  {
   "cell_type": "code",
   "execution_count": 17,
   "id": "68038f3b-5237-4982-a87e-db5538654944",
   "metadata": {},
   "outputs": [
    {
     "name": "stdout",
     "output_type": "stream",
     "text": [
      "Net income = $15680\n"
     ]
    }
   ],
   "source": [
    "# call the function so we can use it\n",
    "net_income(revenue= 16777, expenses= 1097)"
   ]
  },
  {
   "cell_type": "code",
   "execution_count": 18,
   "id": "55bcc266-f135-475f-828c-970f68ec8643",
   "metadata": {},
   "outputs": [
    {
     "name": "stdout",
     "output_type": "stream",
     "text": [
      "Net income = $-444\n"
     ]
    }
   ],
   "source": [
    "net_income(1233, 1677)"
   ]
  },
  {
   "cell_type": "code",
   "execution_count": null,
   "id": "abe85130-a0ca-4269-b43b-6d6ec2f50642",
   "metadata": {},
   "outputs": [],
   "source": []
  }
 ],
 "metadata": {
  "kernelspec": {
   "display_name": "Python 3 (ipykernel)",
   "language": "python",
   "name": "python3"
  },
  "language_info": {
   "codemirror_mode": {
    "name": "ipython",
    "version": 3
   },
   "file_extension": ".py",
   "mimetype": "text/x-python",
   "name": "python",
   "nbconvert_exporter": "python",
   "pygments_lexer": "ipython3",
   "version": "3.9.12"
  }
 },
 "nbformat": 4,
 "nbformat_minor": 5
}
