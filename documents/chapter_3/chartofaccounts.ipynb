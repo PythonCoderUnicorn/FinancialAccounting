{
 "cells": [
  {
   "cell_type": "markdown",
   "metadata": {},
   "source": [
    "## chart of accounts"
   ]
  },
  {
   "cell_type": "code",
   "execution_count": 1,
   "metadata": {},
   "outputs": [],
   "source": [
    "chart_of_accounts = {\n",
    "    # assets\n",
    "    '100': 'cash',\n",
    "    '110': 'accounts receivable',\n",
    "    '150': 'supplies', \n",
    "    '155': 'prepaid insurance',\n",
    "    '200': 'equipment',\n",
    "    '201': 'accumulated depreciations - equipment',\n",
    "    # liabilities\n",
    "    '300': 'accounts payable',\n",
    "    '310': 'salaries payable',\n",
    "    '320': 'interest payable',\n",
    "    '330': 'unearned revenue',\n",
    "    '340': 'bank loan payable',\n",
    "    # shareholder equity\n",
    "    '400': 'common shares',\n",
    "    '450': 'retained earnings',\n",
    "    '460': 'dividends declared',\n",
    "    # revenues\n",
    "    '500': 'service revenue',\n",
    "    # expenses\n",
    "    '700': 'salaries expense',\n",
    "    '710': 'supplies expense',\n",
    "    '750': 'rent expense',\n",
    "    '760': 'depreciation expense',\n",
    "    '820': 'insurance expense',\n",
    "    '840': 'interest expense',\n",
    "    '900': 'income tax expense'\n",
    "}"
   ]
  },
  {
   "cell_type": "markdown",
   "metadata": {},
   "source": [
    "trial balance , debit on left and credit on right side"
   ]
  },
  {
   "cell_type": "code",
   "execution_count": 2,
   "metadata": {},
   "outputs": [],
   "source": [
    "trial = {\n",
    "    'cash': 11_400,\n",
    "    'accounts_receivable': 11_000,\n",
    "    'supplies': 2_500,\n",
    "    'prepaid_insurance': 600,\n",
    "    'equipment': 5_000,\n",
    "\n",
    "    'accounts_payable': 1500,\n",
    "    'unearned_revenue': 1200,\n",
    "    'bank_loan_payable': 5000,\n",
    "    'common_shares': 10_000,\n",
    "\n",
    "    'dividends_declared': 500,\n",
    "    'service_revenue': 20_000,\n",
    "    'salaries_expense': 4000,\n",
    "    'rent_expense': 900,\n",
    "    'income_tax_expense': 1800\n",
    "}"
   ]
  },
  {
   "cell_type": "code",
   "execution_count": 3,
   "metadata": {},
   "outputs": [],
   "source": [
    "def trial_balance( trial):\n",
    "\n",
    "    total_debit = trial['cash'] + trial['accounts_receivable'] + trial['supplies'] \\\n",
    "        + trial['prepaid_insurance'] + trial['equipment'] + trial['dividends_declared'] \\\n",
    "        + trial['salaries_expense'] + trial['rent_expense'] + trial['income_tax_expense']\n",
    "\n",
    "\n",
    "    total_credit = trial['accounts_payable'] + trial['unearned_revenue'] + \\\n",
    "        trial['bank_loan_payable'] + trial['common_shares'] + trial['service_revenue']\n",
    "\n",
    "    print(\"Debit = ${:,}  |  Credit = ${:,}\".format(total_debit, total_credit))"
   ]
  },
  {
   "cell_type": "code",
   "execution_count": 4,
   "metadata": {},
   "outputs": [
    {
     "name": "stdout",
     "output_type": "stream",
     "text": [
      "Debit = $37,700  |  Credit = $37,700\n"
     ]
    }
   ],
   "source": [
    "trial_balance( trial ) "
   ]
  },
  {
   "cell_type": "code",
   "execution_count": null,
   "metadata": {},
   "outputs": [],
   "source": []
  }
 ],
 "metadata": {
  "kernelspec": {
   "display_name": "Python 3.10.7 64-bit",
   "language": "python",
   "name": "python3"
  },
  "language_info": {
   "codemirror_mode": {
    "name": "ipython",
    "version": 3
   },
   "file_extension": ".py",
   "mimetype": "text/x-python",
   "name": "python",
   "nbconvert_exporter": "python",
   "pygments_lexer": "ipython3",
   "version": "3.10.7"
  },
  "orig_nbformat": 4,
  "vscode": {
   "interpreter": {
    "hash": "aee8b7b246df8f9039afb4144a1f6fd8d2ca17a180786b69acc140d282b71a49"
   }
  }
 },
 "nbformat": 4,
 "nbformat_minor": 2
}
