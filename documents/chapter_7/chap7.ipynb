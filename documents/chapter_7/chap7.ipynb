{
 "cells": [
  {
   "cell_type": "markdown",
   "metadata": {},
   "source": [
    "# chapter 7"
   ]
  },
  {
   "cell_type": "code",
   "execution_count": 2,
   "metadata": {},
   "outputs": [],
   "source": [
    "bank_statement = {\n",
    "    'deposits_in_transit': 2202.40,\n",
    "    'outstanding_cheques': 5904,\n",
    "    'bank_errors': 0\n",
    "}\n",
    "\n",
    "company_books = {\n",
    "    'EFT_recipts' : 6787.18,\n",
    "    'interest': 0,\n",
    "    'EFT_payments': 0,\n",
    "    'NSF_charges': 465.60,\n",
    "    'service_fees': 165,\n",
    "    'company_errors': 360\n",
    "}\n",
    "\n",
    "\n",
    "bank_reconc = {\n",
    "    'cash_balance_per_bank_statement': 14606.73,\n",
    "    'deposits_in_transit': 2201.40,\n",
    "    'outstanding_cheques': [3_000, 1401.30, 1502.7],\n",
    "    'electronic_recipts_customers_accounts': [2137.5, 4649.68, 360],\n",
    "    'NSF_cheques_plus_service_charge' : 465.6,\n",
    "    'bank_services_fees': 165\n",
    "}"
   ]
  },
  {
   "cell_type": "code",
   "execution_count": 66,
   "metadata": {},
   "outputs": [],
   "source": [
    "def bank_reconciliation( dict_ ):\n",
    "    deposits_in_transit = dict_['cash_balance_per_bank_statement'] + dict_['deposits_in_transit']\n",
    "    print(\"Deposits in transit = ${:,}\".format(deposits_in_transit))\n",
    "\n",
    "    total_oustanding_cheqs = sum( dict_['outstanding_cheques'])\n",
    "    recon_cash_bal = round(deposits_in_transit - total_oustanding_cheqs,2)\n",
    "    print(\"Reconciled cash balance per bank = ${:,}\".format(recon_cash_bal ))\n",
    "\n",
    "    \n",
    "    sum_oustanding_cheqs  = round( deposits_in_transit - recon_cash_bal,2)\n",
    "    print(\"Total outstanding cheques = ${:,}\".format( sum_oustanding_cheqs ))\n",
    "\n",
    "    # cash_bal_per_books = deposits_in_transit - recon_cash_bal\n",
    "    # print(\"Cash balance per books = ${:,}\".format(cash_bal_per_books))\n",
    "\n",
    "    total_recipts = sum( dict_['electronic_recipts_customers_accounts'])\n",
    "    print(f\"Total recipts = ${total_recipts}\")\n",
    "\n",
    "    total_fees = dict_['NSF_cheques_plus_service_charge'] + dict_['bank_services_fees']\n",
    "    print(f\"Total fees = ${total_fees}\")\n",
    "\n",
    "    recon_cash_bal_per_book = total_recipts +  dict_['cash_balance_per_books'] - total_fees \n",
    "    print(f\"Reconciled cash balance per books = ${recon_cash_bal_per_book}\")\n",
    "\n",
    "    print(f\"Reconciled cash per bank == Reconciled cash per books:  ${recon_cash_bal} == ${recon_cash_bal_per_book} \")\n"
   ]
  },
  {
   "cell_type": "code",
   "execution_count": 67,
   "metadata": {},
   "outputs": [
    {
     "name": "stdout",
     "output_type": "stream",
     "text": [
      "Deposits in transit = $16,808.13\n",
      "Reconciled cash balance per bank = $10,904.13\n",
      "Total outstanding cheques = $5,904.0\n",
      "Total recipts = $7147.18\n",
      "Total fees = $630.6\n",
      "Reconciled cash balance per books = $10904.13\n",
      "Reconciled cash per bank == Reconciled cash per books:  $10904.13 == $10904.13 \n"
     ]
    }
   ],
   "source": [
    "bank_reconc['cash_balance_per_books'] = 4387.55\n",
    "\n",
    "bank_reconciliation( bank_reconc)"
   ]
  },
  {
   "cell_type": "markdown",
   "metadata": {},
   "source": [
    "cash_equivalent = liquid assets into cash - bank overdrafts"
   ]
  },
  {
   "cell_type": "code",
   "execution_count": null,
   "metadata": {},
   "outputs": [],
   "source": []
  },
  {
   "cell_type": "code",
   "execution_count": null,
   "metadata": {},
   "outputs": [],
   "source": []
  }
 ],
 "metadata": {
  "kernelspec": {
   "display_name": "Python 3.10.7 64-bit",
   "language": "python",
   "name": "python3"
  },
  "language_info": {
   "codemirror_mode": {
    "name": "ipython",
    "version": 3
   },
   "file_extension": ".py",
   "mimetype": "text/x-python",
   "name": "python",
   "nbconvert_exporter": "python",
   "pygments_lexer": "ipython3",
   "version": "3.10.7"
  },
  "orig_nbformat": 4,
  "vscode": {
   "interpreter": {
    "hash": "aee8b7b246df8f9039afb4144a1f6fd8d2ca17a180786b69acc140d282b71a49"
   }
  }
 },
 "nbformat": 4,
 "nbformat_minor": 2
}
