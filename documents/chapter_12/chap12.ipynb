{
 "cells": [
  {
   "cell_type": "markdown",
   "metadata": {},
   "source": [
    "# Chapter 12 - investments"
   ]
  },
  {
   "cell_type": "markdown",
   "metadata": {},
   "source": [
    "## Valuation of non-strategic investments\n",
    "\n",
    "- `fair value via profit or loss model`\n",
    "  - debt or equity investments (used for)\n",
    "  - fair value (investment valued at)\n",
    "  - income statements (for interest/ dividends/ gains or losses/ realized gains or losses)\n",
    "- `fair value via comprehensive income (OCI) model`\n",
    "  - debt or equity investment (used for)\n",
    "  - fair value  (investment valued at)\n",
    "  - income statement (interest/ dividend revenue)\n",
    "  - OCI \n",
    "- `amortized cost model`\n",
    "  - debt investment (used for)\n",
    "  - amortized cost  (investment valued at)\n",
    "  - income statement (interest revenue)\n",
    "  - dividend revenue = N/A\n",
    "  - unrealized gains = N/A\n",
    "  - income statement (realized gains/loss)\n",
    "- `cost model`\n",
    "  - equity invstments (used for)\n",
    "  - cost (investment valued at)\n",
    "  - N/A  (interest revenue)\n",
    "  - income statement (dividend revenue)\n",
    "  - N/A (unrealized gains)\n",
    "  - income statement (realized gains/loss)\n",
    "\n",
    "\n",
    "\n",
    "\n"
   ]
  },
  {
   "cell_type": "markdown",
   "metadata": {},
   "source": [
    "Fair value via profit / loss"
   ]
  },
  {
   "cell_type": "code",
   "execution_count": 1,
   "metadata": {},
   "outputs": [
    {
     "name": "stdout",
     "output_type": "stream",
     "text": [
      "Unrealized gain (loss0 = $-2000.00\n"
     ]
    }
   ],
   "source": [
    "fair_value = 48_000\n",
    "carrying_amount_cost = 50_000\n",
    "\n",
    "unrealized_gain_loss = fair_value - carrying_amount_cost \n",
    "print(\"Unrealized gain (loss0 = ${:.2f}\".format(unrealized_gain_loss))"
   ]
  },
  {
   "cell_type": "code",
   "execution_count": null,
   "metadata": {},
   "outputs": [],
   "source": []
  }
 ],
 "metadata": {
  "kernelspec": {
   "display_name": "Python 3.10.7 64-bit",
   "language": "python",
   "name": "python3"
  },
  "language_info": {
   "codemirror_mode": {
    "name": "ipython",
    "version": 3
   },
   "file_extension": ".py",
   "mimetype": "text/x-python",
   "name": "python",
   "nbconvert_exporter": "python",
   "pygments_lexer": "ipython3",
   "version": "3.10.7"
  },
  "orig_nbformat": 4,
  "vscode": {
   "interpreter": {
    "hash": "aee8b7b246df8f9039afb4144a1f6fd8d2ca17a180786b69acc140d282b71a49"
   }
  }
 },
 "nbformat": 4,
 "nbformat_minor": 2
}
