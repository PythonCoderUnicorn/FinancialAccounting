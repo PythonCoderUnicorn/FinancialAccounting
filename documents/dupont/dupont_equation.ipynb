{
 "cells": [
  {
   "cell_type": "markdown",
   "metadata": {},
   "source": [
    "# Dupont Equation"
   ]
  },
  {
   "cell_type": "code",
   "execution_count": 50,
   "metadata": {},
   "outputs": [],
   "source": [
    "def make_average_total_assets(beginning_assets, ending_assets):\n",
    "    average_total_assets = (beginning_assets + ending_assets)/2\n",
    "    print(\"Average total assets = ${:.2f}\".format(average_total_assets) )\n",
    "    return average_total_assets\n",
    "\n",
    "\n",
    "\n",
    "def make_profit_margin(net_income,net_sales):   # need for RoE\n",
    "    profit_margin = net_income/net_sales\n",
    "    print(\"Profit nargin = ${:.2f}\".format(profit_margin))\n",
    "    return profit_margin\n",
    "\n",
    "def make_asset_turnover(net_sales, average_total_assets):   # need for RoE\n",
    "    asset_turnover = net_sales/average_total_assets\n",
    "    print(\"Asset turnover = ${:.2f}\".format(asset_turnover) )\n",
    "    return asset_turnover\n",
    "\n",
    "def make_financial_leverage(ending_assets,ending_equity):   # need for RoE\n",
    "    financial_leverage = ending_assets/ending_equity\n",
    "    print(\"Financial leverage = ${:.2f}\".format(financial_leverage) )\n",
    "    return financial_leverage\n",
    "\n",
    "def make_return_on_equity(profit_margin, asset_turnover, financial_leverage):\n",
    "    return_on_equity = profit_margin * asset_turnover * financial_leverage\n",
    "    print(\"Return on Equity = {:.2f}%\".format(return_on_equity) )\n",
    "    return return_on_equity\n",
    "\n",
    "\n",
    "def dupont_equation(profit_loss, balance_sheet):\n",
    "    profit_margin = make_profit_margin(pl['net_income'], pl['net_sales'])\n",
    "    average_total_assets = make_average_total_assets(bs['beginning_assets'], bs['ending_assets'])\n",
    "    asset_turnover = make_asset_turnover(pl['net_sales'], average_total_assets)\n",
    "    financial_leverage = make_financial_leverage(bs['ending_assets'], bs['ending_equity'])\n",
    "    return_on_equity = make_return_on_equity(profit_margin, asset_turnover, financial_leverage)\n"
   ]
  },
  {
   "cell_type": "code",
   "execution_count": 51,
   "metadata": {},
   "outputs": [
    {
     "name": "stdout",
     "output_type": "stream",
     "text": [
      "Profit nargin = $0.07\n",
      "Average total assets = $5277.50\n",
      "Asset turnover = $0.50\n",
      "Financial leverage = $4.16\n",
      "Return on Equity = 0.15%\n"
     ]
    }
   ],
   "source": [
    "# -- profit and loss statement\n",
    "pl = {\n",
    "    'net_income':185,\n",
    "    'net_sales':2628\n",
    "}\n",
    "\n",
    "# balance sheet\n",
    "bs = {\n",
    "    'beginning_assets':5954,\n",
    "    'ending_assets':4601,\n",
    "    'ending_equity':1105,\n",
    "}\n",
    "\n",
    "\n",
    "dupont_equation( pl, bs)\n"
   ]
  },
  {
   "cell_type": "code",
   "execution_count": null,
   "metadata": {},
   "outputs": [],
   "source": []
  },
  {
   "cell_type": "code",
   "execution_count": null,
   "metadata": {},
   "outputs": [],
   "source": []
  },
  {
   "cell_type": "code",
   "execution_count": null,
   "metadata": {},
   "outputs": [],
   "source": []
  }
 ],
 "metadata": {
  "kernelspec": {
   "display_name": "Python 3 (ipykernel)",
   "language": "python",
   "name": "python3"
  },
  "language_info": {
   "codemirror_mode": {
    "name": "ipython",
    "version": 3
   },
   "file_extension": ".py",
   "mimetype": "text/x-python",
   "name": "python",
   "nbconvert_exporter": "python",
   "pygments_lexer": "ipython3",
   "version": "3.9.12"
  },
  "vscode": {
   "interpreter": {
    "hash": "aee8b7b246df8f9039afb4144a1f6fd8d2ca17a180786b69acc140d282b71a49"
   }
  }
 },
 "nbformat": 4,
 "nbformat_minor": 4
}
