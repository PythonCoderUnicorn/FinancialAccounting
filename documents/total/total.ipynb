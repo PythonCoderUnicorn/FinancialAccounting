{
 "cells": [
  {
   "cell_type": "markdown",
   "metadata": {},
   "source": [
    "# total formulas and to work with datasets"
   ]
  },
  {
   "cell_type": "code",
   "execution_count": 3,
   "metadata": {},
   "outputs": [],
   "source": [
    "import pandas as pd "
   ]
  },
  {
   "cell_type": "code",
   "execution_count": 40,
   "metadata": {},
   "outputs": [
    {
     "data": {
      "text/html": [
       "<div>\n",
       "<style scoped>\n",
       "    .dataframe tbody tr th:only-of-type {\n",
       "        vertical-align: middle;\n",
       "    }\n",
       "\n",
       "    .dataframe tbody tr th {\n",
       "        vertical-align: top;\n",
       "    }\n",
       "\n",
       "    .dataframe thead th {\n",
       "        text-align: right;\n",
       "    }\n",
       "</style>\n",
       "<table border=\"1\" class=\"dataframe\">\n",
       "  <thead>\n",
       "    <tr style=\"text-align: right;\">\n",
       "      <th></th>\n",
       "      <th>account type</th>\n",
       "      <th>amount</th>\n",
       "    </tr>\n",
       "  </thead>\n",
       "  <tbody>\n",
       "    <tr>\n",
       "      <th>0</th>\n",
       "      <td>service revenue</td>\n",
       "      <td>20000</td>\n",
       "    </tr>\n",
       "    <tr>\n",
       "      <th>1</th>\n",
       "      <td>salaries</td>\n",
       "      <td>5200</td>\n",
       "    </tr>\n",
       "    <tr>\n",
       "      <th>2</th>\n",
       "      <td>supplies</td>\n",
       "      <td>1500</td>\n",
       "    </tr>\n",
       "    <tr>\n",
       "      <th>3</th>\n",
       "      <td>rent</td>\n",
       "      <td>900</td>\n",
       "    </tr>\n",
       "    <tr>\n",
       "      <th>4</th>\n",
       "      <td>depreciation</td>\n",
       "      <td>83</td>\n",
       "    </tr>\n",
       "    <tr>\n",
       "      <th>5</th>\n",
       "      <td>insurance</td>\n",
       "      <td>50</td>\n",
       "    </tr>\n",
       "    <tr>\n",
       "      <th>6</th>\n",
       "      <td>interest</td>\n",
       "      <td>25</td>\n",
       "    </tr>\n",
       "    <tr>\n",
       "      <th>7</th>\n",
       "      <td>income tax</td>\n",
       "      <td>1800</td>\n",
       "    </tr>\n",
       "  </tbody>\n",
       "</table>\n",
       "</div>"
      ],
      "text/plain": [
       "      account type  amount\n",
       "0  service revenue   20000\n",
       "1         salaries    5200\n",
       "2         supplies    1500\n",
       "3             rent     900\n",
       "4     depreciation      83\n",
       "5        insurance      50\n",
       "6         interest      25\n",
       "7       income tax    1800"
      ]
     },
     "execution_count": 40,
     "metadata": {},
     "output_type": "execute_result"
    }
   ],
   "source": [
    "df1 = pd.read_csv('./Balance-sheets - incomesheet-1.csv')\n",
    "df1\n"
   ]
  },
  {
   "cell_type": "code",
   "execution_count": 41,
   "metadata": {},
   "outputs": [
    {
     "name": "stdout",
     "output_type": "stream",
     "text": [
      "Income before tax = $12,242\n",
      "Net income = $10,442\n"
     ]
    }
   ],
   "source": [
    "def income_before_tax( df ): \n",
    "    revenue = df['amount'][0]\n",
    "    expenses = df['amount'][1] + df['amount'][2] + \\\n",
    "        df['amount'][3] + df['amount'][4] + df['amount'][5] + df['amount'][6]\n",
    "\n",
    "    net = revenue - expenses\n",
    "    print(\"Income before tax = ${:,}\".format(net))\n",
    "\n",
    "\n",
    "\n",
    "def net_income( df ):\n",
    "    revenue = df['amount'][0]\n",
    "    expenses = df['amount'][1] + df['amount'][2] + \\\n",
    "        df['amount'][3] + df['amount'][4] + df['amount'][5] + df['amount'][6]\n",
    "    income_before_tax = revenue - expenses\n",
    "\n",
    "    net_income = income_before_tax - df['amount'][7]\n",
    "    print(\"Net income = ${:,}\".format( net_income))\n",
    "\n",
    "\n",
    "# ==================================\n",
    "income_before_tax( df1 )\n",
    "net_income( df1 )"
   ]
  },
  {
   "cell_type": "code",
   "execution_count": 2,
   "metadata": {},
   "outputs": [],
   "source": [
    "# def income_before_tax(revenue: float, expenses: float): \n",
    "#     net = revenue - expenses\n",
    "#     print(f\"Income before tax = ${net}\")\n",
    "\n",
    "\n",
    "def shareholder_equity(shares1, shares_sold, shares_repurchased):\n",
    "    common_shares = (shares1 + shares_sold) - shares_repurchased\n",
    "    print(f\"Common shares at end of period = ${common_shares}\")"
   ]
  },
  {
   "cell_type": "code",
   "execution_count": 62,
   "metadata": {},
   "outputs": [
    {
     "data": {
      "text/html": [
       "<div>\n",
       "<style scoped>\n",
       "    .dataframe tbody tr th:only-of-type {\n",
       "        vertical-align: middle;\n",
       "    }\n",
       "\n",
       "    .dataframe tbody tr th {\n",
       "        vertical-align: top;\n",
       "    }\n",
       "\n",
       "    .dataframe thead th {\n",
       "        text-align: right;\n",
       "    }\n",
       "</style>\n",
       "<table border=\"1\" class=\"dataframe\">\n",
       "  <thead>\n",
       "    <tr style=\"text-align: right;\">\n",
       "      <th></th>\n",
       "      <th>account type</th>\n",
       "      <th>amount</th>\n",
       "    </tr>\n",
       "  </thead>\n",
       "  <tbody>\n",
       "    <tr>\n",
       "      <th>0</th>\n",
       "      <td>revenue</td>\n",
       "      <td>12279.6</td>\n",
       "    </tr>\n",
       "    <tr>\n",
       "      <th>1</th>\n",
       "      <td>expenses</td>\n",
       "      <td>11278.3</td>\n",
       "    </tr>\n",
       "    <tr>\n",
       "      <th>2</th>\n",
       "      <td>cash</td>\n",
       "      <td>10000.0</td>\n",
       "    </tr>\n",
       "    <tr>\n",
       "      <th>3</th>\n",
       "      <td>held for trading investments</td>\n",
       "      <td>0.0</td>\n",
       "    </tr>\n",
       "    <tr>\n",
       "      <th>4</th>\n",
       "      <td>accounts receivable</td>\n",
       "      <td>15000.0</td>\n",
       "    </tr>\n",
       "  </tbody>\n",
       "</table>\n",
       "</div>"
      ],
      "text/plain": [
       "                   account type   amount\n",
       "0                       revenue  12279.6\n",
       "1                      expenses  11278.3\n",
       "2                          cash  10000.0\n",
       "3  held for trading investments      0.0\n",
       "4           accounts receivable  15000.0"
      ]
     },
     "execution_count": 62,
     "metadata": {},
     "output_type": "execute_result"
    }
   ],
   "source": [
    "# FINANCIAL STATEMENT \n",
    "financial_statement = pd.read_csv('./Balance-sheets - fin-statement.csv')\n",
    "financial_statement.head()"
   ]
  },
  {
   "cell_type": "code",
   "execution_count": 59,
   "metadata": {},
   "outputs": [
    {
     "data": {
      "text/html": [
       "<div>\n",
       "<style scoped>\n",
       "    .dataframe tbody tr th:only-of-type {\n",
       "        vertical-align: middle;\n",
       "    }\n",
       "\n",
       "    .dataframe tbody tr th {\n",
       "        vertical-align: top;\n",
       "    }\n",
       "\n",
       "    .dataframe thead th {\n",
       "        text-align: right;\n",
       "    }\n",
       "</style>\n",
       "<table border=\"1\" class=\"dataframe\">\n",
       "  <thead>\n",
       "    <tr style=\"text-align: right;\">\n",
       "      <th></th>\n",
       "      <th>account type</th>\n",
       "      <th>amount</th>\n",
       "    </tr>\n",
       "  </thead>\n",
       "  <tbody>\n",
       "    <tr>\n",
       "      <th>1</th>\n",
       "      <td>expenses</td>\n",
       "      <td>11278.3</td>\n",
       "    </tr>\n",
       "  </tbody>\n",
       "</table>\n",
       "</div>"
      ],
      "text/plain": [
       "  account type   amount\n",
       "1     expenses  11278.3"
      ]
     },
     "execution_count": 59,
     "metadata": {},
     "output_type": "execute_result"
    }
   ],
   "source": [
    "# ===== FILTER COLUMN FOR SPECIFIC ROW VALUE\n",
    "# financial_statement['amount'][2] # cash\n",
    "financial_statement[financial_statement['account type'] == \"expenses\"] \n",
    "\n",
    "# financial_statement['amount'][9]"
   ]
  },
  {
   "cell_type": "code",
   "execution_count": 60,
   "metadata": {},
   "outputs": [],
   "source": [
    "def finance_position( df ):\n",
    "\n",
    "    print(\"\\n============ BALANCE SHEET ===========\")\n",
    "\n",
    "    # ------- current_assets\n",
    "    curr_assets = df['amount'][2] + df['amount'][4] \\\n",
    "                    + df['amount'][6] + df['amount'][5]\n",
    "                    \n",
    "    print(\"Current assets = ${:,}\".format(curr_assets))\n",
    "\n",
    "        \n",
    "\n",
    "    # ------ noncurrent_assets\n",
    "    noncurr_assets = df['amount'][9] + df['amount'][10] - \\\n",
    "                        df['amount'][21]   + df['amount'][11]\n",
    "    print(\"Non Current assets = ${:,}\".format(noncurr_assets))\n",
    "    \n",
    "\n",
    "        \n",
    "\n",
    "    # --- current_liabilities \n",
    "    curr_liab = (financial_statement['amount'][13] + financial_statement['amount'][14] + \\\n",
    "            financial_statement['amount'][22] + financial_statement['amount'][23]+ \\\n",
    "            financial_statement['amount'][15]  + financial_statement['amount'][29] + \\\n",
    "            financial_statement['amount'][17]\n",
    "            )\n",
    "    print(\"Current liabilities = ${:,}\".format(curr_liab))\n",
    "   \n",
    "    \n",
    "    # --- noncurrent_liabilities\n",
    "    ncl_1 = df['amount'][16] - df['amount'][29]\n",
    "    ncl_2 = df['amount'][18] - df['amount'][17]\n",
    "    noncurr_liab = ncl_1 + ncl_2\n",
    "    print(\"Non-current liabilities = ${:,}\".format(noncurr_liab))\n",
    "\n",
    "    \n",
    "    # --- share equity\n",
    "    share_equity = df['amount'][19] + df['amount'][20]\n",
    "    print(\"Shareholders equity = ${:,}\".format(share_equity))\n",
    "\n",
    "\n",
    "    # --- check if balance sheet is balanced\n",
    "    balance1 = curr_assets + noncurr_assets  \n",
    "    balance2 =  noncurr_liab + share_equity + curr_liab \n",
    "    print(\"... balance = ${:,} == ${:,}\".format(balance1, balance2))\n",
    "\n",
    "\n",
    "    print(\"\\n\")\n",
    "    # ---- working capital\n",
    "    work_cap = curr_assets -  curr_liab\n",
    "    print(\"Working capital = ${:,}\".format(work_cap))\n",
    "\n",
    "\n",
    "    # \n",
    "    # --- current ratio\n",
    "    liquid_ratio = curr_assets / curr_liab\n",
    "    print(\"Current (liquidity) ratio = {:.2f} : 1\".format(liquid_ratio))\n",
    "    \n",
    "\n",
    "    # --- debt to total assets\n",
    "    total_liabilities = curr_liab + noncurr_liab\n",
    "    total_assets = curr_assets + noncurr_assets\n",
    "    debt_tot_assets = total_liabilities / total_assets\n",
    "    print(\"Debt to total assets = {:.2f}%\".format(debt_tot_assets * 100))\n",
    "\n",
    "\n",
    "\n",
    "    # --- net income       bottom line\n",
    "    net_ = df['amount'][0] - df['amount'][1]\n",
    "    print(\"Net income = ${:.2f}\".format(net_))\n",
    "\n",
    "    print(\"======================================\")\n",
    "#===================================== \n"
   ]
  },
  {
   "cell_type": "code",
   "execution_count": 61,
   "metadata": {},
   "outputs": [
    {
     "name": "stdout",
     "output_type": "stream",
     "text": [
      "\n",
      "============ BALANCE SHEET ===========\n",
      "Current assets = $103,500.0\n",
      "Non Current assets = $357,000.0\n",
      "Current liabilities = $52,000.0\n",
      "Non-current liabilities = $217,500.0\n",
      "Shareholders equity = $134,000.0\n",
      "... balance = $460,500.0 == $403,500.0\n",
      "\n",
      "\n",
      "Working capital = $51,500.0\n",
      "Current (liquidity) ratio = 1.99 : 1\n",
      "Debt to total assets = 58.52%\n",
      "Net income = $1001.30\n",
      "======================================\n"
     ]
    }
   ],
   "source": [
    "finance_position( financial_statement )"
   ]
  },
  {
   "cell_type": "code",
   "execution_count": 51,
   "metadata": {},
   "outputs": [
    {
     "name": "stdout",
     "output_type": "stream",
     "text": [
      "Basic earnings per share = $9.66\n",
      "Price-Earnings ratio = 20.64\n"
     ]
    }
   ],
   "source": [
    "# ---- basic earnings per share  ** NEED FOR PRICE EARNINGS RATIO **\n",
    "def earnings_per_share( net_income, avg_num_shares ):\n",
    "    \"\"\" weighted average number of common shares \"\"\"\n",
    "    eps = net_income / avg_num_shares\n",
    "    print(\"Basic earnings per share = ${:.2f}\".format(eps))\n",
    "\n",
    "\n",
    "# -- price earning ratio\n",
    "def price_earnings_ratio( market_price_per_share, earnings_per_share ):\n",
    "    PER = market_price_per_share / earnings_per_share\n",
    "    print(\"Price-Earnings ratio = {:.2f}\".format(PER))\n",
    "\n",
    "earnings_per_share(net_income = 735.9, avg_num_shares= 76.2)\n",
    "price_earnings_ratio(market_price_per_share = 199.36, earnings_per_share= 9.66) "
   ]
  },
  {
   "cell_type": "code",
   "execution_count": 84,
   "metadata": {},
   "outputs": [
    {
     "data": {
      "text/html": [
       "<div>\n",
       "<style scoped>\n",
       "    .dataframe tbody tr th:only-of-type {\n",
       "        vertical-align: middle;\n",
       "    }\n",
       "\n",
       "    .dataframe tbody tr th {\n",
       "        vertical-align: top;\n",
       "    }\n",
       "\n",
       "    .dataframe thead th {\n",
       "        text-align: right;\n",
       "    }\n",
       "</style>\n",
       "<table border=\"1\" class=\"dataframe\">\n",
       "  <thead>\n",
       "    <tr style=\"text-align: right;\">\n",
       "      <th></th>\n",
       "      <th>account type</th>\n",
       "      <th>amount</th>\n",
       "    </tr>\n",
       "  </thead>\n",
       "  <tbody>\n",
       "    <tr>\n",
       "      <th>0</th>\n",
       "      <td>cash</td>\n",
       "      <td>11400</td>\n",
       "    </tr>\n",
       "    <tr>\n",
       "      <th>1</th>\n",
       "      <td>accounts receivable</td>\n",
       "      <td>11000</td>\n",
       "    </tr>\n",
       "    <tr>\n",
       "      <th>2</th>\n",
       "      <td>supplies</td>\n",
       "      <td>2500</td>\n",
       "    </tr>\n",
       "    <tr>\n",
       "      <th>3</th>\n",
       "      <td>prepaid insurance</td>\n",
       "      <td>600</td>\n",
       "    </tr>\n",
       "    <tr>\n",
       "      <th>4</th>\n",
       "      <td>equipment</td>\n",
       "      <td>5000</td>\n",
       "    </tr>\n",
       "  </tbody>\n",
       "</table>\n",
       "</div>"
      ],
      "text/plain": [
       "          account type  amount\n",
       "0                 cash   11400\n",
       "1  accounts receivable   11000\n",
       "2             supplies    2500\n",
       "3    prepaid insurance     600\n",
       "4            equipment    5000"
      ]
     },
     "execution_count": 84,
     "metadata": {},
     "output_type": "execute_result"
    }
   ],
   "source": [
    "# TRIAL BALANCE\n",
    "trial_balance_ = pd.read_csv('./Balance-sheets - trial-balance.csv')\n",
    "trial_balance_.head()\n",
    "\n",
    "# trial_balance_[trial_balance_['account type'] == \"service revenue\"]"
   ]
  },
  {
   "cell_type": "code",
   "execution_count": 82,
   "metadata": {},
   "outputs": [
    {
     "name": "stdout",
     "output_type": "stream",
     "text": [
      "Debit = $37,700  |  Credit = $37,700\n"
     ]
    }
   ],
   "source": [
    "def trial_balance( df ):\n",
    "\n",
    "    total_debit = df['amount'][0] + df['amount'][1] + df['amount'][2] \\\n",
    "        + df['amount'][3] + df['amount'][4] + df['amount'][9] \\\n",
    "        + df['amount'][11] + df['amount'][12] + df['amount'][13]\n",
    "\n",
    "\n",
    "    total_credit = df['amount'][5] + df['amount'][6] + \\\n",
    "        df['amount'][7] + df['amount'][8] + df['amount'][10]\n",
    "\n",
    "    print(\"Debit = ${:,}  |  Credit = ${:,}\".format(total_debit, total_credit))\n",
    "\n",
    "\n",
    "# ============\n",
    "\n",
    "trial_balance( df= trial_balance_ )"
   ]
  },
  {
   "cell_type": "code",
   "execution_count": 88,
   "metadata": {},
   "outputs": [
    {
     "name": "stdout",
     "output_type": "stream",
     "text": [
      "Annual depreciation expense = $1000.00\n",
      "Depreciation for 3 month(s) = $250.0\n",
      "Carrying cost amount = $4,750.0\n",
      "Total interest payment due = $75.0 ($25.0/month)\n"
     ]
    }
   ],
   "source": [
    "\n",
    "def straightline_depreciation(cost: float, useful_life: float):\n",
    "    annual_depreciation_expense = cost / useful_life\n",
    "    print(\"Annual depreciation expense = ${:.2f}\".format(annual_depreciation_expense))\n",
    "\n",
    "    months = int(input(\"Months used? : \"))\n",
    "    monthly_depreciation =round( (months / 12) * annual_depreciation_expense, 2)\n",
    "    print(f\"Depreciation for {months} month(s) = ${ monthly_depreciation}\" )\n",
    "\n",
    "    carrying_amount = cost - monthly_depreciation\n",
    "    print(\"Carrying cost amount = ${:,}\".format(carrying_amount))\n",
    "\n",
    "\n",
    "def calculate_interest(amount:float, interest_rate: float, months_per_yr: int):\n",
    "    time = (months_per_yr /12)\n",
    "    rate = (interest_rate/100)\n",
    "    interest = amount * rate  * time \n",
    "    print(f\"Total interest payment due = ${interest} (${interest/months_per_yr}/month)\")\n",
    "\n",
    "# ------------\n",
    "straightline_depreciation(5000, 5)\n",
    "calculate_interest(5000, 6, 3)"
   ]
  },
  {
   "cell_type": "code",
   "execution_count": 89,
   "metadata": {},
   "outputs": [
    {
     "name": "stdout",
     "output_type": "stream",
     "text": [
      "Accrued salaries (adjusted) payable = $1,200\n",
      "Actual salary for period: $5,200\n",
      "next regular payday = $4,000\n"
     ]
    }
   ],
   "source": [
    "# ====== SALARIES\n",
    "\n",
    "def accrued_salaries(days: int, salary_per_day: float, employees: int):\n",
    "    acc_sal = days * salary_per_day * employees\n",
    "    print(\"Accrued salaries (adjusted) payable = ${:,}\".format(acc_sal))\n",
    "\n",
    "    adjust_bal = salary_per_day * 13 * employees\n",
    "    print(\"Actual salary for period: ${:,}\".format(adjust_bal))\n",
    "\n",
    "    salaries_expense = 7 * 100 * 4 # 7days x 100/day  x 4 employee\n",
    "    pay = salaries_expense + acc_sal\n",
    "    print(\"next regular payday = ${:,}\".format(pay))\n",
    "\n",
    "# -------\n",
    "accrued_salaries(3,100,4)"
   ]
  },
  {
   "cell_type": "code",
   "execution_count": 118,
   "metadata": {},
   "outputs": [
    {
     "data": {
      "text/html": [
       "<div>\n",
       "<style scoped>\n",
       "    .dataframe tbody tr th:only-of-type {\n",
       "        vertical-align: middle;\n",
       "    }\n",
       "\n",
       "    .dataframe tbody tr th {\n",
       "        vertical-align: top;\n",
       "    }\n",
       "\n",
       "    .dataframe thead th {\n",
       "        text-align: right;\n",
       "    }\n",
       "</style>\n",
       "<table border=\"1\" class=\"dataframe\">\n",
       "  <thead>\n",
       "    <tr style=\"text-align: right;\">\n",
       "      <th></th>\n",
       "      <th>account type</th>\n",
       "      <th>amount</th>\n",
       "      <th>\"2016\"</th>\n",
       "      <th>\"2015\"</th>\n",
       "    </tr>\n",
       "  </thead>\n",
       "  <tbody>\n",
       "    <tr>\n",
       "      <th>0</th>\n",
       "      <td>net sales</td>\n",
       "      <td>460000</td>\n",
       "      <td>0</td>\n",
       "      <td>0</td>\n",
       "    </tr>\n",
       "    <tr>\n",
       "      <th>1</th>\n",
       "      <td>interest revenue</td>\n",
       "      <td>3400</td>\n",
       "      <td>0</td>\n",
       "      <td>0</td>\n",
       "    </tr>\n",
       "    <tr>\n",
       "      <th>2</th>\n",
       "      <td>cost of goods sold</td>\n",
       "      <td>316000</td>\n",
       "      <td>0</td>\n",
       "      <td>0</td>\n",
       "    </tr>\n",
       "    <tr>\n",
       "      <th>3</th>\n",
       "      <td>salaries expense</td>\n",
       "      <td>45000</td>\n",
       "      <td>0</td>\n",
       "      <td>0</td>\n",
       "    </tr>\n",
       "    <tr>\n",
       "      <th>4</th>\n",
       "      <td>rent expense</td>\n",
       "      <td>19000</td>\n",
       "      <td>0</td>\n",
       "      <td>0</td>\n",
       "    </tr>\n",
       "  </tbody>\n",
       "</table>\n",
       "</div>"
      ],
      "text/plain": [
       "         account type  amount  \"2016\"  \"2015\"\n",
       "0           net sales  460000       0       0\n",
       "1    interest revenue    3400       0       0\n",
       "2  cost of goods sold  316000       0       0\n",
       "3    salaries expense   45000       0       0\n",
       "4        rent expense   19000       0       0"
      ]
     },
     "execution_count": 118,
     "metadata": {},
     "output_type": "execute_result"
    }
   ],
   "source": [
    "# MERCHANDISING OPERATIONS\n",
    "merch_= pd.read_csv(\"./Balance-sheets - merchandise.csv\")\n",
    "merch_.head()\n",
    "\n",
    "# merch_[merch_['account type'] == \"net income\"]"
   ]
  },
  {
   "cell_type": "code",
   "execution_count": 119,
   "metadata": {},
   "outputs": [
    {
     "name": "stdout",
     "output_type": "stream",
     "text": [
      "Gross profit margin = 31.30%\n",
      "... gross profit $0.31 for every $1 of net sales earned\n",
      "Profit margin = 5.50%\n",
      "... `%` of sales that is profit\n"
     ]
    }
   ],
   "source": [
    "def gross_profit_margin( df ):\n",
    "    gross_profit = df['amount'][0] - df['amount'][2]\n",
    "    gpm = gross_profit / df['amount'][0]\n",
    "    print(\"Gross profit margin = {:.2f}%\".format(gpm * 100))\n",
    "    print(\"... gross profit ${:.2f} for every $1 of net sales earned\".format(gpm))\n",
    "\n",
    "\n",
    "def profit_margin( df ):\n",
    "    prof_margin = df['amount'][14] / df['amount'][0]\n",
    "    print(\"Profit margin = {:.2f}%\".format(prof_margin * 100))\n",
    "    print(\"... `%` of sales that is profit\")\n",
    "\n",
    "# ----------------\n",
    "gross_profit_margin( merch_)\n",
    "profit_margin( merch_)"
   ]
  },
  {
   "cell_type": "code",
   "execution_count": 108,
   "metadata": {},
   "outputs": [],
   "source": [
    "# merch_[merch_['account type'] == \"freight shipping\"]"
   ]
  },
  {
   "cell_type": "code",
   "execution_count": 120,
   "metadata": {},
   "outputs": [
    {
     "name": "stdout",
     "output_type": "stream",
     "text": [
      "Cost of goods purchased = $3,580\n"
     ]
    }
   ],
   "source": [
    "def cost_of_goods_purchased( df ):\n",
    "    net_purchases = df['amount'][15] - df['amount'][16]  - df['amount'][17] \n",
    "\n",
    "    cogs = net_purchases + df['amount'][18] \n",
    "    print(\"Cost of goods purchased = ${:,}\".format(cogs))\n",
    "\n",
    "# --------\n",
    "cost_of_goods_purchased( merch_ )"
   ]
  },
  {
   "cell_type": "code",
   "execution_count": 117,
   "metadata": {},
   "outputs": [],
   "source": [
    "# merch_[merch_['account type'] == \"ending inventory\"]"
   ]
  },
  {
   "cell_type": "code",
   "execution_count": 121,
   "metadata": {},
   "outputs": [
    {
     "name": "stdout",
     "output_type": "stream",
     "text": [
      "Net sales = $3,430\n",
      "Cost of goods sold = $316,000\n"
     ]
    }
   ],
   "source": [
    "def net_sales( df ):\n",
    "    netsales = df['amount'][19] - df['amount'][20] - df['amount'][21]\n",
    "    print('Net sales = ${:,}'.format(netsales))\n",
    "\n",
    "\n",
    "def cost_of_goods_sold( df ):\n",
    "    cogs_available = df['amount'][22] + df['amount'][24]\n",
    " \n",
    "    cogs_sold = cogs_available - df['amount'][23]\n",
    "    print(\"Cost of goods sold = ${:,}\".format(cogs_sold))\n",
    "\n",
    "# --------\n",
    "net_sales( merch_ )\n",
    "cost_of_goods_sold( merch_)\n",
    "\n"
   ]
  },
  {
   "cell_type": "code",
   "execution_count": 152,
   "metadata": {},
   "outputs": [],
   "source": [
    "# merch_[merch_['account type'] == \"ending inventory\"]\n",
    "\n",
    "# merch_.iloc[26][3]"
   ]
  },
  {
   "cell_type": "code",
   "execution_count": 153,
   "metadata": {},
   "outputs": [
    {
     "name": "stdout",
     "output_type": "stream",
     "text": [
      "Cost of goods available = $360000\n",
      "Weighted average unit costs = $360.0\n",
      "Inventory turnover = 1.30 times\n",
      "Days in inventory = 280.67\n"
     ]
    }
   ],
   "source": [
    "# ======= INVENTORY\n",
    "\n",
    "def inventory( df ):\n",
    "    # cost_of_goods_sold = 6200\n",
    "    # ending_inventory = 5800\n",
    "    # cost_of_goods_available = cost_of_goods_sold + ending_inventory\n",
    "    # units_available_for_sale = 1000\n",
    "    # weight_avg_unit_cost = cost_of_goods_available / units_available_for_sale\n",
    "\n",
    "    cost_of_goods_available = df['amount'][24] + df['amount'][23]\n",
    "    weight_avg_unit_cost = cost_of_goods_available / df['amount'][25]\n",
    "\n",
    "    print(f\"Cost of goods available = ${cost_of_goods_available}\")\n",
    "    print(f\"Weighted average unit costs = ${weight_avg_unit_cost}\")\n",
    "\n",
    "    inventory_yr1 = df.iloc[26][2]\n",
    "    inventory_yr2 = df.iloc[26][3]\n",
    "    avg_inventory = (inventory_yr1 + inventory_yr2 )/ 2\n",
    "\n",
    "    inventory_turnover = (merch_['amount'][24] ) / avg_inventory\n",
    "    days_inventory = 365 / inventory_turnover\n",
    "\n",
    "    print(\"Inventory turnover = {:.2f} times\".format(inventory_turnover) )\n",
    "    print(\"Days in inventory = {:.2f}\".format(days_inventory))\n",
    "\n",
    "\n",
    "# ===========\n",
    "inventory( merch_ )"
   ]
  },
  {
   "cell_type": "code",
   "execution_count": 195,
   "metadata": {},
   "outputs": [
    {
     "data": {
      "text/html": [
       "<div>\n",
       "<style scoped>\n",
       "    .dataframe tbody tr th:only-of-type {\n",
       "        vertical-align: middle;\n",
       "    }\n",
       "\n",
       "    .dataframe tbody tr th {\n",
       "        vertical-align: top;\n",
       "    }\n",
       "\n",
       "    .dataframe thead th {\n",
       "        text-align: right;\n",
       "    }\n",
       "</style>\n",
       "<table border=\"1\" class=\"dataframe\">\n",
       "  <thead>\n",
       "    <tr style=\"text-align: right;\">\n",
       "      <th></th>\n",
       "      <th>account type</th>\n",
       "      <th>amount</th>\n",
       "    </tr>\n",
       "  </thead>\n",
       "  <tbody>\n",
       "    <tr>\n",
       "      <th>0</th>\n",
       "      <td>deposits in transit</td>\n",
       "      <td>2201.40</td>\n",
       "    </tr>\n",
       "    <tr>\n",
       "      <th>1</th>\n",
       "      <td>outstanding cheques</td>\n",
       "      <td>5904.00</td>\n",
       "    </tr>\n",
       "    <tr>\n",
       "      <th>2</th>\n",
       "      <td>bank errors</td>\n",
       "      <td>0.00</td>\n",
       "    </tr>\n",
       "    <tr>\n",
       "      <th>3</th>\n",
       "      <td>EFT receipts</td>\n",
       "      <td>6787.18</td>\n",
       "    </tr>\n",
       "    <tr>\n",
       "      <th>4</th>\n",
       "      <td>interest</td>\n",
       "      <td>0.00</td>\n",
       "    </tr>\n",
       "  </tbody>\n",
       "</table>\n",
       "</div>"
      ],
      "text/plain": [
       "          account type   amount\n",
       "0  deposits in transit  2201.40\n",
       "1  outstanding cheques  5904.00\n",
       "2          bank errors     0.00\n",
       "3         EFT receipts  6787.18\n",
       "4             interest     0.00"
      ]
     },
     "execution_count": 195,
     "metadata": {},
     "output_type": "execute_result"
    }
   ],
   "source": [
    "# ==== BANK \n",
    "\n",
    "bank = pd.read_csv(\"./Balance-sheets - bank.csv\")\n",
    "bank.head()\n",
    "\n",
    "# bank[bank['account type'] == \"deposits in transit\"]\n",
    "\n",
    "    "
   ]
  },
  {
   "cell_type": "code",
   "execution_count": 196,
   "metadata": {},
   "outputs": [
    {
     "name": "stdout",
     "output_type": "stream",
     "text": [
      "Deposits in transit = $16,808.13\n",
      "Reconciled cash balance per bank = $10,904.13\n",
      "Total outstanding cheques = $5904.00\n",
      "Cash balance per books = $5904.00\n",
      "Total recipts = $7147.18\n",
      "Total fees = $630.60\n",
      "Reconciled cash balance per books = $10904.13\n",
      "Reconciled cash per bank == Reconciled cash per books:\n",
      "\t  $10,904.13 == $10,904.13 \n"
     ]
    }
   ],
   "source": [
    "def bank_reconciliation( df ):\n",
    "    deposits_in_transit = df['amount'][9] + df['amount'][0]\n",
    "    print(\"Deposits in transit = ${:,}\".format(deposits_in_transit))\n",
    "\n",
    "    total_oustanding_cheqs =  df['amount'][10] + df['amount'][11] + df['amount'][12] \n",
    "    recon_cash_bal = round(deposits_in_transit - total_oustanding_cheqs,2)\n",
    "    print(\"Reconciled cash balance per bank = ${:,}\".format(recon_cash_bal ))\n",
    "\n",
    "    \n",
    "    sum_oustanding_cheqs  = deposits_in_transit - recon_cash_bal #round( deposits_in_transit - recon_cash_bal,2)\n",
    "    print(\"Total outstanding cheques = ${:.2f}\".format( sum_oustanding_cheqs ))\n",
    "\n",
    "    cash_bal_per_books = deposits_in_transit - recon_cash_bal\n",
    "    print(\"Cash balance per books = ${:.2f}\".format(cash_bal_per_books))\n",
    "\n",
    "    total_recipts =  df['amount'][13] + df['amount'][14] + df['amount'][15] \n",
    "    print(\"Total recipts = ${:.2f}\".format(total_recipts))\n",
    "\n",
    "    total_fees = df['amount'][16] + df['amount'][17]\n",
    "    print(\"Total fees = ${:.2f}\".format(total_fees))\n",
    "\n",
    "    recon_cash_bal_per_book = total_recipts +  df['amount'][18] - total_fees \n",
    "    print(\"Reconciled cash balance per books = ${:.2f}\".format(recon_cash_bal_per_book))\n",
    "\n",
    "    print(\"Reconciled cash per bank == Reconciled cash per books:\\n\\t  ${:,} == ${:,} \".format(recon_cash_bal, recon_cash_bal_per_book))\n",
    "\n",
    "# -------------\n",
    "bank_reconciliation( bank )"
   ]
  },
  {
   "cell_type": "code",
   "execution_count": 197,
   "metadata": {},
   "outputs": [
    {
     "data": {
      "text/html": [
       "<div>\n",
       "<style scoped>\n",
       "    .dataframe tbody tr th:only-of-type {\n",
       "        vertical-align: middle;\n",
       "    }\n",
       "\n",
       "    .dataframe tbody tr th {\n",
       "        vertical-align: top;\n",
       "    }\n",
       "\n",
       "    .dataframe thead th {\n",
       "        text-align: right;\n",
       "    }\n",
       "</style>\n",
       "<table border=\"1\" class=\"dataframe\">\n",
       "  <thead>\n",
       "    <tr style=\"text-align: right;\">\n",
       "      <th></th>\n",
       "      <th>account type</th>\n",
       "      <th>amount</th>\n",
       "    </tr>\n",
       "  </thead>\n",
       "  <tbody>\n",
       "    <tr>\n",
       "      <th>0</th>\n",
       "      <td>net sales</td>\n",
       "      <td>12279.6</td>\n",
       "    </tr>\n",
       "    <tr>\n",
       "      <th>1</th>\n",
       "      <td>accounts receivable gross year 1</td>\n",
       "      <td>915.0</td>\n",
       "    </tr>\n",
       "    <tr>\n",
       "      <th>2</th>\n",
       "      <td>accounts receivable gross year 2</td>\n",
       "      <td>880.2</td>\n",
       "    </tr>\n",
       "    <tr>\n",
       "      <th>3</th>\n",
       "      <td>property cash price</td>\n",
       "      <td>1200000.0</td>\n",
       "    </tr>\n",
       "    <tr>\n",
       "      <th>4</th>\n",
       "      <td>net cost moving warehouse</td>\n",
       "      <td>40000.0</td>\n",
       "    </tr>\n",
       "  </tbody>\n",
       "</table>\n",
       "</div>"
      ],
      "text/plain": [
       "                       account type     amount\n",
       "0                         net sales    12279.6\n",
       "1  accounts receivable gross year 1      915.0\n",
       "2  accounts receivable gross year 2      880.2\n",
       "3               property cash price  1200000.0\n",
       "4         net cost moving warehouse    40000.0"
      ]
     },
     "execution_count": 197,
     "metadata": {},
     "output_type": "execute_result"
    }
   ],
   "source": [
    "# ======== RECEIVABLES \n",
    "receiv = pd.read_csv(\"./Balance-sheets - receivables_assets.csv\")\n",
    "receiv.head()"
   ]
  },
  {
   "cell_type": "code",
   "execution_count": 8,
   "metadata": {},
   "outputs": [
    {
     "name": "stdout",
     "output_type": "stream",
     "text": [
      "Receivables turnover ratio = 13.7\n",
      "Average collection period = 26.6 days\n",
      "Cost of land = $1,245,000\n"
     ]
    }
   ],
   "source": [
    "net_sales = 12279.6\n",
    "accounts_receivable_gross_yr1 = 915\n",
    "accounts_receivable_gross_yr2 = 880.2\n",
    "avg_gross_acct_rec = (accounts_receivable_gross_yr1 + accounts_receivable_gross_yr2) / 2\n",
    "\n",
    "receivables_turnover = round( net_sales / avg_gross_acct_rec, 1)\n",
    "avg_collection_period = round( 365 / receivables_turnover, 1)\n",
    "\n",
    "print(f\"Receivables turnover ratio = {receivables_turnover}\")\n",
    "print(f\"Average collection period = {avg_collection_period} days\")\n",
    "\n",
    "\n",
    "land = {\n",
    "    'property_cash_price': 1_200_000,\n",
    "    'net_cost_moving_warehouse' : 40_000,\n",
    "    'legal_fees': 5_000\n",
    "}\n",
    "\n",
    "land_cost = sum( land.values() )\n",
    "print(\"Cost of land = ${:,}\".format(land_cost))"
   ]
  },
  {
   "cell_type": "code",
   "execution_count": 12,
   "metadata": {},
   "outputs": [
    {
     "name": "stdout",
     "output_type": "stream",
     "text": [
      "Depreciable amount = $30000\n",
      "Depreciable expense = $6000.0\n",
      "Straightline depreciation rate  = 20.0%\n",
      "Diminishing balance:\n",
      " depreciation expense = $13,200.0\n",
      "Depreciable amount = $30,000\n",
      "Depreciable amount per unit = $0.3\n",
      "Depreciable expense = $4,500.0\n"
     ]
    }
   ],
   "source": [
    "pizza_delivery_van = {\n",
    "    'cost': 33_000,\n",
    "    'estimated_residual_value' : 3_000,\n",
    "    'estimated_useful_life_years' : 5,\n",
    "    'estimated_useful_life_kms': 100_000,\n",
    "    'units_per_year_km': 15_000\n",
    "}\n",
    "\n",
    "def straightline_method( dict_ ):\n",
    "    \n",
    "    deprec_amt = dict_['cost'] - dict_['estimated_residual_value']\n",
    "    deprec_exp = deprec_amt / dict_['estimated_useful_life_years']\n",
    "    straightline_dep = 100 / dict_['estimated_useful_life_years']\n",
    "\n",
    "    print(f\"Depreciable amount = ${deprec_amt}\")\n",
    "    print(f\"Depreciable expense = ${deprec_exp}\")\n",
    "    print(f\"Straightline depreciation rate  = {straightline_dep}%\")\n",
    "\n",
    "\n",
    "\n",
    "def diminishing_balance( dict_ , multiplier: int):\n",
    "    deprec_rate = 100 / dict_['estimated_useful_life_years'] \n",
    "    dbl_deprec_rate = deprec_rate * multiplier / 100\n",
    "    deprec_exp =  dict_['cost'] * dbl_deprec_rate\n",
    "    print(\"Diminishing balance:\\n depreciation expense = ${:,}\".format(deprec_exp))\n",
    "\n",
    "\n",
    "def units_production( dict_ ):\n",
    "    deprec_amt = dict_['cost'] - dict_['estimated_residual_value']\n",
    "    deprec_per_unit = deprec_amt / dict_['estimated_useful_life_kms']\n",
    "    deprec_exp = deprec_per_unit  * dict_['units_per_year_km']\n",
    "\n",
    "    print(\"Depreciable amount = ${:,}\".format(deprec_amt))\n",
    "    print(\"Depreciable amount per unit = ${:,}\".format(deprec_per_unit))\n",
    "    print(\"Depreciable expense = ${:,}\".format(deprec_exp))\n",
    "\n",
    "\n",
    "\n",
    "\n",
    "\n",
    "straightline_method( pizza_delivery_van )\n",
    "diminishing_balance( pizza_delivery_van, 2 )\n",
    "units_production( pizza_delivery_van )"
   ]
  },
  {
   "cell_type": "code",
   "execution_count": 13,
   "metadata": {},
   "outputs": [
    {
     "name": "stdout",
     "output_type": "stream",
     "text": [
      "Carrying amount = $21,500.0\n",
      "Gain (loss) = $3,500.0\n",
      "debit: $63500.0 | credit: $63500.0\n"
     ]
    }
   ],
   "source": [
    "equipment = {\n",
    "    'cost': 60_000,\n",
    "    'annual_depreciation': 11_000.0,\n",
    "    'years_depreciation': 3.5,\n",
    "    'sale_of_equipment_proceeds': 25_000\n",
    "}\n",
    "\n",
    "def derecognition( dict_ ):\n",
    "\n",
    "    accum_deprec = dict_['annual_depreciation'] * 3.5\n",
    "    car_amt = dict_['cost'] - accum_deprec\n",
    "    gain = dict_['sale_of_equipment_proceeds'] - car_amt\n",
    "    debit = dict_['sale_of_equipment_proceeds'] + accum_deprec\n",
    "    credit = dict_['cost'] + gain \n",
    "\n",
    "\n",
    "    print(\"Carrying amount = ${:,}\".format(car_amt))\n",
    "    print(\"Gain (loss) = ${:,}\".format(gain))\n",
    "    print(f\"debit: ${debit} | credit: ${credit}\")\n",
    "\n",
    "\n",
    "derecognition( equipment )"
   ]
  },
  {
   "cell_type": "code",
   "execution_count": 14,
   "metadata": {},
   "outputs": [
    {
     "name": "stdout",
     "output_type": "stream",
     "text": [
      "Return on assets = 7.52%\n",
      "Asset turnover = 0.82 times\n",
      "Profit margin = 9.12%\n"
     ]
    }
   ],
   "source": [
    "from statistics import mean\n",
    "\n",
    "company = {\n",
    "    'net_sales': 4029265,\n",
    "    'net_income': 367530,\n",
    "    'total_assets': 5129024,\n",
    "    'avg_total_assets': sum([5129024,4646433]) / 2\n",
    "}\n",
    "\n",
    "def return_on_assets( dict_ ):\n",
    "    ret_assets = dict_['net_income'] / (dict_['avg_total_assets'] )\n",
    "\n",
    "    print(\"Return on assets = {:.2f}%\".format(ret_assets * 100))\n",
    "\n",
    "\n",
    "def asset_turnover( dict_ ):\n",
    "    ass_turn = dict_['net_sales'] / (dict_['avg_total_assets'] )\n",
    "    print(\"Asset turnover = {:.2f} times\".format(ass_turn))\n",
    "\n",
    "def profit_margin( dict_ ):\n",
    "    prof_marg = dict_['net_income'] / dict_['net_sales'] \n",
    "    print(\"Profit margin = {:.2f}%\".format(prof_marg * 100))\n",
    "\n",
    "\n",
    "return_on_assets( company )\n",
    "asset_turnover( company )\n",
    "profit_margin( company )"
   ]
  },
  {
   "cell_type": "code",
   "execution_count": 15,
   "metadata": {},
   "outputs": [
    {
     "name": "stdout",
     "output_type": "stream",
     "text": [
      "payable taxes $700.00 and $500.00\n",
      "Cash = $11,200.0\n"
     ]
    }
   ],
   "source": [
    "company = {\n",
    "    'sales' : 10_000,\n",
    "    'sales_tax_payable_GST': 0.05, # Federal sales tax\n",
    "    'sales_tax_payable_PST': 0.07 # Provincial sales tax \n",
    "\n",
    "}\n",
    "\n",
    "def sales_tax( dict_):\n",
    "\n",
    "    pst_tax = dict_['sales_tax_payable_PST'] * dict_['sales']\n",
    "    gst_tax = dict_['sales_tax_payable_GST'] * dict_['sales']\n",
    "\n",
    "    cash = dict_['sales'] + pst_tax + gst_tax\n",
    "\n",
    "    \n",
    "    print(\"payable taxes ${:.2f} and ${:.2f}\".format(pst_tax, gst_tax))\n",
    "    print(\"Cash = ${:,}\".format(cash))\n",
    "\n",
    "\n",
    "sales_tax( company )"
   ]
  },
  {
   "cell_type": "code",
   "execution_count": 16,
   "metadata": {},
   "outputs": [
    {
     "name": "stdout",
     "output_type": "stream",
     "text": [
      "Property tax payable (current) = $1500.0\n",
      " Remainder $4500.0 \n"
     ]
    }
   ],
   "source": [
    "company_property = {\n",
    "    'property_tax_bill' : 6000,\n",
    "    'bill_data_month_number': 3  # 2 months have passed for this company, year end Dec 31\n",
    "}\n",
    "\n",
    "def property_tax( dict_):\n",
    "    tax_months = dict_['bill_data_month_number'] / 12\n",
    "    current_property_tax_payable = dict_['property_tax_bill'] * tax_months\n",
    "\n",
    "    remain = dict_['property_tax_bill'] - current_property_tax_payable\n",
    "\n",
    "    print(f\"Property tax payable (current) = ${current_property_tax_payable}\")\n",
    "    print(f\" Remainder ${remain} \")\n",
    "\n",
    "property_tax( company_property )"
   ]
  },
  {
   "cell_type": "code",
   "execution_count": 17,
   "metadata": {},
   "outputs": [
    {
     "name": "stdout",
     "output_type": "stream",
     "text": [
      "Salaries expense (employee pay) = $66,449\n",
      "Employee benefits expense = $13,124\n",
      "payroll deduction remittance = $33,551\n"
     ]
    }
   ],
   "source": [
    "payroll_deductions = {\n",
    "    'salaries_expense': 100_000,\n",
    "    # credit, right side\n",
    "    'CPP_payable': 4950,\n",
    "    'EI_payable': 2632,\n",
    "    'employee_income_tax_payable': 20_427, # employee's tax  (not what the companany itself owes)\n",
    "    'workers_compensation': 1575,\n",
    "    'union_dues_payable': 1037,\n",
    "    'health_insurance_benefits_payable': 2930\n",
    "}\n",
    "\n",
    "def payroll( dict_ ):\n",
    "    deduct_sum = dict_['CPP_payable'] + \\\n",
    "                 dict_['EI_payable'] + \\\n",
    "                 dict_['employee_income_tax_payable'] + \\\n",
    "                 dict_['workers_compensation'] + \\\n",
    "                 dict_['union_dues_payable'] + \\\n",
    "                 dict_['health_insurance_benefits_payable']\n",
    "\n",
    "    salaries_payable = dict_['salaries_expense'] - deduct_sum\n",
    "    benefit_expense = deduct_sum - dict_['employee_income_tax_payable'] \n",
    "\n",
    "    print(\"Salaries expense (employee pay) = ${:,}\".format(salaries_payable))\n",
    "    print(\"Employee benefits expense = ${:,}\".format(benefit_expense))\n",
    "    print(\"payroll deduction remittance = ${:,}\".format(deduct_sum))\n",
    "\n",
    "payroll( payroll_deductions)"
   ]
  },
  {
   "cell_type": "code",
   "execution_count": 18,
   "metadata": {},
   "outputs": [
    {
     "name": "stdout",
     "output_type": "stream",
     "text": [
      "Interest payable = $250.0 (for 1st month)\n",
      "Interest amount = $1000.00\n",
      "Bank loan & interest payable = $101,000.0\n"
     ]
    }
   ],
   "source": [
    "# bank loan $100k on March 1, bank loan payable, due in 4 months July 1, interest at 3%\n",
    "bank_loan = {\n",
    "    'principal_amount': 100_000,\n",
    "    'interest_rate':  0.03,\n",
    "    'month_issued': 3,\n",
    "    'month_loan_due': 7\n",
    "}\n",
    "\n",
    "def shortterm_loan( dict_ ):\n",
    "    month = 1 / 12\n",
    "    interest_payable = dict_['principal_amount'] * dict_['interest_rate'] * month\n",
    "\n",
    "\n",
    "    loan_months = (dict_['month_loan_due'] - dict_['month_issued']) / 12 # 4 / 12 = 0.33\n",
    "    \n",
    "    principal_amt = loan_months * dict_['principal_amount'] * dict_['interest_rate'] \n",
    "\n",
    "    total_loan_payable = dict_['principal_amount'] + principal_amt\n",
    "\n",
    "    print(f\"Interest payable = ${interest_payable} (for 1st month)\")\n",
    "    print(\"Interest amount = ${:.2f}\".format(principal_amt)) \n",
    "    print(\"Bank loan & interest payable = ${:,}\".format(total_loan_payable))\n",
    "\n",
    "shortterm_loan( bank_loan )"
   ]
  },
  {
   "cell_type": "code",
   "execution_count": 19,
   "metadata": {},
   "outputs": [
    {
     "name": "stdout",
     "output_type": "stream",
     "text": [
      "Bank loan amount = $120,000\n",
      "Interest expense = $400.0\n",
      "Bank loan payable = $2,000.0\n",
      "Loan installment (cash) payment = $2,400.0\n",
      "Principal balance ... $117,600.0\n"
     ]
    }
   ],
   "source": [
    "bank_loan = {\n",
    "    'principal_amount': 120_000,\n",
    "    'interest_rate':  0.04,\n",
    "    'month_issued': 1,\n",
    "    'loan_duration_yrs': 5 \n",
    "}\n",
    "\n",
    "def fixed_principal_interest( dict_ ):\n",
    "    month = 1 / 12\n",
    "     #  # 60  = 12 * 5 yrs = 60 months\n",
    "    loan_duration=  dict_['loan_duration_yrs'] * 12\n",
    "\n",
    "\n",
    "    # B - interest expense\n",
    "    interest_payable = dict_['principal_amount'] * dict_['interest_rate'] * month\n",
    "\n",
    "    \n",
    "    # C - reduction_in_principal \n",
    "    bank_loan_payable = bank_loan['principal_amount'] / loan_duration\n",
    "\n",
    "    # A = B + C\n",
    "    installment =  interest_payable + bank_loan_payable \n",
    "\n",
    "    # balance minus interest\n",
    "    principal_bal = dict_['principal_amount'] - installment\n",
    "\n",
    "\n",
    "    print(\"Bank loan amount = ${:,}\".format(dict_['principal_amount']))\n",
    "    print(\"Interest expense = ${:,}\".format(interest_payable))      # B\n",
    "    print(\"Bank loan payable = ${:,}\".format(bank_loan_payable) )   # C\n",
    "    print(\"Loan installment (cash) payment = ${:,}\".format(installment))   # A\n",
    "    print(\"Principal balance ... ${:,}\".format(principal_bal))\n",
    "\n",
    "\n",
    "fixed_principal_interest(  bank_loan )"
   ]
  },
  {
   "cell_type": "code",
   "execution_count": 20,
   "metadata": {},
   "outputs": [
    {
     "name": "stdout",
     "output_type": "stream",
     "text": [
      "-------- BLENDED PRINCIPAL & INTEREST PAYMENT ------\n",
      "Cash (fixed) payment = $2210.00 (per month)\n",
      "Interest expense = $400.00\n",
      "Reduction of principal = $1810.00\n",
      "Principal balance = $118190.00\n"
     ]
    }
   ],
   "source": [
    "# Jan 1, 2018 Company borrows $120,000 from bank for 5 yr period, interest rate of 4%\n",
    "bank_loan = {\n",
    "    'principal_amount': 120_000,\n",
    "    'interest_rate':  0.04,\n",
    "    'month_issued': 1,\n",
    "    'loan_duration_yrs': 5 ,\n",
    "    'installment_payment_fixed': 2210\n",
    "}\n",
    "\n",
    "def blended_payments( dict_ ):\n",
    "    month = 1 / 12\n",
    "\n",
    "    # B - interest expense\n",
    "    interest_payable = dict_['principal_amount'] * dict_['interest_rate'] * month\n",
    "\n",
    "    # AMOUNT MONTHLY - INTEREST\n",
    "    redux_principal = dict_['installment_payment_fixed'] - interest_payable\n",
    "\n",
    "    # FIXED MONTHLY + INTEREST\n",
    "    cash_payment = interest_payable + redux_principal\n",
    "\n",
    "    # balance minus interest\n",
    "    principal_bal = dict_['principal_amount'] - redux_principal\n",
    "\n",
    "\n",
    "    print(\"-------- BLENDED PRINCIPAL & INTEREST PAYMENT ------\")\n",
    "    print(\"Cash (fixed) payment = ${:.2f} (per month)\".format( cash_payment ))\n",
    "    print(\"Interest expense = ${:.2f}\".format(interest_payable))\n",
    "\n",
    "    print(\"Reduction of principal = ${:.2f}\".format( redux_principal )) # redux\n",
    "    print(\"Principal balance = ${:.2f}\".format( principal_bal ))\n",
    "\n",
    "\n",
    "blended_payments( bank_loan )"
   ]
  },
  {
   "cell_type": "code",
   "execution_count": 21,
   "metadata": {},
   "outputs": [
    {
     "name": "stdout",
     "output_type": "stream",
     "text": [
      "Debt to total assets = 114.56% (2015)\n",
      "Debt to total assets = 126.52% (2014)\n"
     ]
    }
   ],
   "source": [
    "company_finance = {\n",
    "    'year': '2015',\n",
    "    'total_assets': 7720,\n",
    "    'total_liabilities': 8844\n",
    "}\n",
    "company_finance2 = {\n",
    "    'year': '2014',\n",
    "    'total_assets': 7584,\n",
    "    'total_liabilities': 9595\n",
    "}\n",
    "\n",
    "def debt_total_assets( dict_, dict_1 ):\n",
    "    debt_assets = dict_['total_liabilities'] / dict_['total_assets']\n",
    "    print(\"Debt to total assets = {:.2f}% ({})\".format(debt_assets * 100, dict_['year']))\n",
    "\n",
    "    debt_assets2 = dict_1['total_liabilities'] / dict_1['total_assets']\n",
    "    print(\"Debt to total assets = {:.2f}% ({})\".format(debt_assets2 * 100, dict_1['year']))\n",
    "\n",
    "\n",
    "debt_total_assets( company_finance, company_finance2 )"
   ]
  },
  {
   "cell_type": "code",
   "execution_count": 22,
   "metadata": {},
   "outputs": [
    {
     "name": "stdout",
     "output_type": "stream",
     "text": [
      "Times interest earned = 3.72 times\n"
     ]
    }
   ],
   "source": [
    "expense = {\n",
    "    'interest_expense':  50,\n",
    "    'income_tax_expense': 37,\n",
    "    'net_income' : 99\n",
    "}\n",
    "\n",
    "def interest_earned(dict_):\n",
    "    times_interest_earned = (dict_['net_income'] + dict_['interest_expense'] + dict_['income_tax_expense'] ) / dict_['interest_expense'] \n",
    "    print(\"Times interest earned = {:.2f} times\".format(times_interest_earned))\n",
    "\n",
    "interest_earned( expense )"
   ]
  },
  {
   "cell_type": "code",
   "execution_count": 23,
   "metadata": {},
   "outputs": [
    {
     "name": "stdout",
     "output_type": "stream",
     "text": [
      "Bond interest expense = $25,000.0\n",
      "\n",
      "Discount interest payment = $25000.00\n",
      "Discount interest expense = $29,442.51\n",
      "Discount amortization = $4442.51\n",
      "Discount unmortized = $18,583.0\n",
      "Discount bond carrying amount = $981,417.0\n",
      "-----------\n",
      "\n",
      "Premium bond interest expense = $20,380.86\n",
      "Premium amortization = $4619.14\n",
      "Premium unmortized = $19,043.0\n",
      "Premium bond carrying amount = $1,014,423.86\n"
     ]
    }
   ],
   "source": [
    "bonds = {\n",
    "    'cash': 1e6,\n",
    "    'bonds_payable': 1e6,\n",
    "    'market_interest_rate': 0.05,\n",
    "    'months_of_year': 6,\n",
    "\n",
    "    'sold_discount_price': 981_417,\n",
    "    'discount_market_rate': 0.06,\n",
    "\n",
    "    'sold_premium_price': 1_019_043,\n",
    "    'premium_market_rate': 0.04\n",
    "}\n",
    "\n",
    "def amortization( dict_ ):\n",
    "    interest_exp_paid = dict_['cash'] * dict_['market_interest_rate'] * (dict_['months_of_year'] / 12)\n",
    "\n",
    "    discount = dict_['sold_discount_price'] * dict_['discount_market_rate'] * (dict_['months_of_year'] / 12)\n",
    "\n",
    "    premium = dict_['sold_premium_price'] * dict_['premium_market_rate'] * (dict_['months_of_year'] / 12)\n",
    "\n",
    "    # ---------\n",
    "    bonds_payable =  discount - interest_exp_paid\n",
    "    discount_bond_cash = discount - bonds_payable\n",
    "    unmortized_discount = dict_['bonds_payable'] - dict_['sold_discount_price']\n",
    "    discount_carrying_amt = dict_['cash'] - unmortized_discount\n",
    "\n",
    "    # ---------\n",
    "    premium_payable = discount_bond_cash -  premium \n",
    "    prem_unmort = dict_['sold_premium_price'] - dict_['cash']\n",
    "    prem_carry_amt = dict_['sold_premium_price'] - premium_payable\n",
    "    \n",
    "\n",
    "    \n",
    "\n",
    "\n",
    "    print(\"Bond interest expense = ${:,}\".format( interest_exp_paid ))\n",
    "\n",
    "\n",
    "    print(\"\\nDiscount interest payment = ${:.2f}\".format( discount_bond_cash ))\n",
    "    print(\"Discount interest expense = ${:,}\".format( discount ))\n",
    "    print(\"Discount amortization = ${:.2f}\".format( bonds_payable ))\n",
    "    print(\"Discount unmortized = ${:,}\".format( unmortized_discount ))\n",
    "    print(\"Discount bond carrying amount = ${:,}\".format( discount_carrying_amt ))\n",
    "    print(\"-----------\")\n",
    "    \n",
    "\n",
    "\n",
    "    print(\"\\nPremium bond interest expense = ${:,}\".format( premium ))\n",
    "    print(\"Premium amortization = ${:.2f}\".format( premium_payable ))\n",
    "\n",
    "    print(\"Premium unmortized = ${:,}\".format( prem_unmort ) )\n",
    "    print(\"Premium bond carrying amount = ${:,}\".format( prem_carry_amt ) )\n",
    "\n",
    "\n",
    "amortization( bonds )"
   ]
  },
  {
   "cell_type": "code",
   "execution_count": 24,
   "metadata": {},
   "outputs": [
    {
     "name": "stdout",
     "output_type": "stream",
     "text": [
      "Present value of ($1,000,000.0) is $905,950.0\n",
      "Present value for each 4 periods = $94,049.25\n",
      "Present bonds value price $999999.2\n"
     ]
    }
   ],
   "source": [
    "present_value = 1e6\n",
    "yearly_interest = (5/2) /100    # 5% / 2 years\n",
    "n_periods = 4                   # 2 payments per yr * 2 yrs\n",
    "table_pres_value = 0.90595           # calculate the present value using a table \n",
    "table_annuity_value = 3.76197         # present value of annuity \n",
    "\n",
    "pres_val = present_value * table_pres_value\n",
    "pres_annuity = (present_value * yearly_interest) * table_annuity_value\n",
    "pres_bond_value = pres_val + pres_annuity\n",
    "\n",
    "print(\"Present value of (${:,}) is ${:,}\".format(present_value, pres_val))\n",
    "print(\"Present value for each {} periods = ${:,}\".format(n_periods, pres_annuity))\n",
    "print(\"Present bonds value price ${:.1f}\".format(pres_bond_value) )"
   ]
  },
  {
   "cell_type": "code",
   "execution_count": 25,
   "metadata": {},
   "outputs": [
    {
     "name": "stdout",
     "output_type": "stream",
     "text": [
      "shares x price = $17500.0\n"
     ]
    }
   ],
   "source": [
    "common_shares = 5000\n",
    "price_per_share = 3.50\n",
    "land_value = 20_000\n",
    "\n",
    "consideration = common_shares * price_per_share\n",
    "print(f\"shares x price = ${consideration}\") "
   ]
  },
  {
   "cell_type": "code",
   "execution_count": 26,
   "metadata": {},
   "outputs": [
    {
     "name": "stdout",
     "output_type": "stream",
     "text": [
      "------ BELOW AVG COST ------\n",
      "Common shares = $12500.0\n",
      "Contrbuted surplus = $5000.0\n",
      "Cash = $7500.0\n",
      "shares issued = 15000\n",
      "balance = $37500.0\n",
      "\n",
      "------- ABOVE AVG COST -----\n",
      "Common shares = $10000.0\n",
      "Contrbuted surplus = $5000.0\n",
      "Average price per share = $1.5\n",
      "Retained earnings = $1000.0\n",
      "cash = $16000.0\n"
     ]
    }
   ],
   "source": [
    "shares = {\n",
    "    \"common_shares\" : 5000, # retired shares\n",
    "    \"price_per_share\" : 2.5,\n",
    "    \"new_price_per_share\" : 1.5,\n",
    "    \"total_new_shares\" : 20_000,\n",
    "    'account_balance': 50_000,\n",
    "\n",
    "    'retire_common_shares': 4000,\n",
    "    'retired_share_price': 4.00\n",
    "}\n",
    "\n",
    "\n",
    "def repurchase_shares( dict_):\n",
    "    #  below avg\n",
    "    shares_price = dict_['common_shares'] * dict_['price_per_share']\n",
    "    price_diff = dict_['price_per_share'] - dict_['new_price_per_share']\n",
    "    contrib_surplus = dict_['common_shares'] * price_diff\n",
    "    cash = dict_['common_shares'] * dict_['new_price_per_share']\n",
    "\n",
    "    total_shares = dict_['total_new_shares'] - dict_['common_shares']\n",
    "    balance = dict_['account_balance'] - shares_price\n",
    "\n",
    "    # above avg\n",
    "    abov_common_share = dict_['retire_common_shares'] * dict_['price_per_share']\n",
    "    abov_cash = dict_['retire_common_shares'] * dict_['retired_share_price']\n",
    "    avg_cost_per_share = dict_['retired_share_price'] - dict_['price_per_share']\n",
    "    retained_earnings = (abov_cash - abov_common_share) - contrib_surplus\n",
    "\n",
    "\n",
    "    print(\"------ BELOW AVG COST ------\")\n",
    "    print(f\"Common shares = ${shares_price}\")\n",
    "    print(f\"Contrbuted surplus = ${contrib_surplus}\")\n",
    "    print(f\"Cash = ${cash}\")\n",
    "    print(f\"shares issued = {total_shares}\")\n",
    "    print(f\"balance = ${balance}\")\n",
    "\n",
    "\n",
    "    print(\"\\n------- ABOVE AVG COST -----\")\n",
    "    print(f\"Common shares = ${abov_common_share}\")\n",
    "    print(f\"Contrbuted surplus = ${contrib_surplus}\")\n",
    "    print(f\"Average price per share = ${avg_cost_per_share}\")\n",
    "    print(f\"Retained earnings = ${retained_earnings}\")\n",
    "    print(f\"cash = ${abov_cash}\")\n",
    "\n",
    "\n",
    "repurchase_shares( shares )"
   ]
  },
  {
   "cell_type": "code",
   "execution_count": 28,
   "metadata": {},
   "outputs": [
    {
     "name": "stdout",
     "output_type": "stream",
     "text": [
      "Number of shares to be issued: 5000.0\n",
      "Dividends declared account = $75,000.0\n",
      "Contributed surplus = $41478\n",
      "Accumulated other comprehensive income = $600102\n"
     ]
    }
   ],
   "source": [
    "# number of shares to be issued\n",
    "common_shares = 50_000\n",
    "stock_dividend = 0.10\n",
    "share_price = 15\n",
    "\n",
    "num_shares_issued = common_shares * stock_dividend\n",
    "\n",
    "dividends_declared = num_shares_issued * share_price\n",
    "\n",
    "\n",
    "print(f\"Number of shares to be issued: {num_shares_issued}\")\n",
    "print(\"Dividends declared account = ${:,}\".format(dividends_declared))\n",
    "\n",
    "\n",
    "common_shares = 34389\n",
    "shares_issued = 7089\n",
    "total_contributed_capital = 558_226\n",
    "retained_earnings = 398\n",
    "\n",
    "contributed_surplus = common_shares + shares_issued\n",
    "accum_other_income = total_contributed_capital + retained_earnings + contributed_surplus\n",
    "\n",
    "\n",
    "print(f\"Contributed surplus = ${contributed_surplus}\")\n",
    "print(f\"Accumulated other comprehensive income = ${accum_other_income}\")"
   ]
  },
  {
   "cell_type": "code",
   "execution_count": 31,
   "metadata": {},
   "outputs": [
    {
     "name": "stdout",
     "output_type": "stream",
     "text": [
      "Dividend payout ratio = 37.15% (2015)\n",
      "Dividend yield = 2.84% (2015)\n",
      "Basic earnings per share = $1.08\n"
     ]
    }
   ],
   "source": [
    "company_selected_info = {\n",
    "    'year': 2015,\n",
    "    'net_income': 76_629,\n",
    "    'shareholder_equity': 600_402,\n",
    "    'dividends_declared': 28_465,\n",
    "    'weighted_avg_num_shares': 71_218,\n",
    "    'dividends_declared_per_share': 0.40,\n",
    "    'market_price_per_share': 14.08,\n",
    "    'preferred_shares_issued': 0\n",
    "}\n",
    "\n",
    "def dividend_payout_ratio( dict ):\n",
    "    payout_ratio = dict['dividends_declared'] / dict['net_income']\n",
    "    print(\"Dividend payout ratio = {:.2f}% ({})\".format(payout_ratio *100, dict['year']))\n",
    "\n",
    "    # the value being high or low being good depends on investor view\n",
    "    #  if seeking dividend income then high payout ratio is good but less money for company growth\n",
    "\n",
    "def dividend_yield( dict ):\n",
    "    div_yeild = dict['dividends_declared_per_share'] / dict['market_price_per_share']\n",
    "    print(\"Dividend yield = {:.2f}% ({})\".format(div_yeild * 100, dict['year'] ))\n",
    "\n",
    "    # the measure of a shareholder's return on their investment\n",
    "    #  investor paid $14.08 per share\n",
    "    #  annual dividend per share is  40 cents\n",
    "    #  return on investment is 2.8% \n",
    "\n",
    "\n",
    "def earnings_per_share( dict ):\n",
    "    income_avail_common_shareholders = ( dict['net_income'] - dict['preferred_shares_issued'] ) \n",
    "\n",
    "    earn_per_share = income_avail_common_shareholders / dict['weighted_avg_num_shares']\n",
    "    print(\"Basic earnings per share = ${:.2f}\".format(earn_per_share))\n",
    "\n",
    "\n",
    "dividend_payout_ratio( company_selected_info )\n",
    "\n",
    "dividend_yield( company_selected_info )\n",
    "\n",
    "earnings_per_share( company_selected_info )"
   ]
  },
  {
   "cell_type": "code",
   "execution_count": 32,
   "metadata": {},
   "outputs": [
    {
     "name": "stdout",
     "output_type": "stream",
     "text": [
      "Return on common shareholder's equity = 13.33%\n"
     ]
    }
   ],
   "source": [
    "company_selected_info['shareholder_equity_2014'] = 549_105\n",
    "\n",
    "def return_on_equity( dict ):\n",
    "    income_avail_common_shareholders = ( dict['net_income'] - dict['preferred_shares_issued'] )\n",
    "    avg_shareholder_equity = (dict['shareholder_equity'] + dict['shareholder_equity_2014']) / 2\n",
    "\n",
    "    roe = income_avail_common_shareholders / avg_shareholder_equity\n",
    "\n",
    "    print(\"Return on common shareholder's equity = {:.2f}%\".format( roe * 100 ))\n",
    "\n",
    "\n",
    "return_on_equity( company_selected_info )\n",
    "\n"
   ]
  },
  {
   "cell_type": "code",
   "execution_count": 34,
   "metadata": {},
   "outputs": [
    {
     "name": "stdout",
     "output_type": "stream",
     "text": [
      "Unrealized gain (loss) = $-2000.00\n"
     ]
    }
   ],
   "source": [
    "fair_value = 48_000\n",
    "carrying_amount_cost = 50_000\n",
    "\n",
    "unrealized_gain_loss = fair_value - carrying_amount_cost \n",
    "print(\"Unrealized gain (loss) = ${:.2f}\".format(unrealized_gain_loss))"
   ]
  },
  {
   "cell_type": "code",
   "execution_count": 35,
   "metadata": {},
   "outputs": [
    {
     "name": "stdout",
     "output_type": "stream",
     "text": [
      "Free cash flow = $473 (2015)\n",
      "Free cash flow = $-463 (2014)\n"
     ]
    }
   ],
   "source": [
    "free_cash = [ \n",
    "    {\n",
    "        'year': 2015,\n",
    "        'net_cash_operations': 1951,\n",
    "        'net_capital_expenditures': 1104,\n",
    "        'cash_dividends': 374\n",
    "    },\n",
    "        {\n",
    "        'year': 2014,\n",
    "        'net_cash_operations': 2278,\n",
    "        'net_capital_expenditures': 2223,\n",
    "        'cash_dividends': 518\n",
    "    }\n",
    "]\n",
    "\n",
    "\n",
    "def free_cashflow( array ):\n",
    "    free_flow_1 = free_cash[0]['net_cash_operations'] - free_cash[0]['net_capital_expenditures'] - free_cash[0]['cash_dividends']\n",
    "    year = free_cash[0]['year']\n",
    "\n",
    "    free_flow_2 = free_cash[1]['net_cash_operations'] - free_cash[1]['net_capital_expenditures'] - free_cash[1]['cash_dividends']\n",
    "    year2 = free_cash[1]['year']\n",
    "\n",
    "    print(\"Free cash flow = ${:,} ({})\".format(free_flow_1, year))\n",
    "    print(\"Free cash flow = ${:,} ({})\".format(free_flow_2, year2))\n",
    "\n",
    "\n",
    "free_cashflow( free_cash )"
   ]
  },
  {
   "cell_type": "code",
   "execution_count": 37,
   "metadata": {},
   "outputs": [],
   "source": [
    "corp_financial_position = [ \n",
    "    {\n",
    "    'year': 2018,\n",
    "    'current_assets_cash':  55_000,\n",
    "    'accounts_receivable': 20_000,\n",
    "    'inventory': 15_000,\n",
    "    'prepaid\"expense': 5_000,\n",
    "    # PPE\n",
    "    'land': 140_000,\n",
    "    'buildings': 160_000,\n",
    "    'accumulated_depreciation_bldgs': 11_000,\n",
    "    'equipment':27_000,\n",
    "    'accumulated_depreciation_equip': 3_000,\n",
    "    # liabilities\n",
    "    'accounts_payable': 17_000,\n",
    "    'dividends_payable': 2_000,\n",
    "    'income_tax_payable': 6_000,\n",
    "    'current_portion_mortgage_payable': 15_000,\n",
    "    'non_current_mortgage_payable': 124_000,\n",
    "    'accrued_liabilities': 0,\n",
    "    # shareholder\n",
    "    'common_shares': 70_000,\n",
    "    'retained_earnings': 164_000,\n",
    "    'accumulated_OCI': 10_000\n",
    "    },\n",
    "\n",
    "    {\n",
    "    'year': 2017,\n",
    "    'current_assets_cash':  33_000,\n",
    "    'accounts_receivable': 30_000,\n",
    "    'inventory': 10_000,\n",
    "    'prepaid\"expense': 1_000,\n",
    "    # PPE\n",
    "    'land': 30_000,\n",
    "    'buildings': 40_000,\n",
    "    'accumulated_depreciation_bldgs': -5_000,\n",
    "    'equipment': 10_000,\n",
    "    'accumulated_depreciation_equip': -1_000,\n",
    "    # liabilities\n",
    "    'accounts_payable': 10_000,\n",
    "    'dividends_payable': 1_000,\n",
    "    'income_tax_payable': 8_000,\n",
    "    'current_portion_mortgage_payable': 6_000,\n",
    "    'non_current_mortgage_payable': 15_000,\n",
    "    'accrued_liabilities': 0,\n",
    "    # shareholder\n",
    "    'common_shares': 50_000,\n",
    "    'retained_earnings': 48_000,\n",
    "    'accumulated_OCI': 10_000\n",
    "    }\n",
    "]\n",
    "\n",
    "\n",
    "corp_income_statement = {\n",
    "    'sales_revenue': 507_000,\n",
    "    'cost_of_goods_sold': 150_000,\n",
    "    'operating_expenses': 141_000,\n",
    "    'depreciation_expense': 9_000,\n",
    "    'loss_on_disposal_equipment': 3_000,\n",
    "    'interest_expense': 12_000,\n",
    "    'income_tax_expense': 47_000,\n",
    "    'unearned_revenue': 0\n",
    "}\n",
    "\n",
    "\n",
    "# increase or decreae is a column1 subtract column2"
   ]
  },
  {
   "cell_type": "code",
   "execution_count": 38,
   "metadata": {},
   "outputs": [
    {
     "name": "stdout",
     "output_type": "stream",
     "text": [
      "Cash receipts from customers = $517,000\n",
      "Cost of goods purchased = $155,000\n",
      "Cash payments to suppliers = $148,000\n",
      "Cash payments for operating expenses = $145,000\n",
      "Cash payments for income tax = $49,000\n",
      "Cash payments for interest = $12,000\n",
      "Total Cash payments  = $354,000\n",
      " Net cash provided by operating activities = $163,000\n"
     ]
    }
   ],
   "source": [
    "def cash_payments( array, dict ):\n",
    "\n",
    "    accounts_rec_diff = abs( array[0]['accounts_receivable'] - array[1]['accounts_receivable'] )\n",
    "    cash_receipts = accounts_rec_diff + dict['sales_revenue'] + dict['unearned_revenue']\n",
    "\n",
    "    inventory_diff = array[0]['inventory'] - array[1]['inventory']\n",
    "    cost_of_goods_sold = dict['cost_of_goods_sold']\n",
    "    purchased_cost = inventory_diff + cost_of_goods_sold\n",
    "\n",
    "    accounts_payable_diff = array[0]['accounts_payable'] - array[1]['accounts_payable']\n",
    "    cash_suppliers = purchased_cost - accounts_payable_diff\n",
    "\n",
    "    operating_exp = dict['operating_expenses']\n",
    "    prepaid_expense_diff = array[0]['prepaid\"expense'] - array[1]['prepaid\"expense']\n",
    "    accrued_liab_diff = array[0]['accrued_liabilities'] - array[1]['accrued_liabilities']\n",
    "    payments_ops = operating_exp + prepaid_expense_diff + accrued_liab_diff\n",
    "\n",
    "\n",
    "    income_tax_diff = abs( array[0]['income_tax_payable'] - array[1]['income_tax_payable'] )\n",
    "    income_tax_exp = dict['income_tax_expense']\n",
    "    pay_income_tax = income_tax_diff + income_tax_exp\n",
    "\n",
    "    pay_interest = dict['interest_expense']\n",
    "\n",
    "    total_cash_payments = cash_suppliers + payments_ops + pay_income_tax + pay_interest\n",
    "    net_cash_by_ops = cash_receipts - total_cash_payments\n",
    "\n",
    "    # -------------\n",
    "    print(\"Cash receipts from customers = ${:,}\".format(cash_receipts))\n",
    "    print(\"Cost of goods purchased = ${:,}\".format(purchased_cost))\n",
    "    print(\"Cash payments to suppliers = ${:,}\".format(cash_suppliers))\n",
    "    print(\"Cash payments for operating expenses = ${:,}\".format(payments_ops))\n",
    "    print(\"Cash payments for income tax = ${:,}\".format(pay_income_tax))\n",
    "    print(\"Cash payments for interest = ${:,}\".format(pay_interest))\n",
    "    print(\"Total Cash payments  = ${:,}\".format(total_cash_payments))\n",
    "    print(\" Net cash provided by operating activities = ${:,}\".format(net_cash_by_ops))\n",
    "\n",
    "\n",
    "# -------\n",
    "cash_payments( corp_financial_position, corp_income_statement )\n"
   ]
  },
  {
   "cell_type": "code",
   "execution_count": 39,
   "metadata": {},
   "outputs": [
    {
     "name": "stdout",
     "output_type": "stream",
     "text": [
      "horizonatal percentage of base amount = 2.74%\n",
      "Horizontal percentage change for period = 36.64%\n"
     ]
    }
   ],
   "source": [
    "horizonatal_analysis = [\n",
    "    {\n",
    "        'year': 2015,\n",
    "        'net_sales': 11_162,\n",
    "        'percentage_of_base_yr_amount': 273.8,\n",
    "        'percentage_for_the_year': 36.6\n",
    "    },\n",
    "    {\n",
    "        'year': 2014,\n",
    "        'net_sales': 8_169,\n",
    "        'percentage_of_base_yr_amount': 200.4,\n",
    "        'percentage_for_the_year': 56.4\n",
    "    },\n",
    "        {\n",
    "        'year': 2013,\n",
    "        'net_sales': 5223,\n",
    "        'percentage_of_base_yr_amount': 128.1,\n",
    "        'percentage_for_the_year': 28.1\n",
    "    },\n",
    "        {\n",
    "        'year': 2012, # base year\n",
    "        'net_sales': 4077,\n",
    "        'percentage_of_base_yr_amount': 100.0,\n",
    "        'percentage_for_the_year': 0\n",
    "    }\n",
    "]\n",
    "\n",
    "\n",
    "# determine the net sales\n",
    "horiz_percent_amt = horizonatal_analysis[0]['net_sales'] / horizonatal_analysis[3]['net_sales']\n",
    "\n",
    "# measure the % change for year\n",
    "horiz_perc_change = ( horizonatal_analysis[0]['net_sales'] - horizonatal_analysis[1]['net_sales'] ) / horizonatal_analysis[1]['net_sales'] *100\n",
    "\n",
    "\n",
    "print(\"horizonatal percentage of base amount = {:.2f}%\".format(horiz_percent_amt))\n",
    "print(\"Horizontal percentage change for period = {:.2f}%\".format(horiz_perc_change))"
   ]
  },
  {
   "cell_type": "code",
   "execution_count": 40,
   "metadata": {},
   "outputs": [
    {
     "name": "stdout",
     "output_type": "stream",
     "text": [
      "Vertical analysis on statement of earnings:\n",
      " cost of sales = 59.47%\n"
     ]
    }
   ],
   "source": [
    "company_finances = [ \n",
    "    # statement of earnings\n",
    "    {\n",
    "        'year': 2015,\n",
    "        'net_sales': 11162,\n",
    "        'cost_of_sales': 6638,\n",
    "        'operating_expenses': 4526,\n",
    "        'other_operating_expenses': 684,\n",
    "        'interest_expense': 225,\n",
    "        'other_expense': 62,\n",
    "        'income_before_income_tax': 519,\n",
    "        'income_tax_benefit_expense': 132\n",
    "    },\n",
    "        {\n",
    "        'year': 2014,\n",
    "        'net_sales': 8169,\n",
    "        'cost_of_sales': 4901,\n",
    "        'operating_expenses': 3103,\n",
    "        'other_operating_expenses': 308,\n",
    "        'interest_expense': 218,\n",
    "        'other_expense': 44,\n",
    "        'income_before_income_tax': 211,\n",
    "        'income_tax_benefit_expense': 22\n",
    "    },\n",
    "    # balance sheet\n",
    "    {\n",
    "        'year': 2015,\n",
    "        'cash': 507,\n",
    "        'trade_other_receivables': 512,\n",
    "        'inventories': 3415,\n",
    "        'other_current_assets': 194,\n",
    "        'property_plant_equipment':5154,\n",
    "        'intangible_assets': 1774,\n",
    "        'other_assets': 1093,\n",
    "        # liabilities\n",
    "        'loans_borrowings': 451,\n",
    "        'trade_payables_accriued_liabilities': 2514,\n",
    "        'unearned_revenue': 132,\n",
    "        'provisions_other': 299,\n",
    "        'non_current_liabilities': 6154,\n",
    "        'shareholder_equity': 3099\n",
    "    },\n",
    "        {\n",
    "        'year': 2014,\n",
    "        'cash': 168,\n",
    "        'trade_other_receivables': 212,\n",
    "        'inventories': 2319,\n",
    "        'other_current_assets': 100,\n",
    "        'property_plant_equipment':4606,\n",
    "        'intangible_assets': 1313,\n",
    "        'other_assets': 404,\n",
    "        # liabilities\n",
    "        'loans_borrowings': 256,\n",
    "        'trade_payables_accriued_liabilities': 1548,\n",
    "        'unearned_revenue': 130,\n",
    "        'provisions_other': 220,\n",
    "        'non_current_liabilities': 4504,\n",
    "        'shareholder_equity': 2474\n",
    "    }\n",
    "]\n",
    "\n",
    "\n",
    "\n",
    "\n",
    "# vertical analysis \n",
    "vert_analysis = company_finances[0]['cost_of_sales'] / company_finances[0]['net_sales'] * 100\n",
    "print(\"Vertical analysis on statement of earnings:\\n cost of sales = {:.2f}%\".format(vert_analysis))"
   ]
  },
  {
   "cell_type": "code",
   "execution_count": 41,
   "metadata": {},
   "outputs": [],
   "source": [
    "intracompany_data = [ \n",
    "    {\n",
    "        'year': 2015,\n",
    "        'net_cash_operating_activities': 18,\n",
    "        'net_capital_expenditures': 610,\n",
    "        'total_cash_dividends': 36,\n",
    "        'dividends_per_share': 0.20,\n",
    "        'market_price_per_share': 17.30,\n",
    "        'weighted_avg_num_shares': 182\n",
    "    },\n",
    "        {\n",
    "        'year': 2014,\n",
    "        'net_cash_operating_activities': 547,\n",
    "        'net_capital_expenditures': 426,\n",
    "        'total_cash_dividends': 36,\n",
    "        'dividends_per_share': 0.20,\n",
    "        'market_price_per_share': 23.42,\n",
    "        'weighted_avg_num_shares': 182\n",
    "    }\n",
    "]\n",
    "\n",
    "def current_assets( dict ):\n",
    "    current_assets =( dict['cash'] + dict['trade_other_receivables'] + dict['inventories'] + dict['other_current_assets'] )\n",
    "    print(\"Current assets = ${:.2f}\".format(current_assets))\n",
    "\n",
    "def current_liabilities( dict ):\n",
    "    current_liabilities = ( dict['loans_borrowings'] + dict['trade_payables_accriued_liabilities'] + dict['unearned_revenue'] + dict['provisions_other'])\n",
    "    print(\"Current liabilities = ${:.2f}\".format(current_liabilities))\n",
    "\n",
    "\n",
    "def working_capital( dict  ): # \n",
    "    current_assets =( dict['cash'] + dict['trade_other_receivables'] + dict['inventories'] + dict['other_current_assets'] )\n",
    "    current_liabilities = ( dict['loans_borrowings'] + dict['trade_payables_accriued_liabilities'] + dict['unearned_revenue'] + dict['provisions_other'])\n",
    "    work_cap = current_assets - current_liabilities\n",
    "    print(\"Working capital = {:.2f} : 1\".format(work_cap))\n",
    "\n",
    "\n",
    "\n",
    "\n",
    "def current_ratio( dict ):\n",
    "    curr_ratio = dict['current_assets'] / dict['current_laibilities']\n",
    "    print(\"Current ratio = {:.2f} : 1\".format(curr_ratio))\n",
    "\n",
    "    # ratio 1.4:1  means for every $ of current liabilities, $1.4 is current assets\n",
    "\n",
    "def receivables_turnover( dict ):\n",
    "    rec_turn = dict['net_credit_sales'] / dict['avg_gross_accounts_receivable']\n",
    "    print(\"Receivable turnover = {:.2f} times\".format(rec_turn))\n",
    "\n",
    "def avg_collection_period( receivable_turnover ):\n",
    "    avg_coll_period = 365 / receivable_turnover\n",
    "    print(\"Average collection period = {:.2f} days\".format(avg_coll_period))\n",
    "\n",
    "def inventory_turonover( cogs,  avg_coll_period):\n",
    "    inv_turn = cogs / avg_coll_period\n",
    "    print(\"Inventory turnover = {:.2f} times\".format(inv_turn))\n",
    "\n",
    "def inventory_days( inv_turn ):\n",
    "    days_inventory = 365 / inv_turn\n",
    "    print(\"Days in inventory  = {:.2f} times\".format(days_inventory))\n",
    "\n",
    "def debt_total_assets( dict ):\n",
    "    debt_tot_assets = dict['current_liabilites'] / dict['current_assets'] \n",
    "    print(\"Debt to total assets = {:.2f} %\".format(debt_tot_assets))\n",
    "\n",
    "\n",
    "def times_interest_earned( dict ):\n",
    "    times_int_earned = (dict['net_income'] + dict['interest_expense'] + dict['income_tax_expense']) / dict['interest_expense']\n",
    "    print(\"Times interest earned = {:.2f} times\".format(times_int_earned))\n",
    "\n",
    "def free_cash_flow( dict ):\n",
    "    free_flow = ( dict['net_cash_operating_activities'] - dict['net_capital_expenditures'] - dict['dividends_paid'] )\n",
    "    print(\"Free cash flow = ${:.2f} \".format(free_flow))\n",
    "\n",
    "\n",
    "def gross_profit_margin( dict ):\n",
    "    gross_prof_margin = dict['gross_profit'] / dict['net_sales']\n",
    "    print(\"Gross profit margin = {:.2f} % \".format(gross_prof_margin))\n",
    "\n",
    "\n",
    "def profit_margin( dict ):\n",
    "    prof_margin = dict['net_income'] / dict['net sales']\n",
    "    print(\"Profit margin = {:.2f} % \".format(prof_margin))\n",
    "\n",
    "\n",
    "def asset_turnover( dict ):\n",
    "    asset_turn = dict['net_sales'] / dict['average_total_assets']\n",
    "    print(\"Asset turnover = {:.2f} times \".format(asset_turn))\n",
    "\n",
    "def return_on_assets( dict ):\n",
    "    ret_assets = dict['net_income'] / dict['average_total_assets']\n",
    "    print(\"Return on assets = {:.2f} % \".format(ret_assets))\n",
    "\n",
    "def return_shareholder_equity( dict ):\n",
    "    ret_shareholder_equity = ( dict['net_income'] - dict['preferred_dividends_declared'] ) / dict['average_common_shareholder_equity']\n",
    "    print(\"Return on shareholders equity = {:.2f} % \".format(ret_shareholder_equity))\n",
    "\n",
    "def earnings_per_share(  dict ):\n",
    "    earn_per_share = ( dict['net_income'] - dict['preferred_dividends_declared'] ) / dict['weighted_avg_num_shares']\n",
    "    print(\"Basic earnings per share = ${:.2f}  \".format(earn_per_share))\n",
    "\n",
    "def price_earnings_ratio( dict ):\n",
    "    price_earn = dict['market_price_per_share'] / dict['basic_earnings_per_share']\n",
    "    print(\"Price earnings = {:.2f} times \".format(price_earn))\n",
    "\n",
    "def payput_ratio( dict ):\n",
    "    pay_ratio = dict['cash_dividends_declared'] / dict['net_income']\n",
    "    print(\"Payout ratio = {:.2f} % \".format(pay_ratio))\n",
    "\n",
    "def dividend_yeild( dict ):\n",
    "    div_yeild = dict['dividends_declared_per_share'] / dict['market_price_per_share']\n",
    "    print(\"Dividend yeild = {:.2f} % \".format(div_yeild))\n",
    "\n"
   ]
  },
  {
   "cell_type": "code",
   "execution_count": 42,
   "metadata": {},
   "outputs": [
    {
     "name": "stdout",
     "output_type": "stream",
     "text": [
      "Current assets = $4628.00\n",
      "Current liabilities = $3396.00\n",
      "Working capital = 1232.00 : 1\n"
     ]
    }
   ],
   "source": [
    "current_assets( company_finances[2] )\n",
    "current_liabilities( company_finances[2] )\n",
    "working_capital( company_finances[2])"
   ]
  },
  {
   "cell_type": "code",
   "execution_count": null,
   "metadata": {},
   "outputs": [],
   "source": []
  }
 ],
 "metadata": {
  "kernelspec": {
   "display_name": "Python 3.10.7 64-bit",
   "language": "python",
   "name": "python3"
  },
  "language_info": {
   "codemirror_mode": {
    "name": "ipython",
    "version": 3
   },
   "file_extension": ".py",
   "mimetype": "text/x-python",
   "name": "python",
   "nbconvert_exporter": "python",
   "pygments_lexer": "ipython3",
   "version": "3.10.7"
  },
  "orig_nbformat": 4,
  "vscode": {
   "interpreter": {
    "hash": "aee8b7b246df8f9039afb4144a1f6fd8d2ca17a180786b69acc140d282b71a49"
   }
  }
 },
 "nbformat": 4,
 "nbformat_minor": 2
}
