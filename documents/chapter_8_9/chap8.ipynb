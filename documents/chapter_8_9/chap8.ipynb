{
 "cells": [
  {
   "cell_type": "markdown",
   "metadata": {},
   "source": [
    "# chapter 8 - report & analyze receivables"
   ]
  },
  {
   "cell_type": "markdown",
   "metadata": {},
   "source": [
    "`accounts receivable` = amounts owed to customers on account, the sale of goods and services\n",
    "\n",
    "`notes receiveable` = a written promise to repay issued as evidence of debt\n",
    "\n",
    "`other receivables` = nontrade receivables , interest receivables, advances to employees etc\n",
    "\n",
    "`receivables turnover` = ratio to assess the liquidity of receivables\n"
   ]
  },
  {
   "cell_type": "code",
   "execution_count": 4,
   "metadata": {},
   "outputs": [
    {
     "name": "stdout",
     "output_type": "stream",
     "text": [
      "Receivables turnover ratio = 13.7\n",
      "Average collection period = 26.6 days\n"
     ]
    }
   ],
   "source": [
    "net_sales = 12279.6\n",
    "accounts_receivable_gross_yr1 = 915\n",
    "accounts_receivable_gross_yr2 = 880.2\n",
    "avg_gross_acct_rec = (accounts_receivable_gross_yr1 + accounts_receivable_gross_yr2) / 2\n",
    "\n",
    "receivables_turnover = round( net_sales / avg_gross_acct_rec, 1)\n",
    "avg_collection_period = round( 365 / receivables_turnover, 1)\n",
    "\n",
    "print(f\"Receivables turnover ratio = {receivables_turnover}\")\n",
    "print(f\"Average collection period = {avg_collection_period} days\")"
   ]
  },
  {
   "cell_type": "code",
   "execution_count": null,
   "metadata": {},
   "outputs": [],
   "source": []
  },
  {
   "cell_type": "markdown",
   "metadata": {},
   "source": [
    "# chapter 9 - report & analyze long lived assets"
   ]
  },
  {
   "cell_type": "markdown",
   "metadata": {},
   "source": [
    "all costs related to purchase of land, including closing costs, fees are added to land account"
   ]
  },
  {
   "cell_type": "code",
   "execution_count": 12,
   "metadata": {},
   "outputs": [
    {
     "name": "stdout",
     "output_type": "stream",
     "text": [
      "Cost of land = $1,245,000\n"
     ]
    }
   ],
   "source": [
    "land = {\n",
    "    'property_cash_price': 1_200_000,\n",
    "    'net_cost_moving_warehouse' : 40_000,\n",
    "    'legal_fees': 5_000\n",
    "}\n",
    "\n",
    "land_cost = sum( land.values() )\n",
    "print(\"Cost of land = ${:,}\".format(land_cost))"
   ]
  },
  {
   "cell_type": "markdown",
   "metadata": {},
   "source": [
    "depreciation methods\n",
    "\n",
    "- `cost` the cost of property, plant, equipment include the purchase price plus all costs necessary to get the asset ready for use\n",
    "- `useful life` the period of time over which management expects an asset to be available for use, the number of units of prodiction or units of output that management expects to be obtained from an asset\n",
    "- `residual value` management's estimate of the amount that a company would obtain from the disposal of the asset at the end of its useful life\n",
    "\n",
    "\n",
    "`depreciable amount`  the difference bwteen a depreciable asset's cost and its residual value, which the total amount to bedepreciated over the useful life\n",
    "\n",
    "3 methods for calculation: \n",
    "\n",
    "- straight line\n",
    "- diminishing balance\n",
    "- units of production"
   ]
  },
  {
   "cell_type": "code",
   "execution_count": 66,
   "metadata": {},
   "outputs": [],
   "source": [
    "pizza_delivery_van = {\n",
    "    'cost': 33_000,\n",
    "    'estimated_residual_value' : 3_000,\n",
    "    'estimated_useful_life_years' : 5,\n",
    "    'estimated_useful_life_kms': 100_000,\n",
    "    'units_per_year_km': 15_000\n",
    "}"
   ]
  },
  {
   "cell_type": "markdown",
   "metadata": {},
   "source": [
    "straightline method"
   ]
  },
  {
   "cell_type": "code",
   "execution_count": 67,
   "metadata": {},
   "outputs": [],
   "source": [
    "def straightline_method( dict_ ):\n",
    "    \n",
    "    deprec_amt = dict_['cost'] - dict_['estimated_residual_value']\n",
    "    deprec_exp = deprec_amt / dict_['estimated_useful_life_years']\n",
    "    straightline_dep = 100 / dict_['estimated_useful_life_years']\n",
    "\n",
    "    print(f\"Depreciable amount = ${deprec_amt}\")\n",
    "    print(f\"Depreciable expense = ${deprec_exp}\")\n",
    "    print(f\"Straightline depreciation rate  = {straightline_dep}%\")"
   ]
  },
  {
   "cell_type": "code",
   "execution_count": 68,
   "metadata": {},
   "outputs": [
    {
     "name": "stdout",
     "output_type": "stream",
     "text": [
      "Depreciable amount = $30000\n",
      "Depreciable expense = $6000.0\n",
      "Straightline depreciation rate  = 20.0%\n"
     ]
    }
   ],
   "source": [
    "straightline_method( pizza_delivery_van )"
   ]
  },
  {
   "cell_type": "markdown",
   "metadata": {},
   "source": [
    "diminishing balance method"
   ]
  },
  {
   "cell_type": "code",
   "execution_count": 74,
   "metadata": {},
   "outputs": [],
   "source": [
    "def diminishing_balance( dict_ , multiplier: int):\n",
    "    deprec_rate = 100 / dict_['estimated_useful_life_years'] \n",
    "    dbl_deprec_rate = deprec_rate * multiplier / 100\n",
    "    deprec_exp =  dict_['cost'] * dbl_deprec_rate\n",
    "    print(\"Diminishing balance:\\n depreciation expense = ${:,}\".format(deprec_exp))"
   ]
  },
  {
   "cell_type": "code",
   "execution_count": 75,
   "metadata": {},
   "outputs": [
    {
     "name": "stdout",
     "output_type": "stream",
     "text": [
      "Diminishing balance:\n",
      " depreciation expense = $13,200.0\n"
     ]
    }
   ],
   "source": [
    "diminishing_balance( pizza_delivery_van, 2 )"
   ]
  },
  {
   "cell_type": "markdown",
   "metadata": {},
   "source": [
    "units production method"
   ]
  },
  {
   "cell_type": "code",
   "execution_count": 72,
   "metadata": {},
   "outputs": [],
   "source": [
    "def units_production( dict_ ):\n",
    "    deprec_amt = dict_['cost'] - dict_['estimated_residual_value']\n",
    "    deprec_per_unit = deprec_amt / dict_['estimated_useful_life_kms']\n",
    "    deprec_exp = deprec_per_unit  * dict_['units_per_year_km']\n",
    "\n",
    "    print(\"Depreciable amount = ${:,}\".format(deprec_amt))\n",
    "    print(\"Depreciable amount per unit = ${:,}\".format(deprec_per_unit))\n",
    "    print(\"Depreciable expense = ${:,}\".format(deprec_exp))\n"
   ]
  },
  {
   "cell_type": "code",
   "execution_count": 73,
   "metadata": {},
   "outputs": [
    {
     "name": "stdout",
     "output_type": "stream",
     "text": [
      "Depreciable amount = $30,000\n",
      "Depreciable amount per unit = $0.3\n",
      "Depreciable expense = $4,500.0\n"
     ]
    }
   ],
   "source": [
    "units_production( pizza_delivery_van )"
   ]
  },
  {
   "cell_type": "markdown",
   "metadata": {},
   "source": [
    "`impaired loss`  property, plant and equipment are impaired if the asset's carrying amount exceeds its recoverable amount\n",
    "\n",
    "- carrying amount = cost - accumulated depreciation\n",
    "- impairment loss = carrying amount - recoverable amount"
   ]
  },
  {
   "cell_type": "markdown",
   "metadata": {},
   "source": [
    "### sale of property, plant and equipment\n",
    "\n",
    "step 1: update depreciation\n",
    "\n",
    "step 2: calculate carrying amount `carrying amount = cost - accumulated depreciation`\n",
    "\n",
    "step 3: calculate gain or loss  `gain = proceeds - carrying amount`\n",
    "\n",
    "step 4: record the disposal"
   ]
  },
  {
   "cell_type": "code",
   "execution_count": 86,
   "metadata": {},
   "outputs": [],
   "source": [
    "equipment = {\n",
    "    'cost': 60_000,\n",
    "    'annual_depreciation': 11_000.0,\n",
    "    'years_depreciation': 3.5,\n",
    "    'sale_of_equipment_proceeds': 25_000\n",
    "}"
   ]
  },
  {
   "cell_type": "code",
   "execution_count": 91,
   "metadata": {},
   "outputs": [],
   "source": [
    "# derognition of property, plant, eqiopment\n",
    "def derecognition( dict_ ):\n",
    "\n",
    "    accum_deprec = dict_['annual_depreciation'] * 3.5\n",
    "    car_amt = dict_['cost'] - accum_deprec\n",
    "    gain = dict_['sale_of_equipment_proceeds'] - car_amt\n",
    "    debit = dict_['sale_of_equipment_proceeds'] + accum_deprec\n",
    "    credit = dict_['cost'] + gain \n",
    "\n",
    "\n",
    "    print(\"Carrying amount = ${:,}\".format(car_amt))\n",
    "    print(\"Gain (loss) = ${:,}\".format(gain))\n",
    "    print(f\"debit: ${debit} | credit: ${credit}\")"
   ]
  },
  {
   "cell_type": "code",
   "execution_count": 92,
   "metadata": {},
   "outputs": [
    {
     "name": "stdout",
     "output_type": "stream",
     "text": [
      "Carrying amount = $21,500.0\n",
      "Gain (loss) = $3,500.0\n",
      "debit: $63500.0 | credit: $63500.0\n"
     ]
    }
   ],
   "source": [
    "derecognition( equipment )"
   ]
  },
  {
   "cell_type": "markdown",
   "metadata": {},
   "source": [
    "goodwill = purchase price - fair value of net identifiable assets"
   ]
  },
  {
   "cell_type": "markdown",
   "metadata": {},
   "source": [
    "return on assets ratio measures overall profitability "
   ]
  },
  {
   "cell_type": "code",
   "execution_count": 129,
   "metadata": {},
   "outputs": [],
   "source": [
    "from statistics import mean\n",
    "\n",
    "\n",
    "company = {\n",
    "    'net_sales': 4029265,\n",
    "    'net_income': 367530,\n",
    "    'total_assets': 5129024,\n",
    "    'avg_total_assets': sum([5129024,4646433]) / 2\n",
    "}\n"
   ]
  },
  {
   "cell_type": "code",
   "execution_count": 136,
   "metadata": {},
   "outputs": [],
   "source": [
    "def return_on_assets( dict_ ):\n",
    "    ret_assets = dict_['net_income'] / (dict_['avg_total_assets'] )\n",
    "\n",
    "    print(\"Return on assets = {:.2f}%\".format(ret_assets * 100))\n",
    "\n",
    "\n",
    "def asset_turnover( dict_ ):\n",
    "    ass_turn = dict_['net_sales'] / (dict_['avg_total_assets'] )\n",
    "    print(\"Asset turnover = {:.2f} times\".format(ass_turn))\n",
    "\n",
    "def profit_margin( dict_ ):\n",
    "    prof_marg = dict_['net_income'] / dict_['net_sales'] \n",
    "    print(\"Profit margin = {:.2f}%\".format(prof_marg * 100))\n"
   ]
  },
  {
   "cell_type": "code",
   "execution_count": 137,
   "metadata": {},
   "outputs": [
    {
     "name": "stdout",
     "output_type": "stream",
     "text": [
      "Return on assets = 7.52%\n",
      "Asset turnover = 0.82 times\n",
      "Profit margin = 9.12%\n"
     ]
    }
   ],
   "source": [
    "return_on_assets( company )\n",
    "asset_turnover( company )\n",
    "profit_margin( company )"
   ]
  },
  {
   "cell_type": "code",
   "execution_count": null,
   "metadata": {},
   "outputs": [],
   "source": []
  }
 ],
 "metadata": {
  "kernelspec": {
   "display_name": "Python 3.10.7 64-bit",
   "language": "python",
   "name": "python3"
  },
  "language_info": {
   "codemirror_mode": {
    "name": "ipython",
    "version": 3
   },
   "file_extension": ".py",
   "mimetype": "text/x-python",
   "name": "python",
   "nbconvert_exporter": "python",
   "pygments_lexer": "ipython3",
   "version": "3.10.7"
  },
  "orig_nbformat": 4,
  "vscode": {
   "interpreter": {
    "hash": "aee8b7b246df8f9039afb4144a1f6fd8d2ca17a180786b69acc140d282b71a49"
   }
  }
 },
 "nbformat": 4,
 "nbformat_minor": 2
}
