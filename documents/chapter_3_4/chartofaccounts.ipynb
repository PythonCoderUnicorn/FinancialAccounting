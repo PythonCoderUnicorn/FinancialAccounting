{
 "cells": [
  {
   "cell_type": "markdown",
   "metadata": {},
   "source": [
    "## chart of accounts"
   ]
  },
  {
   "cell_type": "code",
   "execution_count": 1,
   "metadata": {},
   "outputs": [],
   "source": [
    "chart_of_accounts = {\n",
    "    # assets\n",
    "    '100': 'cash',\n",
    "    '110': 'accounts receivable',\n",
    "    '150': 'supplies', \n",
    "    '155': 'prepaid insurance',\n",
    "    '200': 'equipment',\n",
    "    '201': 'accumulated depreciations - equipment',\n",
    "    # liabilities\n",
    "    '300': 'accounts payable',\n",
    "    '310': 'salaries payable',\n",
    "    '320': 'interest payable',\n",
    "    '330': 'unearned revenue',\n",
    "    '340': 'bank loan payable',\n",
    "    # shareholder equity\n",
    "    '400': 'common shares',\n",
    "    '450': 'retained earnings',\n",
    "    '460': 'dividends declared',\n",
    "    # revenues\n",
    "    '500': 'service revenue',\n",
    "    # expenses\n",
    "    '700': 'salaries expense',\n",
    "    '710': 'supplies expense',\n",
    "    '750': 'rent expense',\n",
    "    '760': 'depreciation expense',\n",
    "    '820': 'insurance expense',\n",
    "    '840': 'interest expense',\n",
    "    '900': 'income tax expense'\n",
    "}"
   ]
  },
  {
   "cell_type": "markdown",
   "metadata": {},
   "source": [
    "trial balance , debit on left and credit on right side"
   ]
  },
  {
   "cell_type": "code",
   "execution_count": 2,
   "metadata": {},
   "outputs": [],
   "source": [
    "trial = {\n",
    "    'cash': 11_400,\n",
    "    'accounts_receivable': 11_000,\n",
    "    'supplies': 2_500,\n",
    "    'prepaid_insurance': 600,\n",
    "    'equipment': 5_000,\n",
    "\n",
    "    'accounts_payable': 1500,\n",
    "    'unearned_revenue': 1200,\n",
    "    'bank_loan_payable': 5000,\n",
    "    'common_shares': 10_000,\n",
    "\n",
    "    'dividends_declared': 500,\n",
    "    'service_revenue': 20_000,\n",
    "    'salaries_expense': 4000,\n",
    "    'rent_expense': 900,\n",
    "    'income_tax_expense': 1800\n",
    "}"
   ]
  },
  {
   "cell_type": "code",
   "execution_count": 3,
   "metadata": {},
   "outputs": [],
   "source": [
    "def trial_balance( trial):\n",
    "\n",
    "    total_debit = trial['cash'] + trial['accounts_receivable'] + trial['supplies'] \\\n",
    "        + trial['prepaid_insurance'] + trial['equipment'] + trial['dividends_declared'] \\\n",
    "        + trial['salaries_expense'] + trial['rent_expense'] + trial['income_tax_expense']\n",
    "\n",
    "\n",
    "    total_credit = trial['accounts_payable'] + trial['unearned_revenue'] + \\\n",
    "        trial['bank_loan_payable'] + trial['common_shares'] + trial['service_revenue']\n",
    "\n",
    "    print(\"Debit = ${:,}  |  Credit = ${:,}\".format(total_debit, total_credit))"
   ]
  },
  {
   "cell_type": "code",
   "execution_count": 4,
   "metadata": {},
   "outputs": [
    {
     "name": "stdout",
     "output_type": "stream",
     "text": [
      "Debit = $37,700  |  Credit = $37,700\n"
     ]
    }
   ],
   "source": [
    "trial_balance( trial ) "
   ]
  },
  {
   "cell_type": "markdown",
   "metadata": {},
   "source": [
    "depreciation based on equipment used for x months"
   ]
  },
  {
   "cell_type": "code",
   "execution_count": 31,
   "metadata": {},
   "outputs": [],
   "source": [
    "def straightline_depreciation(cost: float, useful_life: float):\n",
    "    annual_depreciation_expense = cost / useful_life\n",
    "    print(\"Annual depreciation expense = ${:.2f}\".format(annual_depreciation_expense))\n",
    "\n",
    "    months = int(input(\"Months used? : \"))\n",
    "    monthly_depreciation =round( (months / 12) * annual_depreciation_expense, 2)\n",
    "    print(f\"Depreciation for {months} month(s) = ${ monthly_depreciation}\" )\n",
    "\n",
    "    carrying_amount = cost - monthly_depreciation\n",
    "    print(\"Carrying cost amount = ${:,}\".format(carrying_amount))\n"
   ]
  },
  {
   "cell_type": "code",
   "execution_count": 32,
   "metadata": {},
   "outputs": [
    {
     "name": "stdout",
     "output_type": "stream",
     "text": [
      "Annual depreciation expense = $1000.00\n",
      "Depreciation for 1 month(s) = $83.33\n",
      "Carrying cost amount = $4,916.67\n"
     ]
    }
   ],
   "source": [
    "straightline_depreciation(5000, 5)"
   ]
  },
  {
   "cell_type": "markdown",
   "metadata": {},
   "source": [
    "calculate interest\n",
    "\n",
    "company X October 1, signed bank loan for $5000 with interest and principal repayment in 3 months\n",
    "bank loan incur interest at 6% _per annum_\n",
    "\n",
    "amount of interest incurred is determined by 3 factors:\n",
    "\n",
    "- principal amount, the loan $ from bank\n",
    "- interest rate, % per annum\n",
    "- length of time that loan is unpaid, (3 month for this example)"
   ]
  },
  {
   "cell_type": "code",
   "execution_count": 49,
   "metadata": {},
   "outputs": [],
   "source": [
    "def calculate_interest(amount:float, interest_rate: float, months_per_yr: int):\n",
    "    time = (months_per_yr /12)\n",
    "    rate = (interest_rate/100)\n",
    "    interest = amount * rate  * time \n",
    "    print(f\"Total interest payment due = ${interest} (${interest/months_per_yr}/month)\")"
   ]
  },
  {
   "cell_type": "code",
   "execution_count": 50,
   "metadata": {},
   "outputs": [
    {
     "name": "stdout",
     "output_type": "stream",
     "text": [
      "Total interest payment due = $75.0 ($25.0/month)\n"
     ]
    }
   ],
   "source": [
    "calculate_interest(5000, 6, 3)"
   ]
  },
  {
   "cell_type": "markdown",
   "metadata": {},
   "source": [
    "salaries\n",
    "\n",
    "Example: payday is on October 26 (friday), October 29,30 and 31 are adjustment period. \n",
    "Next payday is on November 9th (Friday). \n",
    "Start of pay period is October 15.\n",
    "\n",
    "- number of employees = 4\n",
    "- salary per 5 day work week = $500 ($100/day)\n",
    "- **accrued salaries** for 3 days"
   ]
  },
  {
   "cell_type": "code",
   "execution_count": 73,
   "metadata": {},
   "outputs": [],
   "source": [
    "def accrued_salaries(days: int, salary_per_day: float, employees: int):\n",
    "    acc_sal = days * salary_per_day * employees\n",
    "    print(\"Accrued salaries (adjusted) payable = ${:,}\".format(acc_sal))\n",
    "\n",
    "    adjust_bal = salary_per_day * 13 * employees\n",
    "    print(\"Actual salary for period: ${:,}\".format(adjust_bal))\n",
    "\n",
    "    salaries_expense = 7 * 100 * 4 # 7days x 100/day  x 4 employee\n",
    "    pay = salaries_expense + acc_sal\n",
    "    print(\"next regular payday = ${:,}\".format(pay))"
   ]
  },
  {
   "cell_type": "code",
   "execution_count": 74,
   "metadata": {},
   "outputs": [
    {
     "name": "stdout",
     "output_type": "stream",
     "text": [
      "Accrued salaries (adjusted) payable = $1,200\n",
      "Actual salary for period: $5,200\n",
      "next regular payday = $4,000\n"
     ]
    }
   ],
   "source": [
    "accrued_salaries(3,100,4)"
   ]
  },
  {
   "cell_type": "code",
   "execution_count": null,
   "metadata": {},
   "outputs": [],
   "source": []
  },
  {
   "cell_type": "code",
   "execution_count": null,
   "metadata": {},
   "outputs": [],
   "source": []
  }
 ],
 "metadata": {
  "kernelspec": {
   "display_name": "Python 3.10.7 64-bit",
   "language": "python",
   "name": "python3"
  },
  "language_info": {
   "codemirror_mode": {
    "name": "ipython",
    "version": 3
   },
   "file_extension": ".py",
   "mimetype": "text/x-python",
   "name": "python",
   "nbconvert_exporter": "python",
   "pygments_lexer": "ipython3",
   "version": "3.11.0"
  },
  "orig_nbformat": 4,
  "vscode": {
   "interpreter": {
    "hash": "aee8b7b246df8f9039afb4144a1f6fd8d2ca17a180786b69acc140d282b71a49"
   }
  }
 },
 "nbformat": 4,
 "nbformat_minor": 2
}
