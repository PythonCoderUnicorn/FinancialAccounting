{
 "cells": [
  {
   "cell_type": "markdown",
   "metadata": {},
   "source": [
    "# Financial Accounting \n",
    "\n",
    "Chapter 2 - Financial Statements"
   ]
  },
  {
   "cell_type": "markdown",
   "metadata": {},
   "source": [
    "#### Assets\n",
    "\n",
    "Current\n",
    "\n",
    "- cash\n",
    "- held for trading investments\n",
    "- accounts receivable\n",
    "- note receivable\n",
    "- inventory \n",
    "- supplies\n",
    "- prepaid expenses\n",
    "\n",
    "Non-current assets\n",
    "\n",
    "- long term investments\n",
    "- property, plant, equipment\n",
    "- intangible assets\n",
    "- goodwill\n",
    "\n",
    "#### Liabilities & Shareholders' Equity\n",
    "\n",
    "- bank indebtness\n",
    "- accounts payable\n",
    "- unearned revenue\n",
    "- notes payable\n",
    "- current maturities of long term debt\n",
    "- bank loan payable\n",
    "- shareholder equity (share capital)\n",
    "- retained earnings\n"
   ]
  },
  {
   "cell_type": "code",
   "execution_count": 6,
   "metadata": {},
   "outputs": [],
   "source": [
    "# -- comprehensive financial statement\n",
    "financial_statement = {\n",
    "    # -- current assets\n",
    "    'cash' : 0,\n",
    "    'held_for_trading_investments': 0,\n",
    "    'accounts_receivable' : 0,\n",
    "    'inventory' : 0,\n",
    "    'supplies' : 0,\n",
    "    'prepaid_expense' : 0,   \n",
    "    # --- PPE\n",
    "    'long_term_investments' : 0,\n",
    "    'property_land' : 0,\n",
    "    'property_buildings' : 0,\n",
    "    'equipment' : 0,\n",
    "    # -- acquisition\n",
    "    'goodwill' : 0,\n",
    "    # --- liabilities\n",
    "    'accounts_payable' : 0,\n",
    "    'salaries_payable' : 0,\n",
    "    'interest_payable' : 0,\n",
    "    'unearned_revenue' : 0,\n",
    "    'bank_loan_payable' : 0,\n",
    "    'current_portion_mortage_payable': 0,\n",
    "    'mortgage_payable' : 0,\n",
    "    # --- shareholder equity\n",
    "    'common_shares' : 0,\n",
    "    'retained_earnings' : 0\n",
    "}"
   ]
  },
  {
   "cell_type": "markdown",
   "metadata": {},
   "source": [
    "## Accounting Formulas\n"
   ]
  },
  {
   "cell_type": "code",
   "execution_count": 80,
   "metadata": {},
   "outputs": [],
   "source": [
    "def net_income(revenue: float, expenses: float):\n",
    "    net_ = revenue - expenses\n",
    "    print(\"Net income = ${:.2f}\".format(net_))\n",
    "\n",
    "\n",
    "\n",
    "def finance_position( financial_statement ):\n",
    "\n",
    "    print(\"\\n============ BALANCE SHEET ===========\")\n",
    "\n",
    "    # def current_assets( financial_statement ):\n",
    "    curr_assets = financial_statement['cash'] + financial_statement['accounts_receivable'] \\\n",
    "                    + financial_statement['supplies'] + financial_statement['inventory']\n",
    "                    \n",
    "    print(\"Current assets = ${:,}\".format(curr_assets))\n",
    "    # return curr_assets\n",
    "        \n",
    "\n",
    "    # def noncurrent_assets( financial_statement ):\n",
    "    noncurr_assets = financial_statement['property_land'] + financial_statement['property_buildings'] - \\\n",
    "                        sum(financial_statement['accumulated_depreciation'])  + financial_statement['equipment']\n",
    "    print(\"Non Current assets = ${:,}\".format(noncurr_assets))\n",
    "    # return noncurr_assets\n",
    "    \n",
    "\n",
    "        \n",
    "\n",
    "    # def current_liabilities( financial_statement ):\n",
    "    curr_liab = (financial_statement['accounts_payable'] + financial_statement['salaries_payable'] + \\\n",
    "            financial_statement['income_tax_payable'] + financial_statement['interest_payable'] + \\\n",
    "            financial_statement['unearned_revenue']  + financial_statement['current_portion_loan_payable'] + \\\n",
    "            financial_statement['current_portion_mortage_payable']\n",
    "            )\n",
    "        \n",
    "    print(\"Current liabilities = ${:,}\".format(curr_liab))\n",
    "        # return curr_liab\n",
    "    \n",
    "\n",
    "\n",
    "        \n",
    "\n",
    "    # def noncurrent_liabilities( financial_statement ):\n",
    "    ncl_1 = financial_statement['bank_loan_payable'] - financial_statement['current_portion_loan_payable']\n",
    "    ncl_2 = financial_statement['mortgage_payable'] - financial_statement['current_portion_mortage_payable']\n",
    "    noncurr_liab = ncl_1 + ncl_2\n",
    "        \n",
    "    print(\"Non-current liabilities = ${:,}\".format(noncurr_liab))\n",
    "    # return noncurr_liab\n",
    "    \n",
    "\n",
    "\n",
    "        \n",
    "\n",
    "    # def shareholders_equity( financial_statement ):\n",
    "    share_equity = financial_statement['common_shares'] + financial_statement['retained_earnings']\n",
    "        \n",
    "    print(\"Shareholders equity = ${:,}\".format(share_equity))\n",
    "    # return share_equity\n",
    "\n",
    "\n",
    "\n",
    "    # def balanced(curr_assets , noncurr_assets , curr_liab, noncurr_liab ,share_equity): # \n",
    "    balance1 = curr_assets + noncurr_assets  \n",
    "    balance2 =  noncurr_liab + share_equity + curr_liab \n",
    "    print(\"... balance = ${:,} == ${:,}\".format(balance1, balance2))\n",
    "\n",
    "\n",
    "    print(\"======================================\")\n",
    "\n",
    "#===================================== \n",
    "\n",
    "\n",
    "\n",
    "\n",
    "\n",
    "def working_capital(current_assets: float, current_liabilities: float):\n",
    "    work_cap = current_assets - current_liabilities\n",
    "    # return work_cap\n",
    "    print(\"Working capital = ${:.2f}\".format(work_cap))\n",
    "\n",
    "\n",
    "\n",
    "def current_ratio(current_assets: float, current_liabilities: float):\n",
    "    liquid_ratio = current_assets / current_liabilities\n",
    "    return liquid_ratio\n",
    "    print(\"Current (liquidity) ratio = {:.2f} : 1\".format(liquid_ratio))\n",
    "  \n",
    "\n",
    "\n",
    "def debt_to_total_assets(total_liabilities: float, total_assets: float):\n",
    "    debt_tot_assets = total_liabilities / total_assets\n",
    "    return debt_tot_assets\n",
    "    print(\"Debt to total assets = {:.2f}%\".format(debt_tot_assets))\n",
    "    \n",
    "\n",
    "def earnings_per_share(net_income: float, avg_num_shares: int):\n",
    "    \"\"\" weighted average number of common shares \"\"\"\n",
    "    eps = net_income / avg_num_shares\n",
    "    return eps\n",
    "    print(\"Basic earnings per share = ${:.2f}\".format(eps))\n",
    "\n",
    "\n",
    "\n",
    "\n"
   ]
  },
  {
   "cell_type": "code",
   "execution_count": 81,
   "metadata": {},
   "outputs": [],
   "source": [
    "financial_statement['accounts_payable'] = 24_000\n",
    "financial_statement['accounts_receivable'] = 15_000\n",
    "financial_statement['accumulated_depreciation'] = [40_000, 58_000]\n",
    "financial_statement['bank_loan_payable'] = 80_000\n",
    "financial_statement['current_portion_loan_payable'] = 5_000\n",
    "financial_statement['property_buildings'] = 200_000\n",
    "financial_statement['cash'] = 10_000\n",
    "financial_statement['common_shares'] = 60_000\n",
    "financial_statement['equipment'] = 147_000\n",
    "financial_statement['income_tax_payable'] = 5_000\n",
    "financial_statement['interest_payable'] = 500\n",
    "financial_statement['inventory'] = 78_500\n",
    "financial_statement['property_land'] = 50_000\n",
    "financial_statement['mortgage_payable'] = 150_000\n",
    "financial_statement['current_portion_mortage_payable'] = 7_500\n",
    "financial_statement['retained_earnings'] = 74_000\n",
    "financial_statement['salaries_payable'] = 8_000\n",
    "financial_statement['supplies'] = 1_000\n",
    "financial_statement['unearned_revenue'] = 2_000"
   ]
  },
  {
   "cell_type": "code",
   "execution_count": 82,
   "metadata": {},
   "outputs": [
    {
     "name": "stdout",
     "output_type": "stream",
     "text": [
      "\n",
      "============ BALANCE SHEET ===========\n",
      "Current assets = $104,500\n",
      "Non Current assets = $299,000\n",
      "Current liabilities = $52,000\n",
      "Non-current liabilities = $217,500\n",
      "Shareholders equity = $134,000\n",
      "... balance = $403,500 == $403,500\n",
      "======================================\n"
     ]
    }
   ],
   "source": [
    "# current_assets(financial_statement= financial_statement)\n",
    "# noncurrent_assets(financial_statement )\n",
    "# current_liabilities( financial_statement )\n",
    "# noncurrent_liabilities( financial_statement )\n",
    "# shareholders_equity( financial_statement )\n",
    "\n",
    "\n",
    "finance_position( financial_statement )\n",
    "\n",
    "\n"
   ]
  },
  {
   "cell_type": "code",
   "execution_count": null,
   "metadata": {},
   "outputs": [],
   "source": []
  },
  {
   "cell_type": "code",
   "execution_count": 23,
   "metadata": {},
   "outputs": [
    {
     "data": {
      "text/plain": [
       "12"
      ]
     },
     "execution_count": 23,
     "metadata": {},
     "output_type": "execute_result"
    }
   ],
   "source": [
    "\n",
    "sum(a)"
   ]
  },
  {
   "cell_type": "code",
   "execution_count": null,
   "metadata": {},
   "outputs": [],
   "source": []
  }
 ],
 "metadata": {
  "kernelspec": {
   "display_name": "Python 3.10.7 64-bit",
   "language": "python",
   "name": "python3"
  },
  "language_info": {
   "codemirror_mode": {
    "name": "ipython",
    "version": 3
   },
   "file_extension": ".py",
   "mimetype": "text/x-python",
   "name": "python",
   "nbconvert_exporter": "python",
   "pygments_lexer": "ipython3",
   "version": "3.10.7"
  },
  "orig_nbformat": 4,
  "vscode": {
   "interpreter": {
    "hash": "aee8b7b246df8f9039afb4144a1f6fd8d2ca17a180786b69acc140d282b71a49"
   }
  }
 },
 "nbformat": 4,
 "nbformat_minor": 2
}
