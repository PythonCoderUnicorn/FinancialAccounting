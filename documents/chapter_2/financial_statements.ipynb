{
 "cells": [
  {
   "cell_type": "markdown",
   "metadata": {},
   "source": [
    "# Financial Accounting \n",
    "\n",
    "Chapter 2 - Financial Statements"
   ]
  },
  {
   "cell_type": "markdown",
   "metadata": {},
   "source": [
    "#### Assets\n",
    "\n",
    "Current\n",
    "\n",
    "- cash\n",
    "- held for trading investments\n",
    "- accounts receivable\n",
    "- note receivable\n",
    "- inventory \n",
    "- supplies\n",
    "- prepaid expenses\n",
    "\n",
    "Non-current assets\n",
    "\n",
    "- long term investments\n",
    "- property, plant, equipment\n",
    "- intangible assets\n",
    "- goodwill\n",
    "\n",
    "#### Liabilities & Shareholders' Equity\n",
    "\n",
    "- bank indebtness\n",
    "- accounts payable\n",
    "- unearned revenue\n",
    "- notes payable\n",
    "- current maturities of long term debt\n",
    "- bank loan payable\n",
    "- shareholder equity (share capital)\n",
    "- retained earnings\n"
   ]
  },
  {
   "cell_type": "code",
   "execution_count": null,
   "metadata": {},
   "outputs": [],
   "source": []
  }
 ],
 "metadata": {
  "language_info": {
   "name": "python"
  },
  "orig_nbformat": 4
 },
 "nbformat": 4,
 "nbformat_minor": 2
}
