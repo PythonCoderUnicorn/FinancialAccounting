{
 "cells": [
  {
   "cell_type": "markdown",
   "metadata": {},
   "source": [
    "# Financial Accounting \n",
    "\n",
    "Financial Statements"
   ]
  },
  {
   "cell_type": "markdown",
   "metadata": {},
   "source": [
    "#### Assets\n",
    "\n",
    "Current\n",
    "\n",
    "- cash\n",
    "- held for trading investments\n",
    "- accounts receivable\n",
    "- note receivable\n",
    "- inventory \n",
    "- supplies\n",
    "- prepaid expenses\n",
    "\n",
    "Non-current assets\n",
    "\n",
    "- long term investments\n",
    "- property, plant, equipment\n",
    "- intangible assets\n",
    "- goodwill\n",
    "\n",
    "#### Liabilities & Shareholders' Equity\n",
    "\n",
    "- bank indebtness\n",
    "- accounts payable\n",
    "- unearned revenue\n",
    "- notes payable\n",
    "- current maturities of long term debt\n",
    "- bank loan payable\n",
    "- shareholder equity (share capital)\n",
    "- retained earnings\n"
   ]
  },
  {
   "cell_type": "code",
   "execution_count": 2,
   "metadata": {},
   "outputs": [],
   "source": [
    "# -- financial statement template/ skeleton\n",
    "\n",
    "financial_statement = {\n",
    "    # -- current assets\n",
    "    'cash' : 0,\n",
    "    'held_for_trading_investments': 0,\n",
    "    'accounts_receivable' : 0,\n",
    "    'inventory' : 0,\n",
    "    'supplies' : 0,\n",
    "    'prepaid_expense' : 0,   \n",
    "    # --- PPE\n",
    "    'long_term_investments' : 0,\n",
    "    'property_land' : 0,\n",
    "    'property_buildings' : 0,\n",
    "    'equipment' : 0,\n",
    "    # -- acquisition\n",
    "    'goodwill' : 0,\n",
    "    # --- liabilities\n",
    "    'accounts_payable' : 0,\n",
    "    'salaries_payable' : 0,\n",
    "    'interest_payable' : 0,\n",
    "    'unearned_revenue' : 0,\n",
    "    'bank_loan_payable' : 0,\n",
    "    'current_portion_mortage_payable': 0,\n",
    "    'mortgage_payable' : 0,\n",
    "    # --- shareholder equity\n",
    "    'common_shares' : 0,\n",
    "    'retained_earnings' : 0\n",
    "}"
   ]
  },
  {
   "cell_type": "markdown",
   "metadata": {},
   "source": [
    "the dictionary above looks crazy but it is 1 way to add custom keys and values\n",
    "\n",
    "- flexible data object\n",
    "- can use the dictionary repeatedly \n",
    "- easily just get the value by calling the `.values()` of the dictionary\n",
    "  \n",
    "regardless of where that key is in the dictionary it will be found and used."
   ]
  },
  {
   "cell_type": "markdown",
   "metadata": {},
   "source": [
    "below is an example of how one can use a data dictionary to initially set up once and then \n",
    "change the values for each balance sheet or income statement. \n",
    "\n",
    "- any keys or values not used will be ignored by the function, as the dictionary template above has default values of 0"
   ]
  },
  {
   "cell_type": "code",
   "execution_count": 4,
   "metadata": {},
   "outputs": [],
   "source": [
    "# selective input of a dictionary\n",
    "\n",
    "# dictionary_name['key_name'] = assigned_value\n",
    "\n",
    "financial_statement['accounts_payable'] = 24_000 \n",
    "financial_statement['accounts_receivable'] = 15_000\n",
    "financial_statement['accumulated_depreciation'] = [40_000, 58_000]\n",
    "financial_statement['bank_loan_payable'] = 80_000\n",
    "financial_statement['current_portion_loan_payable'] = 5_000\n",
    "financial_statement['property_buildings'] = 200_000\n",
    "financial_statement['cash'] = 10_000\n",
    "financial_statement['common_shares'] = 60_000\n",
    "financial_statement['equipment'] = 147_000\n",
    "financial_statement['income_tax_payable'] = 5_000\n",
    "financial_statement['interest_payable'] = 500\n",
    "financial_statement['inventory'] = 78_500\n",
    "financial_statement['property_land'] = 50_000\n",
    "financial_statement['mortgage_payable'] = 150_000\n",
    "financial_statement['current_portion_mortage_payable'] = 7_500\n",
    "financial_statement['retained_earnings'] = 74_000\n",
    "financial_statement['salaries_payable'] = 8_000\n",
    "financial_statement['supplies'] = 1_000\n",
    "financial_statement['unearned_revenue'] = 2_000\n",
    "\n",
    "# -- income statement\n",
    "financial_statement['revenue'] = 12_279.6\n",
    "financial_statement['expenses'] = 11_278.3\n",
    "\n",
    "\n",
    "financial_statement['non_current_assets'] = 4_321_602,\n",
    "financial_statement['current_assets'] = 29_301,\n",
    "financial_statement['non_current_liabilities'] = 1_892_350,\n",
    "financial_statement['current_liabilities'] = 245_190,\n",
    "financial_statement['shareholders_equity'] = 2_213_363"
   ]
  },
  {
   "cell_type": "code",
   "execution_count": null,
   "metadata": {},
   "outputs": [],
   "source": []
  },
  {
   "cell_type": "markdown",
   "metadata": {},
   "source": []
  },
  {
   "cell_type": "code",
   "execution_count": null,
   "metadata": {},
   "outputs": [],
   "source": []
  },
  {
   "cell_type": "code",
   "execution_count": null,
   "metadata": {},
   "outputs": [],
   "source": []
  },
  {
   "cell_type": "code",
   "execution_count": null,
   "metadata": {},
   "outputs": [],
   "source": []
  },
  {
   "cell_type": "markdown",
   "metadata": {},
   "source": [
    "## Accounting Formulas\n"
   ]
  },
  {
   "cell_type": "code",
   "execution_count": 5,
   "metadata": {},
   "outputs": [
    {
     "name": "stdout",
     "output_type": "stream",
     "text": [
      "\n",
      "============ BALANCE SHEET ===========\n",
      "Current assets = $104,500\n",
      "Non Current assets = $299,000\n",
      "Current liabilities = $52,000\n",
      "Non-current liabilities = $217,500\n",
      "Shareholders equity = $134,000\n",
      "... balance = $403,500 == $403,500\n",
      "\n",
      "\n",
      "Working capital = $52,500\n",
      "Current (liquidity) ratio = 2.01 : 1\n",
      "Debt to total assets = 66.79%\n",
      "Net income = $1001.30\n",
      "======================================\n"
     ]
    }
   ],
   "source": [
    "def finance_position( financial_statement ):\n",
    "\n",
    "    print(\"\\n============ BALANCE SHEET ===========\")\n",
    "\n",
    "    # ------- current_assets\n",
    "    curr_assets = financial_statement['cash'] + financial_statement['accounts_receivable'] \\\n",
    "                    + financial_statement['supplies'] + financial_statement['inventory']\n",
    "                    \n",
    "    print(\"Current assets = ${:,}\".format(curr_assets))\n",
    "\n",
    "        \n",
    "\n",
    "    # ------ noncurrent_assets\n",
    "    noncurr_assets = financial_statement['property_land'] + financial_statement['property_buildings'] - \\\n",
    "                        sum(financial_statement['accumulated_depreciation'])  \\\n",
    "                        + financial_statement['equipment']\n",
    "    print(\"Non Current assets = ${:,}\".format(noncurr_assets))\n",
    "    \n",
    "\n",
    "        \n",
    "\n",
    "    # --- current_liabilities \n",
    "    curr_liab = (financial_statement['accounts_payable'] + financial_statement['salaries_payable'] + \\\n",
    "            financial_statement['income_tax_payable'] + financial_statement['interest_payable'] + \\\n",
    "            financial_statement['unearned_revenue']  + financial_statement['current_portion_loan_payable'] + \\\n",
    "            financial_statement['current_portion_mortage_payable']\n",
    "            )\n",
    "    print(\"Current liabilities = ${:,}\".format(curr_liab))\n",
    "   \n",
    "    \n",
    "    # --- noncurrent_liabilities\n",
    "    ncl_1 = financial_statement['bank_loan_payable'] - financial_statement['current_portion_loan_payable']\n",
    "    ncl_2 = financial_statement['mortgage_payable'] - financial_statement['current_portion_mortage_payable']\n",
    "    noncurr_liab = ncl_1 + ncl_2\n",
    "    print(\"Non-current liabilities = ${:,}\".format(noncurr_liab))\n",
    "\n",
    "    \n",
    "    # --- share equity\n",
    "    share_equity = financial_statement['common_shares'] + financial_statement['retained_earnings']\n",
    "    print(\"Shareholders equity = ${:,}\".format(share_equity))\n",
    "\n",
    "\n",
    "    # --- check if balance sheet is balanced\n",
    "    balance1 = curr_assets + noncurr_assets  \n",
    "    balance2 =  noncurr_liab + share_equity + curr_liab \n",
    "    print(\"... balance = ${:,} == ${:,}\".format(balance1, balance2))\n",
    "\n",
    "\n",
    "    print(\"\\n\")\n",
    "    # ---- working capital\n",
    "    work_cap = curr_assets -  curr_liab\n",
    "    print(\"Working capital = ${:,}\".format(work_cap))\n",
    "\n",
    "\n",
    "    # \n",
    "    # --- current ratio\n",
    "    liquid_ratio = curr_assets / curr_liab\n",
    "    print(\"Current (liquidity) ratio = {:.2f} : 1\".format(liquid_ratio))\n",
    "    \n",
    "\n",
    "    # --- debt to total assets\n",
    "    total_liabilities = curr_liab + noncurr_liab\n",
    "    total_assets = curr_assets + noncurr_assets\n",
    "    debt_tot_assets = total_liabilities / total_assets\n",
    "    print(\"Debt to total assets = {:.2f}%\".format(debt_tot_assets * 100))\n",
    "\n",
    "\n",
    "\n",
    "    # --- net income       bottom line\n",
    "    net_ = financial_statement['revenue'] - financial_statement['expenses']\n",
    "    print(\"Net income = ${:.2f}\".format(net_))\n",
    "\n",
    "    print(\"======================================\")\n",
    "\n",
    "\n",
    "#===================================== \n",
    "finance_position( financial_statement )\n"
   ]
  },
  {
   "cell_type": "code",
   "execution_count": null,
   "metadata": {},
   "outputs": [],
   "source": []
  },
  {
   "cell_type": "code",
   "execution_count": null,
   "metadata": {},
   "outputs": [],
   "source": []
  },
  {
   "cell_type": "code",
   "execution_count": null,
   "metadata": {},
   "outputs": [],
   "source": []
  },
  {
   "cell_type": "markdown",
   "metadata": {},
   "source": [
    "Company external data \n",
    "\n",
    "- weighted average number of shares was 76.2 million in year 2015 and 79 million in 2016\n",
    "- share price was `$223.22` January 3, 2015 and `$199.36` on January 2, 2016 and $223.22"
   ]
  },
  {
   "cell_type": "code",
   "execution_count": null,
   "metadata": {},
   "outputs": [],
   "source": []
  },
  {
   "cell_type": "code",
   "execution_count": null,
   "metadata": {},
   "outputs": [],
   "source": []
  },
  {
   "cell_type": "code",
   "execution_count": null,
   "metadata": {},
   "outputs": [],
   "source": []
  },
  {
   "cell_type": "code",
   "execution_count": 1,
   "metadata": {},
   "outputs": [
    {
     "name": "stdout",
     "output_type": "stream",
     "text": [
      "Basic earnings per share = $9.66\n",
      "Price-Earnings ratio = 20.64\n"
     ]
    }
   ],
   "source": [
    "# ---- basic earnings per share  ** NEED FOR PRICE EARNINGS RATIO **\n",
    "\n",
    "def earnings_per_share( net_income, avg_num_shares ):\n",
    "   \"\"\" weighted average number of common shares \"\"\"\n",
    "   eps = net_income / avg_num_shares\n",
    "   print(\"Basic earnings per share = ${:.2f}\".format(eps))\n",
    " \n",
    " \n",
    "# -- price earning ratio\n",
    " \n",
    "def price_earnings_ratio( market_price_per_share, earnings_per_share ):\n",
    "   PER = market_price_per_share / earnings_per_share\n",
    "   print(\"Price-Earnings ratio = {:.2f}\".format(PER))\n",
    " \n",
    "# ----------\n",
    "earnings_per_share(net_income = 735.9, avg_num_shares= 76.2)\n",
    " \n",
    "price_earnings_ratio(market_price_per_share = 199.36, earnings_per_share= 9.66)\n",
    "\n",
    "\n",
    "\n",
    "\n"
   ]
  },
  {
   "cell_type": "code",
   "execution_count": null,
   "metadata": {},
   "outputs": [],
   "source": []
  },
  {
   "cell_type": "code",
   "execution_count": null,
   "metadata": {},
   "outputs": [],
   "source": []
  },
  {
   "cell_type": "code",
   "execution_count": null,
   "metadata": {},
   "outputs": [],
   "source": []
  },
  {
   "cell_type": "markdown",
   "metadata": {},
   "source": [
    "Functions to calculate earnings per share and price earnings ratio\n",
    "\n"
   ]
  },
  {
   "cell_type": "code",
   "execution_count": 2,
   "metadata": {},
   "outputs": [],
   "source": [
    "def earnings_per_share( net_income: float, avg_num_shares: float):\n",
    "    eps = net_income / avg_num_shares\n",
    "    print(\"Basic earnings per share = ${:.2f}\".format(eps))\n",
    "\n",
    "def price_earnings_ratio( market_price_per_share: float, earnings_per_share: float):\n",
    "    PER = market_price_per_share / earnings_per_share\n",
    "    print(\"Price earnings ratio = {:.2f}\".format( PER))\n",
    "\n"
   ]
  },
  {
   "cell_type": "code",
   "execution_count": 3,
   "metadata": {},
   "outputs": [
    {
     "name": "stdout",
     "output_type": "stream",
     "text": [
      "Basic earnings per share = $9.66\n"
     ]
    }
   ],
   "source": [
    "# call functions\n",
    "earnings_per_share(net_income= 735.9, avg_num_shares= 76.2)"
   ]
  },
  {
   "cell_type": "code",
   "execution_count": 4,
   "metadata": {},
   "outputs": [
    {
     "name": "stdout",
     "output_type": "stream",
     "text": [
      "Price earnings ratio = 20.64\n"
     ]
    }
   ],
   "source": [
    "price_earnings_ratio(market_price_per_share= 199.36, earnings_per_share= 9.66)\n"
   ]
  },
  {
   "cell_type": "code",
   "execution_count": null,
   "metadata": {},
   "outputs": [],
   "source": []
  }
 ],
 "metadata": {
  "kernelspec": {
   "display_name": "Python 3.10.7 64-bit",
   "language": "python",
   "name": "python3"
  },
  "language_info": {
   "codemirror_mode": {
    "name": "ipython",
    "version": 3
   },
   "file_extension": ".py",
   "mimetype": "text/x-python",
   "name": "python",
   "nbconvert_exporter": "python",
   "pygments_lexer": "ipython3",
   "version": "3.11.0"
  },
  "orig_nbformat": 4,
  "vscode": {
   "interpreter": {
    "hash": "aee8b7b246df8f9039afb4144a1f6fd8d2ca17a180786b69acc140d282b71a49"
   }
  }
 },
 "nbformat": 4,
 "nbformat_minor": 2
}
