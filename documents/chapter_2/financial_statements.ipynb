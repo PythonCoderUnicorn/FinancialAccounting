{
 "cells": [
  {
   "cell_type": "markdown",
   "metadata": {},
   "source": [
    "# Financial Accounting \n",
    "\n",
    "Chapter 2 - Financial Statements"
   ]
  },
  {
   "cell_type": "markdown",
   "metadata": {},
   "source": [
    "#### Assets\n",
    "\n",
    "Current\n",
    "\n",
    "- cash\n",
    "- held for trading investments\n",
    "- accounts receivable\n",
    "- note receivable\n",
    "- inventory \n",
    "- supplies\n",
    "- prepaid expenses\n",
    "\n",
    "Non-current assets\n",
    "\n",
    "- long term investments\n",
    "- property, plant, equipment\n",
    "- intangible assets\n",
    "- goodwill\n",
    "\n",
    "#### Liabilities & Shareholders' Equity\n",
    "\n",
    "- bank indebtness\n",
    "- accounts payable\n",
    "- unearned revenue\n",
    "- notes payable\n",
    "- current maturities of long term debt\n",
    "- bank loan payable\n",
    "- shareholder equity (share capital)\n",
    "- retained earnings\n"
   ]
  },
  {
   "cell_type": "code",
   "execution_count": 1,
   "metadata": {},
   "outputs": [],
   "source": [
    "# -- comprehensive financial statement\n",
    "financial_statement = {\n",
    "    # -- current assets\n",
    "    'cash' : 6_600,\n",
    "    'held_for_trading_investments': 2_000,\n",
    "    'accounts_receivable' : 7_000,\n",
    "    'inventory' : 4_000,\n",
    "    'supplies' : 2_100,\n",
    "    'prepaid_expense' : 400,\n",
    "    'long_term_investments' : 7_200,\n",
    "    # --- PPE\n",
    "    'property_land' : 40_000,\n",
    "    'property_buildings' : 200_000,\n",
    "    'equipment' : 147_000,\n",
    "    # -- acquisition\n",
    "    'goodwill' : 0,\n",
    "    # --- liabilities\n",
    "    'accounts_payable' : 2_100,\n",
    "    'salaries_payable' : 1_600,\n",
    "    'interest_payable' : 450,\n",
    "    'unearned_revenue' : 900,\n",
    "    'bank_loan_payable' : 11_000,\n",
    "    'current_portion_mortage_payable': 1_000,\n",
    "    'mortgage_payable' : 10_300,\n",
    "    # --- shareholder equity\n",
    "    'common_shares' : 74_000,\n",
    "    'retained_earnings' : 50_050\n",
    "}"
   ]
  },
  {
   "cell_type": "markdown",
   "metadata": {},
   "source": [
    "## Accounting Formulas\n"
   ]
  },
  {
   "cell_type": "code",
   "execution_count": 4,
   "metadata": {},
   "outputs": [],
   "source": [
    "def net_income(revenue: float, expenses: float):\n",
    "    net_ = revenue - expenses\n",
    "    return net_\n",
    "    print(\"Net income = ${:.2f}\".format(net_))\n",
    "\n",
    "\n",
    "def working_capital(current_assets: float, current_liabilities: float):\n",
    "    work_cap = current_assets - current_liabilities\n",
    "    return work_cap\n",
    "    print(\"Working capital = ${:.2f}\".format(work_cap))\n",
    "\n",
    "def current_ratio(current_assets: float, current_liabilities: float):\n",
    "    liquid_ratio = current_assets / current_liabilities\n",
    "    return liquid_ratio\n",
    "    print(\"Current (liquidity) ratio = {:.2f} : 1\".format(liquid_ratio))\n",
    "\n",
    "\n",
    "\n"
   ]
  },
  {
   "cell_type": "code",
   "execution_count": null,
   "metadata": {},
   "outputs": [],
   "source": []
  }
 ],
 "metadata": {
  "kernelspec": {
   "display_name": "Python 3.10.7 64-bit",
   "language": "python",
   "name": "python3"
  },
  "language_info": {
   "codemirror_mode": {
    "name": "ipython",
    "version": 3
   },
   "file_extension": ".py",
   "mimetype": "text/x-python",
   "name": "python",
   "nbconvert_exporter": "python",
   "pygments_lexer": "ipython3",
   "version": "3.10.7"
  },
  "orig_nbformat": 4,
  "vscode": {
   "interpreter": {
    "hash": "aee8b7b246df8f9039afb4144a1f6fd8d2ca17a180786b69acc140d282b71a49"
   }
  }
 },
 "nbformat": 4,
 "nbformat_minor": 2
}
