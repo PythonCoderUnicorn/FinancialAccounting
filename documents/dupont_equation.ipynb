{
 "cells": [
  {
   "cell_type": "markdown",
   "metadata": {},
   "source": [
    "# Dupont Equation"
   ]
  },
  {
   "cell_type": "code",
   "execution_count": 77,
   "metadata": {},
   "outputs": [],
   "source": [
    "assets = {\n",
    "    'net_income': 185,\n",
    "    'net_sales': 2628,\n",
    "    'beginning_assets': 5954,\n",
    "    'ending_assets': 4601,\n",
    "    'ending_equity': 1105\n",
    "}\n",
    "\n",
    "answers = []"
   ]
  },
  {
   "cell_type": "code",
   "execution_count": 90,
   "metadata": {},
   "outputs": [],
   "source": [
    "def profit_margin(dict_):\n",
    "    assets_list = list(dict_.values())\n",
    "\n",
    "    profit_margin = assets_list[0] / assets_list[1]\n",
    "    answers.append(profit_margin)\n",
    "    print(\"Profit margin = $ {:,.2f}\".format(profit_margin))"
   ]
  },
  {
   "cell_type": "code",
   "execution_count": 79,
   "metadata": {},
   "outputs": [
    {
     "name": "stdout",
     "output_type": "stream",
     "text": [
      "Profit margin = $ 0.07\n"
     ]
    }
   ],
   "source": [
    "profit_margin(assets)"
   ]
  },
  {
   "cell_type": "code",
   "execution_count": 80,
   "metadata": {},
   "outputs": [],
   "source": [
    "def avg_total_assets( dict_):\n",
    "    assets_list = list(dict_.values())\n",
    "\n",
    "    avg_tot_assets = (assets_list[2] + assets_list[3] ) / 2\n",
    "    answers.append(avg_tot_assets)\n",
    "    print(\"Average total assets = $ {:.2f}\".format(avg_tot_assets))"
   ]
  },
  {
   "cell_type": "code",
   "execution_count": 81,
   "metadata": {},
   "outputs": [
    {
     "name": "stdout",
     "output_type": "stream",
     "text": [
      "Average total assets = $ 5277.50\n"
     ]
    }
   ],
   "source": [
    "avg_total_assets(assets)"
   ]
  },
  {
   "cell_type": "code",
   "execution_count": 82,
   "metadata": {},
   "outputs": [],
   "source": [
    "def asset_turnover( dict_):\n",
    "    assets_list = list(dict_.values())\n",
    "\n",
    "    avg_tot_assets = (assets_list[2] + assets_list[3] ) / 2\n",
    "\n",
    "    turnover = assets_list[1] / avg_tot_assets\n",
    "\n",
    "    answers.append(turnover)\n",
    "    \n",
    "    print(\"The assest turnover = $ {:.2f}\".format(turnover))"
   ]
  },
  {
   "cell_type": "code",
   "execution_count": 83,
   "metadata": {},
   "outputs": [
    {
     "name": "stdout",
     "output_type": "stream",
     "text": [
      "The assest turnover = $ 0.50\n"
     ]
    }
   ],
   "source": [
    "asset_turnover(assets)"
   ]
  },
  {
   "cell_type": "code",
   "execution_count": 84,
   "metadata": {},
   "outputs": [],
   "source": [
    "def financial_leverage( dict_):\n",
    "    assets_list = list(dict_.values())\n",
    "\n",
    "    fin_lev = assets_list[3] / assets_list[4]\n",
    "\n",
    "    answers.append(fin_lev)\n",
    "    print(\"Financial leverage = $ {:.2f}\".format(fin_lev))"
   ]
  },
  {
   "cell_type": "code",
   "execution_count": 85,
   "metadata": {},
   "outputs": [
    {
     "name": "stdout",
     "output_type": "stream",
     "text": [
      "Financial leverage = $ 4.16\n"
     ]
    }
   ],
   "source": [
    "financial_leverage(assets)"
   ]
  },
  {
   "cell_type": "code",
   "execution_count": 87,
   "metadata": {},
   "outputs": [
    {
     "name": "stdout",
     "output_type": "stream",
     "text": [
      "[0.07039573820395738, 5277.5, 0.49796305068687824, 4.163800904977376]\n"
     ]
    }
   ],
   "source": [
    "\n",
    "print(answers)\n",
    "\n",
    "def return_on_equity(answers):\n",
    "    roe = answers[0] * answers[2] * answers[3]\n",
    "    print(\"Return on equity = $ {:.2f}\".format(roe))\n",
    "\n",
    "\n"
   ]
  },
  {
   "cell_type": "code",
   "execution_count": 89,
   "metadata": {},
   "outputs": [
    {
     "name": "stdout",
     "output_type": "stream",
     "text": [
      "Return on equity = $ 0.15\n"
     ]
    }
   ],
   "source": [
    "return_on_equity(answers)\n"
   ]
  },
  {
   "cell_type": "code",
   "execution_count": 119,
   "metadata": {},
   "outputs": [],
   "source": [
    "class Dupont_equation:\n",
    "    def __init__(self, dict_, list_) -> None:\n",
    "        self.dict_ = dict_ \n",
    "        self.list_ = list_ \n",
    "    \n",
    "    def profit_margin(self,dict_):\n",
    "        assets_list = list(self.dict_.values())\n",
    "\n",
    "        profit_margin = assets_list[0] / assets_list[1]\n",
    "        answers.append(profit_margin)\n",
    "        print(\"Profit margin = $ {:,.2f}\".format(profit_margin))\n",
    "\n",
    "\n",
    "    def avg_total_assets( self, dict_):\n",
    "        assets_list = list(self.dict_.values())\n",
    "\n",
    "        avg_tot_assets = (assets_list[2] + assets_list[3] ) / 2\n",
    "        answers.append(avg_tot_assets)\n",
    "        print(\"Average total assets = $ {:.2f}\".format(avg_tot_assets))\n",
    "\n",
    "\n",
    "    def asset_turnover( self, dict_):\n",
    "        assets_list = list(self.dict_.values())\n",
    "\n",
    "        avg_tot_assets = (assets_list[2] + assets_list[3] ) / 2\n",
    "\n",
    "        turnover = assets_list[1] / avg_tot_assets\n",
    "\n",
    "        answers.append(turnover)\n",
    "        \n",
    "        print(\"The asset turnover = $ {:.2f}\".format(turnover))\n",
    "\n",
    "\n",
    "    def financial_leverage( self,dict_ ):\n",
    "        assets_list = list(self.dict_.values())\n",
    "\n",
    "        fin_lev = assets_list[3] / assets_list[4]\n",
    "\n",
    "        answers.append(fin_lev)\n",
    "        print(\"Financial leverage = $ {:.2f}\".format(fin_lev))\n",
    "\n",
    "\n",
    "    def return_on_equity(self):\n",
    "        roe = answers[0] * answers[2] * answers[3]\n",
    "        print(\"Return on equity = {:.2f}%\".format(roe * 100))\n",
    "\n",
    " \n",
    "        "
   ]
  },
  {
   "cell_type": "code",
   "execution_count": 120,
   "metadata": {},
   "outputs": [
    {
     "name": "stdout",
     "output_type": "stream",
     "text": [
      "Return on equity = 14.60%\n"
     ]
    }
   ],
   "source": [
    "du = Dupont_equation(assets, answers)\n",
    "\n",
    "du.return_on_equity()"
   ]
  },
  {
   "cell_type": "code",
   "execution_count": 116,
   "metadata": {},
   "outputs": [
    {
     "name": "stdout",
     "output_type": "stream",
     "text": [
      "Financial leverage = $ 4.16\n",
      "The asset turnover = $ 0.50\n"
     ]
    }
   ],
   "source": [
    "du.financial_leverage(assets)\n",
    "du.asset_turnover(assets)"
   ]
  },
  {
   "cell_type": "code",
   "execution_count": null,
   "metadata": {},
   "outputs": [],
   "source": []
  },
  {
   "cell_type": "code",
   "execution_count": null,
   "metadata": {},
   "outputs": [],
   "source": []
  },
  {
   "cell_type": "code",
   "execution_count": null,
   "metadata": {},
   "outputs": [],
   "source": []
  },
  {
   "cell_type": "code",
   "execution_count": 48,
   "metadata": {},
   "outputs": [
    {
     "name": "stdout",
     "output_type": "stream",
     "text": [
      "14\n",
      " hi() calls func() : None\n"
     ]
    }
   ],
   "source": [
    "# https://www.geeksforgeeks.org/passing-function-as-an-argument-in-python/\n",
    "\n",
    "def add(num, num2):\n",
    "    print( num + num2)\n",
    "\n",
    "def hi(func):\n",
    "    w = 6\n",
    "    k = 8\n",
    "    x = func(w,k)\n",
    "    print(f\" hi() calls func() : {x}\")\n",
    "\n",
    "hi(add)"
   ]
  },
  {
   "cell_type": "code",
   "execution_count": null,
   "metadata": {},
   "outputs": [],
   "source": []
  }
 ],
 "metadata": {
  "kernelspec": {
   "display_name": "Python 3.10.7 64-bit",
   "language": "python",
   "name": "python3"
  },
  "language_info": {
   "codemirror_mode": {
    "name": "ipython",
    "version": 3
   },
   "file_extension": ".py",
   "mimetype": "text/x-python",
   "name": "python",
   "nbconvert_exporter": "python",
   "pygments_lexer": "ipython3",
   "version": "3.10.7"
  },
  "orig_nbformat": 4,
  "vscode": {
   "interpreter": {
    "hash": "aee8b7b246df8f9039afb4144a1f6fd8d2ca17a180786b69acc140d282b71a49"
   }
  }
 },
 "nbformat": 4,
 "nbformat_minor": 2
}
