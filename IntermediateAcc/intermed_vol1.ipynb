{
 "cells": [
  {
   "attachments": {},
   "cell_type": "markdown",
   "metadata": {},
   "source": [
    "# Intermediate Accounting - volume 1\n",
    "\n",
    "## Chapter 1 - Fundamentals of Financial Accounting Theory\n",
    "Accounting is about communicating information , financial reporting is the process by which enterprises provide info to external parties. managerial accounting involves reporting of taxable amounts to government revenue authorities\n",
    "\n",
    "information asymmetry = where some people have more information than others"
   ]
  },
  {
   "cell_type": "code",
   "execution_count": 2,
   "metadata": {},
   "outputs": [
    {
     "name": "stdout",
     "output_type": "stream",
     "text": [
      "Cars available ($4000): ['A', 'B', 'C', 'D', 'E', 'F', 'G', 'H', 'I'] \n",
      " >> Make a reasonable offer\n",
      " >> Make a reasonable offer\n",
      " >> Make a reasonable offer\n",
      " >> Make a reasonable offer\n",
      "Dealers from I accept your bid of $95000\n"
     ]
    }
   ],
   "source": [
    "# adverse selection \n",
    "\n",
    "# item you want to buy\n",
    "item = {\n",
    "    'type': 'car',\n",
    "    'brand': 'Honda Civic',\n",
    "    'kms': 150_000,\n",
    "    'budget_min': 2_000,\n",
    "    'budget_max': 4_000 \n",
    "}\n",
    "\n",
    "def car_market( dict ):\n",
    "    car_id = ['A','B','C','D','E','F','G','H','I']\n",
    "\n",
    "    if dict['budget_max'] <= 2000:\n",
    "        print(f\"Car available ($2000): {car_id[0]} \")\n",
    "\n",
    "    elif dict['budget_max'] <= 2500:\n",
    "        # car id A B C\n",
    "        print(f\"Cars available ($2000 - $2500): {car_id[0:3]} \")\n",
    "\n",
    "    elif dict['budget_max'] <= 3000:\n",
    "        # car id D E\n",
    "        print(f\"Cars available ($3000) : {car_id[0:5]} \")\n",
    "\n",
    "    elif dict['budget_max'] <= 3500:\n",
    "        # car id F G\n",
    "        print(f\"Cars available ($3500): {car_id[0:7]} \")\n",
    "\n",
    "    elif dict['budget_max'] <= 4000:\n",
    "        # car id H I\n",
    "        print(f\"Cars available ($4000): {car_id[0:9]} \")\n",
    "\n",
    "    def make_offer():\n",
    "        bid = int(input(\"Make a bid : $ \"))\n",
    "\n",
    "        if bid >= 2000 and bid < 2500:\n",
    "            print(f\"Dealers from {car_id[2:9]} reject your bid of ${bid}\")\n",
    "            print(f\"Dealers from {car_id[0:2]} accept your bid of ${bid}\")\n",
    "\n",
    "        elif bid >= 2500 and bid <= 3000:\n",
    "            print(f\"Dealers from {car_id[4:9]} reject your bid of ${bid}\")\n",
    "            print(f\"Dealers from {car_id[2:4]} accept your bid of ${bid}\")\n",
    "\n",
    "        elif bid >= 3000 and bid <= 3500:\n",
    "            print(f\"Dealers from {car_id[4:6]} accept your bid of ${bid}\")\n",
    "\n",
    "        elif bid >= 3500 and bid < 4000:\n",
    "            print(f\"Dealers from {car_id[6:8]} accept your bid of ${bid}\")\n",
    "            # print(f\"Dealers from {car_id[5:9]} reject your bid of ${bid}\")\n",
    "\n",
    "        elif bid >= 4000:\n",
    "            print(f\"Dealers from {car_id[8]} accept your bid of ${bid}\")\n",
    "        \n",
    "        \n",
    "        else:\n",
    "            print(\" >> Make a reasonable offer\")\n",
    "            return make_offer()\n",
    "\n",
    "    # -----\n",
    "    make_offer()\n",
    "\n",
    "\n",
    "\n",
    "# ---------\n",
    "car_market( item )"
   ]
  },
  {
   "attachments": {},
   "cell_type": "markdown",
   "metadata": {},
   "source": [
    "## Chapter 3 - Accrual Accounting\n",
    "types of cash cycles:\n",
    "\n",
    "- cash cycle = set of transactions that converts a cash inflow to a cash outflow\n",
    "- financing cash cycle = the reciept of funding from investors using those funds to generate returns from investments and operations, returning the funds to investors\n",
    "- investing cash cycle = the use of funds to purchase property that has long term future benefits for the enterprise, using that property to obtain economic benefits results in cash inflows and disposing the property\n",
    "- operating cash cycle = the purchas of items such as inventory production\n",
    "\n",
    "Accural Accounting = accounting that reflects economic events when they happen rather than only when cash exchanges occur. Both instances of records: 1) events before cash flows and 2) events after cash flows {deferrals}\n",
    "\n",
    "Cash Accounting = accounting that records only cash exchanges"
   ]
  },
  {
   "cell_type": "code",
   "execution_count": 3,
   "metadata": {},
   "outputs": [],
   "source": [
    "tailwinds_fin_report = [\n",
    "    {\n",
    "        'start_up_financing': 20e6,\n",
    "        'ship_cost_each': 5e6,\n",
    "        'voyages_per_ship': 10,\n",
    "        'operating_costs_per_ship': 1e6,\n",
    "        'returned_ship_goods': 5e6\n",
    "    },\n",
    "    {\n",
    "        'year': 1,\n",
    "        'number_of_ships': 3,\n",
    "        'inflow_sale_of_goods': 5e6,\n",
    "        'outflow_operating_costs' : -3e6, #  multiply by number of ships\n",
    "        'cashflow_from_operations': 2e6,\n",
    "        'cashflow_from_investing_acts': -15e6, # multiply by number of ships\n",
    "        'cashflow_from_financing_acts': 20e6,\n",
    "        'net_cashflow_for_year': 7e6,\n",
    "        'cash_at_beginning_of_year': 0,\n",
    "        'cash_at_end_of_year': 7e6\n",
    "    },\n",
    "        {\n",
    "        'year': 2,\n",
    "        'number_of_ships': 2,\n",
    "        'inflow_sale_of_goods': 5e6,\n",
    "        'outflow_operating_costs' : 2e6, #  multiply by number of ships\n",
    "        'cashflow_from_operations': 1e6,\n",
    "        'cashflow_from_investing_acts': 0, # multiply by number of ships\n",
    "        'cashflow_from_financing_acts': 0,\n",
    "        'net_cashflow_for_year': 3e6,\n",
    "        'cash_at_beginning_of_year': 7e6,\n",
    "        'cash_at_end_of_year': 10e6\n",
    "    },\n",
    "    {\n",
    "        'year': [1,2],\n",
    "        'ships_departed': [3,2],\n",
    "        'ships_returned': [1,1],\n",
    "        'ships_sunk': [0,1]\n",
    "    }\n",
    "]"
   ]
  },
  {
   "cell_type": "code",
   "execution_count": 4,
   "metadata": {},
   "outputs": [
    {
     "data": {
      "text/plain": [
       "3"
      ]
     },
     "execution_count": 4,
     "metadata": {},
     "output_type": "execute_result"
    }
   ],
   "source": [
    "\n",
    "# tailwinds_fin_report[1]['number_of_ships']\n",
    "\n",
    "tailwinds_fin_report[-1]['ships_departed'][0]"
   ]
  },
  {
   "cell_type": "code",
   "execution_count": 5,
   "metadata": {},
   "outputs": [],
   "source": [
    "tailwinds_income_statement = [\n",
    "    {\n",
    "        'year': 1,\n",
    "        'revenue': 5e6, # $5m/arrival\n",
    "        'operating_expenses': -1e6, # $1m/arrival\n",
    "        'depreciation': 0.5e6, # $ 500k/arrival\n",
    "        'writeoff_sunken_ship': 0,\n",
    "        'writeoff_operating_costs_sunken_ship': 0, # $1m/ship\n",
    "        'net_income': 3.5e6,\n",
    "        'retained_earnings_beginning_year': 0,\n",
    "        'retained_earnings_end_year': 3.5e6,\n",
    "        'cash': 7e6,\n",
    "        'prepaid_expenses': 2.0e6, # $1m/voyage\n",
    "        'ships_at_cost': 15e6, # $5m/ship\n",
    "        'less_accumulated_depreciation': -0.5e6,\n",
    "        'total_assets': 23.5e6,\n",
    "        'contributed_capital': 20e6,\n",
    "        'retained_earnings': 3.5e6,\n",
    "        'total_equity': 23.5,\n",
    "    },\n",
    "    {\n",
    "        'year': 2,\n",
    "        'revenue': 5e6,         # $5m/arrival\n",
    "        'operating_expenses': -1e6, # $1m/arrival\n",
    "        'depreciation': 0.5e6, # $ 500k/arrival\n",
    "        'writeoff_sunken_ship': -4.5e6,\n",
    "        'writeoff_operating_costs_sunken_ship': -1e6, # $1m/ship\n",
    "        'net_income': -2e6,\n",
    "        'retained_earnings_beginning_year': 3.5e6,\n",
    "        'retained_earnings_end_year': 1.5e6,\n",
    "        'cash': 10e6,\n",
    "        'prepaid_expenses': 2.0e6, # $1m/voyage\n",
    "        'ships_at_cost': 10e6, # $5m/ship\n",
    "        'less_accumulated_depreciation': -0.5e6,\n",
    "        'total_assets': 21.5e6,\n",
    "        'contributed_capital': 20e6,\n",
    "        'retained_earnings': 1.5e6,\n",
    "        'total_equity': 21.5,\n",
    "    }\n",
    "]"
   ]
  },
  {
   "cell_type": "code",
   "execution_count": 6,
   "metadata": {},
   "outputs": [
    {
     "data": {
      "text/plain": [
       "23500000.0"
      ]
     },
     "execution_count": 6,
     "metadata": {},
     "output_type": "execute_result"
    }
   ],
   "source": [
    "tailwinds_income_statement[0]['total_assets']"
   ]
  },
  {
   "cell_type": "code",
   "execution_count": 7,
   "metadata": {},
   "outputs": [],
   "source": [
    "tailwinds_accrual = [\n",
    "    {\n",
    "        'reporting_basis': 'cash',\n",
    "        'performance_measure': 'operating cashflow',\n",
    "        'year_1': 2e6,\n",
    "        'year_2': 3e6\n",
    "    },\n",
    "    {\n",
    "        'reporting_basis': 'accrual',\n",
    "        'performance_measure': 'net income (loss)',\n",
    "        'year_1': 3.5e6,\n",
    "        'year_2': -2e6\n",
    "    }\n",
    "]"
   ]
  },
  {
   "cell_type": "code",
   "execution_count": 8,
   "metadata": {},
   "outputs": [
    {
     "data": {
      "text/plain": [
       "{'reporting_basis': 'cash',\n",
       " 'performance_measure': 'operating cashflow',\n",
       " 'year_1': 2000000.0,\n",
       " 'year_2': 3000000.0}"
      ]
     },
     "execution_count": 8,
     "metadata": {},
     "output_type": "execute_result"
    }
   ],
   "source": [
    "tailwinds_accrual[0]"
   ]
  },
  {
   "cell_type": "code",
   "execution_count": null,
   "metadata": {},
   "outputs": [],
   "source": []
  }
 ],
 "metadata": {
  "kernelspec": {
   "display_name": "Python 3",
   "language": "python",
   "name": "python3"
  },
  "language_info": {
   "codemirror_mode": {
    "name": "ipython",
    "version": 3
   },
   "file_extension": ".py",
   "mimetype": "text/x-python",
   "name": "python",
   "nbconvert_exporter": "python",
   "pygments_lexer": "ipython3",
   "version": "3.11.0"
  },
  "orig_nbformat": 4
 },
 "nbformat": 4,
 "nbformat_minor": 2
}
